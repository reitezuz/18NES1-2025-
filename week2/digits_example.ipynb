{
  "nbformat": 4,
  "nbformat_minor": 0,
  "metadata": {
    "colab": {
      "provenance": [],
      "toc_visible": true,
      "authorship_tag": "ABX9TyOtGcCVxRm+fvNxZNdHBNXc",
      "include_colab_link": true
    },
    "kernelspec": {
      "name": "python3",
      "display_name": "Python 3"
    },
    "language_info": {
      "name": "python"
    }
  },
  "cells": [
    {
      "cell_type": "markdown",
      "metadata": {
        "id": "view-in-github",
        "colab_type": "text"
      },
      "source": [
        "<a href=\"https://colab.research.google.com/github/reitezuz/18NES1-2025-/blob/main/week2/digits_example.ipynb\" target=\"_parent\"><img src=\"https://colab.research.google.com/assets/colab-badge.svg\" alt=\"Open In Colab\"/></a>"
      ]
    },
    {
      "cell_type": "markdown",
      "source": [
        "# Example 7:  Handwritten digits\n",
        "#### Dataset Description:\n",
        "The dataset consists of 2950 black and white images of handwritten digits represented as numerical arrays.\n",
        "Each image is a 16x16 grid where pixel values are either -1 (black) or 1 (white).\n",
        "- The first column in the dataset contains the class label, which represents the digit (1-10). 10 is the label for gigit 0.\n",
        "- The remaining columns contain pixel values for the respective image."
      ],
      "metadata": {
        "id": "0aPvurVo7Rev"
      }
    },
    {
      "cell_type": "code",
      "execution_count": 3,
      "metadata": {
        "colab": {
          "base_uri": "https://localhost:8080/"
        },
        "id": "zFXat4Bh8g5M",
        "outputId": "51644c56-fef7-40b4-fa2b-67989b256269"
      },
      "outputs": [
        {
          "output_type": "execute_result",
          "data": {
            "text/plain": [
              "('perceptron_library.py', <http.client.HTTPMessage at 0x7b0fcd681c90>)"
            ]
          },
          "metadata": {},
          "execution_count": 3
        }
      ],
      "source": [
        "# load the perceptron_library.py file into google colab\n",
        "import urllib.request\n",
        "\n",
        "url = 'https://raw.githubusercontent.com/reitezuz/18NES1-2025-/refs/heads/main/week2/perceptron_library.py'\n",
        "filename = 'perceptron_library.py'\n",
        "urllib.request.urlretrieve(url, filename)\n"
      ]
    },
    {
      "cell_type": "code",
      "source": [
        "# import libraries\n",
        "from perceptron_library import *\n",
        "import numpy as np\n",
        "import time\n",
        "import pandas as pd\n",
        "import matplotlib.pyplot as plt\n"
      ],
      "metadata": {
        "id": "8suBKRxZ8q_O"
      },
      "execution_count": 4,
      "outputs": []
    },
    {
      "cell_type": "markdown",
      "source": [
        "### Auxiliary functions\n"
      ],
      "metadata": {
        "id": "LmBO3EWDPIIk"
      }
    },
    {
      "cell_type": "code",
      "source": [
        "im_size = 16\n",
        "\n",
        "def load_digits_data():\n",
        "    \"\"\" Load image data from a CSV file hosted on GitHub into numpy arrays \"\"\"\n",
        "    github_url = \"https://github.com/reitezuz/18NES1-2025-/blob/55cb9d26187c960873bf576ffdfdff0f658e662a/week2/OcrData.csv\"\n",
        "    url = github_url.replace(\"github.com\", \"raw.githubusercontent.com\").replace(\"blob/\", \"\")\n",
        "    df = pd.read_csv(url, header=None)\n",
        "    labels = df.iloc[:, 0].values   # First column is the class label\n",
        "    inputs = df.iloc[:, 1:].values  # Remaining columns are features (-1, 1)\n",
        "    return inputs, labels\n",
        "\n",
        "def visualize_digit(X, labels, index):\n",
        "    \"\"\" Visualize the i-th row of the data as a 50x50 black and white image \"\"\"\n",
        "    image = X[index].reshape(im_size, im_size)  # Reshape to im_size x im_size\n",
        "    digit = labels[index]\n",
        "    plt.figure(figsize=(2,2))         # Figure size\n",
        "    image = np.fliplr(np.rot90(image, k=3))\n",
        "    image = -image\n",
        "    plt.imshow(image, cmap='gray', vmin=-1, vmax=1)\n",
        "    plt.title(f\"Diget Image at Index {index} ... {digit}\")\n",
        "    plt.axis('off')\n",
        "    plt.show()\n",
        "\n",
        "\n",
        "def add_noise(X, alpha=0.01):\n",
        "    \"\"\" Add salt & pepper noise to the dataset and apply median filtering \"\"\"\n",
        "    from scipy.ndimage import median_filter\n",
        "    X = (X + 1) / 2  # Convert from [-1,1] to [0,1]\n",
        "    X_noisy = X.copy()\n",
        "    X_denoised = X.copy()\n",
        "\n",
        "    for i in range(X.shape[0]):\n",
        "        img = X[i].reshape(im_size, im_size)\n",
        "\n",
        "        # Add salt & pepper noise\n",
        "        noisy_img = img.copy()\n",
        "        noise = np.random.choice([0, 1, -1], size=img.shape, p=[1 - alpha, alpha / 2, alpha / 2])\n",
        "        noisy_img[noise == -1] = 0  # Salt (white)\n",
        "        noisy_img[noise == 1] = 1   # Pepper (black)\n",
        "\n",
        "        # Apply median filter\n",
        "        denoised_img = median_filter(noisy_img, size=3)\n",
        "\n",
        "        # Flatten back to vector form\n",
        "        X_noisy[i] = noisy_img.flatten()\n",
        "        X_denoised[i] = denoised_img.flatten()\n",
        "\n",
        "    X_noisy = X_noisy * 2 - 1  # Convert back to [-1,1]\n",
        "    X_denoised = X_denoised * 2 - 1  # Convert back to [-1,1]\n",
        "\n",
        "    return X_noisy, X_denoised\n",
        "\n",
        "def show_noisy_and_denoised(X_original, X_noisy, X_denoised, index):\n",
        "    \"\"\" Display original, noisy, and denoised images side by side \"\"\"\n",
        "    fig, axes = plt.subplots(1, 3, figsize=(10, 5))\n",
        "\n",
        "    original_img = X_original[index].reshape(im_size, im_size)\n",
        "    original_img = - np.fliplr(np.rot90(original_img , k=3))\n",
        "    noisy_img = X_noisy[index].reshape(im_size, im_size)\n",
        "    noisy_img = - np.fliplr(np.rot90(noisy_img , k=3))\n",
        "    denoised_img = X_denoised[index].reshape(im_size, im_size)\n",
        "    denoised_img = - np.fliplr(np.rot90(denoised_img , k=3))\n",
        "\n",
        "    axes[0].imshow(original_img, cmap='gray', vmin=-1, vmax=1)\n",
        "    axes[0].set_title(\"Original Image\")\n",
        "    axes[0].axis('off')\n",
        "\n",
        "    axes[1].imshow(noisy_img, cmap='gray', vmin=-1, vmax=1)\n",
        "    axes[1].set_title(\"Noisy Image\")\n",
        "    axes[1].axis('off')\n",
        "\n",
        "    axes[2].imshow(denoised_img, cmap='gray', vmin=-1, vmax=1)\n",
        "    axes[2].set_title(\"Denoised Image\")\n",
        "    axes[2].axis('off')\n",
        "\n",
        "    plt.show()\n",
        "\n",
        "def run_example_multiple_times(experiment_results, inputs, test_inputs1, test_inputs2, true_outputs, epochs, weights, bias, binary, learning_rate, print_progress, variant, data_description, num_runs=100):\n",
        "    times = []\n",
        "    errors = []\n",
        "    test_errors1 = []\n",
        "    test_errors2 = []\n",
        "    epoch_counts = []\n",
        "\n",
        "    for _ in range(num_runs):\n",
        "        perceptron = Perceptron(weights, bias, binary)\n",
        "        start_time = time.time()\n",
        "        if variant == 'rosenblatt best':\n",
        "            perceptron.rosenblatt_iterative_best(inputs, true_outputs, learning_rate, epochs, False)  # Suppress individual run progress\n",
        "        elif variant == 'rosenblatt iterative':\n",
        "            perceptron.rosenblatt_iterative(inputs, true_outputs, learning_rate, epochs, False)\n",
        "        elif variant == 'rosenblatt batch':\n",
        "            perceptron.rosenblatt_batch(inputs, true_outputs, learning_rate, epochs, False)\n",
        "        else:\n",
        "            perceptron.hebbian(inputs, true_outputs, False)\n",
        "        end_time = time.time()\n",
        "        elapsed_time = end_time - start_time\n",
        "\n",
        "        real_outputs = perceptron.forward(inputs)\n",
        "        test_outputs1 = perceptron.forward(test_inputs1)\n",
        "        test_outputs2 = perceptron.forward(test_inputs2)\n",
        "        error = perceptron_error(true_outputs, real_outputs)\n",
        "        test_error1 = perceptron_error(true_outputs, test_outputs1)\n",
        "        test_error2 = perceptron_error(true_outputs, test_outputs2)\n",
        "\n",
        "        times.append(elapsed_time)\n",
        "        errors.append(error)\n",
        "        test_errors1.append(test_error1)\n",
        "        test_errors2.append(test_error2)\n",
        "        epoch_counts.append(perceptron.epochs)\n",
        "\n",
        "    avg_time = np.mean(times)\n",
        "    avg_error = np.mean(errors)\n",
        "    avg_test_error1 = np.mean(test_errors1)\n",
        "    avg_test_error2 = np.mean(test_errors2)\n",
        "    avg_epochs = np.mean(epoch_counts)\n",
        "\n",
        "    results = {\n",
        "        'Epochs': avg_epochs,\n",
        "        'Error': avg_error,\n",
        "        'Test Error 1': avg_test_error1,\n",
        "        'Test Error 2': avg_test_error2,\n",
        "        'Time': avg_time,\n",
        "        'Variant': variant,\n",
        "        'Learning Rate': learning_rate,\n",
        "        'Max Epochs': epochs,\n",
        "        'Weights': perceptron.weights, #Note: Weights and bias are from the last run.\n",
        "        'Bias': perceptron.bias,\n",
        "        'Data Description': data_description\n",
        "    }\n",
        "    experiment_results.loc[len(experiment_results)] = results\n",
        "    return perceptron"
      ],
      "metadata": {
        "id": "fLWsY0Dv8QoI"
      },
      "execution_count": 5,
      "outputs": []
    },
    {
      "cell_type": "markdown",
      "source": [
        "### Analyze the data:"
      ],
      "metadata": {
        "id": "jxkHHmKzT6aK"
      }
    },
    {
      "cell_type": "code",
      "source": [
        "# Load the data:\n",
        "[inputs, labels] = load_digits_data()\n",
        "\n",
        "print(np.shape(inputs), np.shape(labels))\n",
        "print(np.max(inputs), np.min(inputs), np.max(labels), np.min(labels))\n",
        "\n"
      ],
      "metadata": {
        "id": "snAT822a8x7T",
        "outputId": "fcaf9ec6-f35a-4957-ff7b-9fb860e0b31e",
        "colab": {
          "base_uri": "https://localhost:8080/"
        }
      },
      "execution_count": 6,
      "outputs": [
        {
          "output_type": "stream",
          "name": "stdout",
          "text": [
            "(2950, 256) (2950,)\n",
            "1 -1 10 1\n"
          ]
        }
      ]
    },
    {
      "cell_type": "code",
      "source": [
        "# Visualize some digits:\n",
        "for index in [5, 680, 1800]:\n",
        "    visualize_digit(inputs, labels, index)"
      ],
      "metadata": {
        "id": "ffbpoOB39DzB",
        "outputId": "66fe7d31-8ae4-4fa4-887d-0611cfe67dbd",
        "colab": {
          "base_uri": "https://localhost:8080/",
          "height": 605
        }
      },
      "execution_count": 7,
      "outputs": [
        {
          "output_type": "display_data",
          "data": {
            "text/plain": [
              "<Figure size 200x200 with 1 Axes>"
            ],
            "image/png": "[encoded data removed]"
          },
          "metadata": {}
        },
        {
          "output_type": "display_data",
          "data": {
            "text/plain": [
              "<Figure size 200x200 with 1 Axes>"
            ],
            "image/png": "[encoded data removed]"
          },
          "metadata": {}
        },
        {
          "output_type": "display_data",
          "data": {
            "text/plain": [
              "<Figure size 200x200 with 1 Axes>"
            ],
            "image/png": "[encoded data removed]"
          },
          "metadata": {}
        }
      ]
    },
    {
      "cell_type": "markdown",
      "source": [
        "Create the testing set by adding noise and denoising:\n",
        "- experiment with the level of noise, alpha"
      ],
      "metadata": {
        "id": "zeV_T5esSOeF"
      }
    },
    {
      "cell_type": "code",
      "source": [
        "[inputs_noisy, inputs_denoised] = add_noise(inputs, alpha=0.1)\n",
        "index = 2180\n",
        "show_noisy_and_denoised(inputs, inputs_noisy, inputs_denoised, index)"
      ],
      "metadata": {
        "id": "HdOng0v4BhBG",
        "outputId": "a3f6d614-d243-48e1-9305-30e8319f796a",
        "colab": {
          "base_uri": "https://localhost:8080/",
          "height": 287
        }
      },
      "execution_count": 8,
      "outputs": [
        {
          "output_type": "display_data",
          "data": {
            "text/plain": [
              "<Figure size 1000x500 with 3 Axes>"
            ],
            "image/png": "[encoded data removed]"
          },
          "metadata": {}
        }
      ]
    },
    {
      "cell_type": "markdown",
      "source": [
        "### Example: Train the Perceptron to recognize a digit"
      ],
      "metadata": {
        "id": "euzT289vVfvo"
      }
    },
    {
      "cell_type": "code",
      "source": [
        "# DataFrame to store the results for comparisons\n",
        "experiment_results_let = pd.DataFrame(columns=['Error', 'Test Error 1', 'Test Error 2', 'Epochs', 'Time', 'Variant', 'Learning Rate', 'Max Epochs', 'Weights', 'Bias', 'Data Description'])"
      ],
      "metadata": {
        "id": "Tc2Zf10B7Re1"
      },
      "execution_count": 9,
      "outputs": []
    },
    {
      "cell_type": "markdown",
      "source": [
        "- set the parametrers, run the experiment and observe the results:"
      ],
      "metadata": {
        "id": "PnW1M_MH7Re2"
      }
    },
    {
      "cell_type": "code",
      "source": [
        "digit_index = 5 # 1...10\n",
        "alpha = 0.1       # level of noise in the testing data\n",
        "\n",
        "# Preprocess the data:\n",
        "[inputs, labels] = load_digits_data()\n",
        "[inputs_noisy, inputs_denoised] = add_noise(inputs, alpha=alpha)\n",
        "true_outputs = np.where(labels == digit_index, 1, -1)\n",
        "data_description = \"Digit \" + str(digit_index) + f\" {(sum(true_outputs == 1))}\"\n",
        "\n",
        "# Set Perceptron parameters:\n",
        "weights = np.zeros(inputs.shape[1])\n",
        "bias = 0\n",
        "binary = False\n",
        "epochs = 200\n",
        "learning_rate = 1\n",
        "print_progress = False\n",
        "variant = 'rosenblatt iterative' # 'rosenblatt best','rosenblatt iterative', 'rosenblatt batch', 'hebbian'\n",
        "\n",
        "# run the experiment:\n",
        "perceptron = run_example_multiple_times(experiment_results_let, inputs, inputs_noisy, inputs_denoised, true_outputs, epochs, weights, bias, binary, learning_rate, print_progress, variant, data_description, num_runs=1)\n",
        "\n",
        "print(\"\\nExperiment Results:\")\n",
        "experiment_results_let"
      ],
      "metadata": {
        "colab": {
          "base_uri": "https://localhost:8080/",
          "height": 199
        },
        "outputId": "3dc7c9d4-6480-4cbe-ae2f-9d3d459e3572",
        "id": "cf7Fg7aI7Re3"
      },
      "execution_count": 11,
      "outputs": [
        {
          "output_type": "stream",
          "name": "stdout",
          "text": [
            "\n",
            "Experiment Results:\n"
          ]
        },
        {
          "output_type": "execute_result",
          "data": {
            "text/plain": [
              "   Error  Test Error 1  Test Error 2  Epochs       Time               Variant  \\\n",
              "0    0.0          35.0         228.0     7.0   1.612401  rosenblatt iterative   \n",
              "1   42.0         278.0         311.0   200.0  18.998627  rosenblatt iterative   \n",
              "\n",
              "   Learning Rate  Max Epochs  \\\n",
              "0              1         200   \n",
              "1              1         200   \n",
              "\n",
              "                                             Weights  Bias Data Description  \n",
              "0  [3.0, 3.0, 3.0, 3.0, 3.0, 9.0, 9.0, 7.0, 7.0, ...    -3     Digit 10 300  \n",
              "1  [-67.0, 109.0, 23.0, -15.0, -25.0, 115.0, -27....  -825      Digit 5 250  "
            ],
            "text/html": [
              "\n",
              "  <div id=\"df-4bb8f23f-1b18-45f8-bfb1-6373e4c28080\" class=\"colab-df-container\">\n",
              "    <div>\n",
              "<style scoped>\n",
              "    .dataframe tbody tr th:only-of-type {\n",
              "        vertical-align: middle;\n",
              "    }\n",
              "\n",
              "    .dataframe tbody tr th {\n",
              "        vertical-align: top;\n",
              "    }\n",
              "\n",
              "    .dataframe thead th {\n",
              "        text-align: right;\n",
              "    }\n",
              "</style>\n",
              "<table border=\"1\" class=\"dataframe\">\n",
              "  <thead>\n",
              "    <tr style=\"text-align: right;\">\n",
              "      <th></th>\n",
              "      <th>Error</th>\n",
              "      <th>Test Error 1</th>\n",
              "      <th>Test Error 2</th>\n",
              "      <th>Epochs</th>\n",
              "      <th>Time</th>\n",
              "      <th>Variant</th>\n",
              "      <th>Learning Rate</th>\n",
              "      <th>Max Epochs</th>\n",
              "      <th>Weights</th>\n",
              "      <th>Bias</th>\n",
              "      <th>Data Description</th>\n",
              "    </tr>\n",
              "  </thead>\n",
              "  <tbody>\n",
              "    <tr>\n",
              "      <th>0</th>\n",
              "      <td>0.0</td>\n",
              "      <td>35.0</td>\n",
              "      <td>228.0</td>\n",
              "      <td>7.0</td>\n",
              "      <td>1.612401</td>\n",
              "      <td>rosenblatt iterative</td>\n",
              "      <td>1</td>\n",
              "      <td>200</td>\n",
              "      <td>[3.0, 3.0, 3.0, 3.0, 3.0, 9.0, 9.0, 7.0, 7.0, ...</td>\n",
              "      <td>-3</td>\n",
              "      <td>Digit 10 300</td>\n",
              "    </tr>\n",
              "    <tr>\n",
              "      <th>1</th>\n",
              "      <td>42.0</td>\n",
              "      <td>278.0</td>\n",
              "      <td>311.0</td>\n",
              "      <td>200.0</td>\n",
              "      <td>18.998627</td>\n",
              "      <td>rosenblatt iterative</td>\n",
              "      <td>1</td>\n",
              "      <td>200</td>\n",
              "      <td>[-67.0, 109.0, 23.0, -15.0, -25.0, 115.0, -27....</td>\n",
              "      <td>-825</td>\n",
              "      <td>Digit 5 250</td>\n",
              "    </tr>\n",
              "  </tbody>\n",
              "</table>\n",
              "</div>\n",
              "    <div class=\"colab-df-buttons\">\n",
              "\n",
              "  <div class=\"colab-df-container\">\n",
              "    <button class=\"colab-df-convert\" onclick=\"convertToInteractive('df-4bb8f23f-1b18-45f8-bfb1-6373e4c28080')\"\n",
              "            title=\"Convert this dataframe to an interactive table.\"\n",
              "            style=\"display:none;\">\n",
              "\n",
              "  <svg xmlns=\"http://www.w3.org/2000/svg\" height=\"24px\" viewBox=\"0 -960 960 960\">\n",
              "    <path d=\"M120-120v-720h720v720H120Zm60-500h600v-160H180v160Zm220 220h160v-160H400v160Zm0 220h160v-160H400v160ZM180-400h160v-160H180v160Zm440 0h160v-160H620v160ZM180-180h160v-160H180v160Zm440 0h160v-160H620v160Z\"/>\n",
              "  </svg>\n",
              "    </button>\n",
              "\n",
              "  <style>\n",
              "    .colab-df-container {\n",
              "      display:flex;\n",
              "      gap: 12px;\n",
              "    }\n",
              "\n",
              "    .colab-df-convert {\n",
              "      background-color: #E8F0FE;\n",
              "      border: none;\n",
              "      border-radius: 50%;\n",
              "      cursor: pointer;\n",
              "      display: none;\n",
              "      fill: #1967D2;\n",
              "      height: 32px;\n",
              "      padding: 0 0 0 0;\n",
              "      width: 32px;\n",
              "    }\n",
              "\n",
              "    .colab-df-convert:hover {\n",
              "      background-color: #E2EBFA;\n",
              "      box-shadow: 0px 1px 2px rgba(60, 64, 67, 0.3), 0px 1px 3px 1px rgba(60, 64, 67, 0.15);\n",
              "      fill: #174EA6;\n",
              "    }\n",
              "\n",
              "    .colab-df-buttons div {\n",
              "      margin-bottom: 4px;\n",
              "    }\n",
              "\n",
              "    [theme=dark] .colab-df-convert {\n",
              "      background-color: #3B4455;\n",
              "      fill: #D2E3FC;\n",
              "    }\n",
              "\n",
              "    [theme=dark] .colab-df-convert:hover {\n",
              "      background-color: #434B5C;\n",
              "      box-shadow: 0px 1px 3px 1px rgba(0, 0, 0, 0.15);\n",
              "      filter: drop-shadow(0px 1px 2px rgba(0, 0, 0, 0.3));\n",
              "      fill: #FFFFFF;\n",
              "    }\n",
              "  </style>\n",
              "\n",
              "    <script>\n",
              "      const buttonEl =\n",
              "        document.querySelector('#df-4bb8f23f-1b18-45f8-bfb1-6373e4c28080 button.colab-df-convert');\n",
              "      buttonEl.style.display =\n",
              "        google.colab.kernel.accessAllowed ? 'block' : 'none';\n",
              "\n",
              "      async function convertToInteractive(key) {\n",
              "        const element = document.querySelector('#df-4bb8f23f-1b18-45f8-bfb1-6373e4c28080');\n",
              "        const dataTable =\n",
              "          await google.colab.kernel.invokeFunction('convertToInteractive',\n",
              "                                                    [key], {});\n",
              "        if (!dataTable) return;\n",
              "\n",
              "        const docLinkHtml = 'Like what you see? Visit the ' +\n",
              "          '<a target=\"_blank\" href=https://colab.research.google.com/notebooks/data_table.ipynb>data table notebook</a>'\n",
              "          + ' to learn more about interactive tables.';\n",
              "        element.innerHTML = '';\n",
              "        dataTable['output_type'] = 'display_data';\n",
              "        await google.colab.output.renderOutput(dataTable, element);\n",
              "        const docLink = document.createElement('div');\n",
              "        docLink.innerHTML = docLinkHtml;\n",
              "        element.appendChild(docLink);\n",
              "      }\n",
              "    </script>\n",
              "  </div>\n",
              "\n",
              "\n",
              "<div id=\"df-b7d387b6-f7de-41b6-8652-6df7d06c191c\">\n",
              "  <button class=\"colab-df-quickchart\" onclick=\"quickchart('df-b7d387b6-f7de-41b6-8652-6df7d06c191c')\"\n",
              "            title=\"Suggest charts\"\n",
              "            style=\"display:none;\">\n",
              "\n",
              "<svg xmlns=\"http://www.w3.org/2000/svg\" height=\"24px\"viewBox=\"0 0 24 24\"\n",
              "     width=\"24px\">\n",
              "    <g>\n",
              "        <path d=\"M19 3H5c-1.1 0-2 .9-2 2v14c0 1.1.9 2 2 2h14c1.1 0 2-.9 2-2V5c0-1.1-.9-2-2-2zM9 17H7v-7h2v7zm4 0h-2V7h2v10zm4 0h-2v-4h2v4z\"/>\n",
              "    </g>\n",
              "</svg>\n",
              "  </button>\n",
              "\n",
              "<style>\n",
              "  .colab-df-quickchart {\n",
              "      --bg-color: #E8F0FE;\n",
              "      --fill-color: #1967D2;\n",
              "      --hover-bg-color: #E2EBFA;\n",
              "      --hover-fill-color: #174EA6;\n",
              "      --disabled-fill-color: #AAA;\n",
              "      --disabled-bg-color: #DDD;\n",
              "  }\n",
              "\n",
              "  [theme=dark] .colab-df-quickchart {\n",
              "      --bg-color: #3B4455;\n",
              "      --fill-color: #D2E3FC;\n",
              "      --hover-bg-color: #434B5C;\n",
              "      --hover-fill-color: #FFFFFF;\n",
              "      --disabled-bg-color: #3B4455;\n",
              "      --disabled-fill-color: #666;\n",
              "  }\n",
              "\n",
              "  .colab-df-quickchart {\n",
              "    background-color: var(--bg-color);\n",
              "    border: none;\n",
              "    border-radius: 50%;\n",
              "    cursor: pointer;\n",
              "    display: none;\n",
              "    fill: var(--fill-color);\n",
              "    height: 32px;\n",
              "    padding: 0;\n",
              "    width: 32px;\n",
              "  }\n",
              "\n",
              "  .colab-df-quickchart:hover {\n",
              "    background-color: var(--hover-bg-color);\n",
              "    box-shadow: 0 1px 2px rgba(60, 64, 67, 0.3), 0 1px 3px 1px rgba(60, 64, 67, 0.15);\n",
              "    fill: var(--button-hover-fill-color);\n",
              "  }\n",
              "\n",
              "  .colab-df-quickchart-complete:disabled,\n",
              "  .colab-df-quickchart-complete:disabled:hover {\n",
              "    background-color: var(--disabled-bg-color);\n",
              "    fill: var(--disabled-fill-color);\n",
              "    box-shadow: none;\n",
              "  }\n",
              "\n",
              "  .colab-df-spinner {\n",
              "    border: 2px solid var(--fill-color);\n",
              "    border-color: transparent;\n",
              "    border-bottom-color: var(--fill-color);\n",
              "    animation:\n",
              "      spin 1s steps(1) infinite;\n",
              "  }\n",
              "\n",
              "  @keyframes spin {\n",
              "    0% {\n",
              "      border-color: transparent;\n",
              "      border-bottom-color: var(--fill-color);\n",
              "      border-left-color: var(--fill-color);\n",
              "    }\n",
              "    20% {\n",
              "      border-color: transparent;\n",
              "      border-left-color: var(--fill-color);\n",
              "      border-top-color: var(--fill-color);\n",
              "    }\n",
              "    30% {\n",
              "      border-color: transparent;\n",
              "      border-left-color: var(--fill-color);\n",
              "      border-top-color: var(--fill-color);\n",
              "      border-right-color: var(--fill-color);\n",
              "    }\n",
              "    40% {\n",
              "      border-color: transparent;\n",
              "      border-right-color: var(--fill-color);\n",
              "      border-top-color: var(--fill-color);\n",
              "    }\n",
              "    60% {\n",
              "      border-color: transparent;\n",
              "      border-right-color: var(--fill-color);\n",
              "    }\n",
              "    80% {\n",
              "      border-color: transparent;\n",
              "      border-right-color: var(--fill-color);\n",
              "      border-bottom-color: var(--fill-color);\n",
              "    }\n",
              "    90% {\n",
              "      border-color: transparent;\n",
              "      border-bottom-color: var(--fill-color);\n",
              "    }\n",
              "  }\n",
              "</style>\n",
              "\n",
              "  <script>\n",
              "    async function quickchart(key) {\n",
              "      const quickchartButtonEl =\n",
              "        document.querySelector('#' + key + ' button');\n",
              "      quickchartButtonEl.disabled = true;  // To prevent multiple clicks.\n",
              "      quickchartButtonEl.classList.add('colab-df-spinner');\n",
              "      try {\n",
              "        const charts = await google.colab.kernel.invokeFunction(\n",
              "            'suggestCharts', [key], {});\n",
              "      } catch (error) {\n",
              "        console.error('Error during call to suggestCharts:', error);\n",
              "      }\n",
              "      quickchartButtonEl.classList.remove('colab-df-spinner');\n",
              "      quickchartButtonEl.classList.add('colab-df-quickchart-complete');\n",
              "    }\n",
              "    (() => {\n",
              "      let quickchartButtonEl =\n",
              "        document.querySelector('#df-b7d387b6-f7de-41b6-8652-6df7d06c191c button');\n",
              "      quickchartButtonEl.style.display =\n",
              "        google.colab.kernel.accessAllowed ? 'block' : 'none';\n",
              "    })();\n",
              "  </script>\n",
              "</div>\n",
              "\n",
              "  <div id=\"id_bac37594-39d5-4104-b9a1-f0f5acf0aed5\">\n",
              "    <style>\n",
              "      .colab-df-generate {\n",
              "        background-color: #E8F0FE;\n",
              "        border: none;\n",
              "        border-radius: 50%;\n",
              "        cursor: pointer;\n",
              "        display: none;\n",
              "        fill: #1967D2;\n",
              "        height: 32px;\n",
              "        padding: 0 0 0 0;\n",
              "        width: 32px;\n",
              "      }\n",
              "\n",
              "      .colab-df-generate:hover {\n",
              "        background-color: #E2EBFA;\n",
              "        box-shadow: 0px 1px 2px rgba(60, 64, 67, 0.3), 0px 1px 3px 1px rgba(60, 64, 67, 0.15);\n",
              "        fill: #174EA6;\n",
              "      }\n",
              "\n",
              "      [theme=dark] .colab-df-generate {\n",
              "        background-color: #3B4455;\n",
              "        fill: #D2E3FC;\n",
              "      }\n",
              "\n",
              "      [theme=dark] .colab-df-generate:hover {\n",
              "        background-color: #434B5C;\n",
              "        box-shadow: 0px 1px 3px 1px rgba(0, 0, 0, 0.15);\n",
              "        filter: drop-shadow(0px 1px 2px rgba(0, 0, 0, 0.3));\n",
              "        fill: #FFFFFF;\n",
              "      }\n",
              "    </style>\n",
              "    <button class=\"colab-df-generate\" onclick=\"generateWithVariable('experiment_results_let')\"\n",
              "            title=\"Generate code using this dataframe.\"\n",
              "            style=\"display:none;\">\n",
              "\n",
              "  <svg xmlns=\"http://www.w3.org/2000/svg\" height=\"24px\"viewBox=\"0 0 24 24\"\n",
              "       width=\"24px\">\n",
              "    <path d=\"M7,19H8.4L18.45,9,17,7.55,7,17.6ZM5,21V16.75L18.45,3.32a2,2,0,0,1,2.83,0l1.4,1.43a1.91,1.91,0,0,1,.58,1.4,1.91,1.91,0,0,1-.58,1.4L9.25,21ZM18.45,9,17,7.55Zm-12,3A5.31,5.31,0,0,0,4.9,8.1,5.31,5.31,0,0,0,1,6.5,5.31,5.31,0,0,0,4.9,4.9,5.31,5.31,0,0,0,6.5,1,5.31,5.31,0,0,0,8.1,4.9,5.31,5.31,0,0,0,12,6.5,5.46,5.46,0,0,0,6.5,12Z\"/>\n",
              "  </svg>\n",
              "    </button>\n",
              "    <script>\n",
              "      (() => {\n",
              "      const buttonEl =\n",
              "        document.querySelector('#id_bac37594-39d5-4104-b9a1-f0f5acf0aed5 button.colab-df-generate');\n",
              "      buttonEl.style.display =\n",
              "        google.colab.kernel.accessAllowed ? 'block' : 'none';\n",
              "\n",
              "      buttonEl.onclick = () => {\n",
              "        google.colab.notebook.generateWithVariable('experiment_results_let');\n",
              "      }\n",
              "      })();\n",
              "    </script>\n",
              "  </div>\n",
              "\n",
              "    </div>\n",
              "  </div>\n"
            ],
            "application/vnd.google.colaboratory.intrinsic+json": {
              "type": "dataframe",
              "variable_name": "experiment_results_let",
              "summary": "{\n  \"name\": \"experiment_results_let\",\n  \"rows\": 2,\n  \"fields\": [\n    {\n      \"column\": \"Error\",\n      \"properties\": {\n        \"dtype\": \"number\",\n        \"std\": 29.698484809834994,\n        \"min\": 0.0,\n        \"max\": 42.0,\n        \"num_unique_values\": 2,\n        \"samples\": [\n          42.0,\n          0.0\n        ],\n        \"semantic_type\": \"\",\n        \"description\": \"\"\n      }\n    },\n    {\n      \"column\": \"Test Error 1\",\n      \"properties\": {\n        \"dtype\": \"number\",\n        \"std\": 171.82694782833104,\n        \"min\": 35.0,\n        \"max\": 278.0,\n        \"num_unique_values\": 2,\n        \"samples\": [\n          278.0,\n          35.0\n        ],\n        \"semantic_type\": \"\",\n        \"description\": \"\"\n      }\n    },\n    {\n      \"column\": \"Test Error 2\",\n      \"properties\": {\n        \"dtype\": \"number\",\n        \"std\": 58.68986283848344,\n        \"min\": 228.0,\n        \"max\": 311.0,\n        \"num_unique_values\": 2,\n        \"samples\": [\n          311.0,\n          228.0\n        ],\n        \"semantic_type\": \"\",\n        \"description\": \"\"\n      }\n    },\n    {\n      \"column\": \"Epochs\",\n      \"properties\": {\n        \"dtype\": \"number\",\n        \"std\": 136.47160876900367,\n        \"min\": 7.0,\n        \"max\": 200.0,\n        \"num_unique_values\": 2,\n        \"samples\": [\n          200.0,\n          7.0\n        ],\n        \"semantic_type\": \"\",\n        \"description\": \"\"\n      }\n    },\n    {\n      \"column\": \"Time\",\n      \"properties\": {\n        \"dtype\": \"number\",\n        \"std\": 12.293918260564805,\n        \"min\": 1.6124014854431152,\n        \"max\": 18.998627424240112,\n        \"num_unique_values\": 2,\n        \"samples\": [\n          18.998627424240112,\n          1.6124014854431152\n        ],\n        \"semantic_type\": \"\",\n        \"description\": \"\"\n      }\n    },\n    {\n      \"column\": \"Variant\",\n      \"properties\": {\n        \"dtype\": \"string\",\n        \"num_unique_values\": 1,\n        \"samples\": [\n          \"rosenblatt iterative\"\n        ],\n        \"semantic_type\": \"\",\n        \"description\": \"\"\n      }\n    },\n    {\n      \"column\": \"Learning Rate\",\n      \"properties\": {\n        \"dtype\": \"number\",\n        \"std\": 0,\n        \"min\": 1,\n        \"max\": 1,\n        \"num_unique_values\": 1,\n        \"samples\": [\n          1\n        ],\n        \"semantic_type\": \"\",\n        \"description\": \"\"\n      }\n    },\n    {\n      \"column\": \"Max Epochs\",\n      \"properties\": {\n        \"dtype\": \"number\",\n        \"std\": 0,\n        \"min\": 200,\n        \"max\": 200,\n        \"num_unique_values\": 1,\n        \"samples\": [\n          200\n        ],\n        \"semantic_type\": \"\",\n        \"description\": \"\"\n      }\n    },\n    {\n      \"column\": \"Weights\",\n      \"properties\": {\n        \"dtype\": \"object\",\n        \"semantic_type\": \"\",\n        \"description\": \"\"\n      }\n    },\n    {\n      \"column\": \"Bias\",\n      \"properties\": {\n        \"dtype\": \"number\",\n        \"std\": 581,\n        \"min\": -825,\n        \"max\": -3,\n        \"num_unique_values\": 2,\n        \"samples\": [\n          -825\n        ],\n        \"semantic_type\": \"\",\n        \"description\": \"\"\n      }\n    },\n    {\n      \"column\": \"Data Description\",\n      \"properties\": {\n        \"dtype\": \"string\",\n        \"num_unique_values\": 2,\n        \"samples\": [\n          \"Digit 5 250\"\n        ],\n        \"semantic_type\": \"\",\n        \"description\": \"\"\n      }\n    }\n  ]\n}"
            }
          },
          "metadata": {},
          "execution_count": 11
        }
      ]
    },
    {
      "cell_type": "markdown",
      "source": [
        "- visualize the misclassified digits:"
      ],
      "metadata": {
        "id": "7R05zymsVsFz"
      }
    },
    {
      "cell_type": "code",
      "source": [
        "for inputs1 in [inputs, inputs_noisy, inputs_denoised]:\n",
        "    outputs = perceptron.forward(inputs1)\n",
        "\n",
        "    # Find misclassified digits\n",
        "    misclassified_indices = []\n",
        "    outputs = perceptron.forward(inputs1)\n",
        "    for i in range(len(outputs)):\n",
        "        if outputs[i] != true_outputs[i]:\n",
        "            misclassified_indices.append(i)\n",
        "\n",
        "    # Visualize misclassified digits\n",
        "    print(\"Misclassified Digits:\")\n",
        "    for index in misclassified_indices[:5]:\n",
        "        visualize_digit(inputs1, labels, index)\n",
        "        print(f\"  Predicted: {1 if outputs[index] > 0 else -1}, Actual: {true_outputs[index]}\")"
      ],
      "metadata": {
        "colab": {
          "base_uri": "https://localhost:8080/",
          "height": 1000
        },
        "id": "BuI_mAxHPRad",
        "outputId": "8b274abc-243b-4695-8e4e-b39c37f8346f"
      },
      "execution_count": 13,
      "outputs": [
        {
          "output_type": "stream",
          "name": "stdout",
          "text": [
            "Misclassified Digits:\n"
          ]
        },
        {
          "output_type": "display_data",
          "data": {
            "text/plain": [
              "<Figure size 200x200 with 1 Axes>"
            ],
            "image/png": "[encoded data removed]"
          },
          "metadata": {}
        },
        {
          "output_type": "stream",
          "name": "stdout",
          "text": [
            "  Predicted: 1, Actual: -1\n"
          ]
        },
        {
          "output_type": "display_data",
          "data": {
            "text/plain": [
              "<Figure size 200x200 with 1 Axes>"
            ],
            "image/png": "[encoded data removed]"
          },
          "metadata": {}
        },
        {
          "output_type": "stream",
          "name": "stdout",
          "text": [
            "  Predicted: -1, Actual: 1\n"
          ]
        },
        {
          "output_type": "display_data",
          "data": {
            "text/plain": [
              "<Figure size 200x200 with 1 Axes>"
            ],
            "image/png": "[encoded data removed]"
          },
          "metadata": {}
        },
        {
          "output_type": "stream",
          "name": "stdout",
          "text": [
            "  Predicted: 1, Actual: -1\n"
          ]
        },
        {
          "output_type": "display_data",
          "data": {
            "text/plain": [
              "<Figure size 200x200 with 1 Axes>"
            ],
            "image/png": "[encoded data removed]"
          },
          "metadata": {}
        },
        {
          "output_type": "stream",
          "name": "stdout",
          "text": [
            "  Predicted: 1, Actual: -1\n"
          ]
        },
        {
          "output_type": "display_data",
          "data": {
            "text/plain": [
              "<Figure size 200x200 with 1 Axes>"
            ],
            "image/png": "[encoded data removed]"
          },
          "metadata": {}
        },
        {
          "output_type": "stream",
          "name": "stdout",
          "text": [
            "  Predicted: 1, Actual: -1\n",
            "Misclassified Digits:\n"
          ]
        },
        {
          "output_type": "display_data",
          "data": {
            "text/plain": [
              "<Figure size 200x200 with 1 Axes>"
            ],
            "image/png": "[encoded data removed]"
          },
          "metadata": {}
        },
        {
          "output_type": "stream",
          "name": "stdout",
          "text": [
            "  Predicted: 1, Actual: -1\n"
          ]
        },
        {
          "output_type": "display_data",
          "data": {
            "text/plain": [
              "<Figure size 200x200 with 1 Axes>"
            ],
            "image/png": "[encoded data removed]"
          },
          "metadata": {}
        },
        {
          "output_type": "stream",
          "name": "stdout",
          "text": [
            "  Predicted: 1, Actual: -1\n"
          ]
        },
        {
          "output_type": "display_data",
          "data": {
            "text/plain": [
              "<Figure size 200x200 with 1 Axes>"
            ],
            "image/png": "[encoded data removed]"
          },
          "metadata": {}
        },
        {
          "output_type": "stream",
          "name": "stdout",
          "text": [
            "  Predicted: 1, Actual: -1\n"
          ]
        },
        {
          "output_type": "display_data",
          "data": {
            "text/plain": [
              "<Figure size 200x200 with 1 Axes>"
            ],
            "image/png": "[encoded data removed]"
          },
          "metadata": {}
        },
        {
          "output_type": "stream",
          "name": "stdout",
          "text": [
            "  Predicted: 1, Actual: -1\n"
          ]
        },
        {
          "output_type": "display_data",
          "data": {
            "text/plain": [
              "<Figure size 200x200 with 1 Axes>"
            ],
            "image/png": "[encoded data removed]"
          },
          "metadata": {}
        },
        {
          "output_type": "stream",
          "name": "stdout",
          "text": [
            "  Predicted: 1, Actual: -1\n",
            "Misclassified Digits:\n"
          ]
        },
        {
          "output_type": "display_data",
          "data": {
            "text/plain": [
              "<Figure size 200x200 with 1 Axes>"
            ],
            "image/png": "[encoded data removed]"
          },
          "metadata": {}
        },
        {
          "output_type": "stream",
          "name": "stdout",
          "text": [
            "  Predicted: 1, Actual: -1\n"
          ]
        },
        {
          "output_type": "display_data",
          "data": {
            "text/plain": [
              "<Figure size 200x200 with 1 Axes>"
            ],
            "image/png": "[encoded data removed]"
          },
          "metadata": {}
        },
        {
          "output_type": "stream",
          "name": "stdout",
          "text": [
            "  Predicted: 1, Actual: -1\n"
          ]
        },
        {
          "output_type": "display_data",
          "data": {
            "text/plain": [
              "<Figure size 200x200 with 1 Axes>"
            ],
            "image/png": "[encoded data removed]"
          },
          "metadata": {}
        },
        {
          "output_type": "stream",
          "name": "stdout",
          "text": [
            "  Predicted: 1, Actual: -1\n"
          ]
        },
        {
          "output_type": "display_data",
          "data": {
            "text/plain": [
              "<Figure size 200x200 with 1 Axes>"
            ],
            "image/png": "[encoded data removed]"
          },
          "metadata": {}
        },
        {
          "output_type": "stream",
          "name": "stdout",
          "text": [
            "  Predicted: 1, Actual: -1\n"
          ]
        },
        {
          "output_type": "display_data",
          "data": {
            "text/plain": [
              "<Figure size 200x200 with 1 Axes>"
            ],
            "image/png": "[encoded data removed]"
          },
          "metadata": {}
        },
        {
          "output_type": "stream",
          "name": "stdout",
          "text": [
            "  Predicted: 1, Actual: -1\n"
          ]
        }
      ]
    },
    {
      "cell_type": "markdown",
      "source": [
        "- visualize some correctly classified digits:"
      ],
      "metadata": {
        "id": "R8PevI8f2dw9"
      }
    },
    {
      "cell_type": "code",
      "source": [
        "\n",
        "\n",
        "for inputs1 in [inputs_noisy, inputs_denoised]:\n",
        "    outputs = perceptron.forward(inputs1)\n",
        "\n",
        "    # Find correctly classified letters\n",
        "    correctly_classified_indices = []\n",
        "    outputs = perceptron.forward(inputs1)\n",
        "    for i in range(len(outputs)):\n",
        "        if outputs[i] == true_outputs[i] == 1:\n",
        "            correctly_classified_indices.append(i)\n",
        "\n",
        "    # Visualize the letters\n",
        "    import random\n",
        "    num_to_visualize = 5  # Adjust the number of images to visualize\n",
        "    random_indices = random.sample(correctly_classified_indices, min(num_to_visualize, len(correctly_classified_indices)))\n",
        "    print(\"Correctly Classified Letters:\")\n",
        "    for index in random_indices:\n",
        "        visualize_digit(inputs1, labels, index)\n",
        "        print(f\"  Predicted: {1 if outputs[index] > 0 else -1}, Actual: {true_outputs[index]}\")\n",
        "\n",
        "\n"
      ],
      "metadata": {
        "id": "TRHAHknR2RXV",
        "outputId": "d87a6d03-74f9-4377-ace6-ef3469274315",
        "colab": {
          "base_uri": "https://localhost:8080/",
          "height": 1000
        }
      },
      "execution_count": 14,
      "outputs": [
        {
          "output_type": "stream",
          "name": "stdout",
          "text": [
            "Correctly Classified Letters:\n"
          ]
        },
        {
          "output_type": "display_data",
          "data": {
            "text/plain": [
              "<Figure size 200x200 with 1 Axes>"
            ],
            "image/png": "[encoded data removed]"
          },
          "metadata": {}
        },
        {
          "output_type": "stream",
          "name": "stdout",
          "text": [
            "  Predicted: 1, Actual: 1\n"
          ]
        },
        {
          "output_type": "display_data",
          "data": {
            "text/plain": [
              "<Figure size 200x200 with 1 Axes>"
            ],
            "image/png": "[encoded data removed]"
          },
          "metadata": {}
        },
        {
          "output_type": "stream",
          "name": "stdout",
          "text": [
            "  Predicted: 1, Actual: 1\n"
          ]
        },
        {
          "output_type": "display_data",
          "data": {
            "text/plain": [
              "<Figure size 200x200 with 1 Axes>"
            ],
            "image/png": "[encoded data removed]"
          },
          "metadata": {}
        },
        {
          "output_type": "stream",
          "name": "stdout",
          "text": [
            "  Predicted: 1, Actual: 1\n"
          ]
        },
        {
          "output_type": "display_data",
          "data": {
            "text/plain": [
              "<Figure size 200x200 with 1 Axes>"
            ],
            "image/png": "[encoded data removed]"
          },
          "metadata": {}
        },
        {
          "output_type": "stream",
          "name": "stdout",
          "text": [
            "  Predicted: 1, Actual: 1\n"
          ]
        },
        {
          "output_type": "display_data",
          "data": {
            "text/plain": [
              "<Figure size 200x200 with 1 Axes>"
            ],
            "image/png": "[encoded data removed]"
          },
          "metadata": {}
        },
        {
          "output_type": "stream",
          "name": "stdout",
          "text": [
            "  Predicted: 1, Actual: 1\n",
            "Correctly Classified Letters:\n"
          ]
        },
        {
          "output_type": "display_data",
          "data": {
            "text/plain": [
              "<Figure size 200x200 with 1 Axes>"
            ],
            "image/png": "[encoded data removed]"
          },
          "metadata": {}
        },
        {
          "output_type": "stream",
          "name": "stdout",
          "text": [
            "  Predicted: 1, Actual: 1\n"
          ]
        },
        {
          "output_type": "display_data",
          "data": {
            "text/plain": [
              "<Figure size 200x200 with 1 Axes>"
            ],
            "image/png": "[encoded data removed]"
          },
          "metadata": {}
        },
        {
          "output_type": "stream",
          "name": "stdout",
          "text": [
            "  Predicted: 1, Actual: 1\n"
          ]
        },
        {
          "output_type": "display_data",
          "data": {
            "text/plain": [
              "<Figure size 200x200 with 1 Axes>"
            ],
            "image/png": "[encoded data removed]"
          },
          "metadata": {}
        },
        {
          "output_type": "stream",
          "name": "stdout",
          "text": [
            "  Predicted: 1, Actual: 1\n"
          ]
        },
        {
          "output_type": "display_data",
          "data": {
            "text/plain": [
              "<Figure size 200x200 with 1 Axes>"
            ],
            "image/png": "[encoded data removed]"
          },
          "metadata": {}
        },
        {
          "output_type": "stream",
          "name": "stdout",
          "text": [
            "  Predicted: 1, Actual: 1\n"
          ]
        },
        {
          "output_type": "display_data",
          "data": {
            "text/plain": [
              "<Figure size 200x200 with 1 Axes>"
            ],
            "image/png": "[encoded data removed]"
          },
          "metadata": {}
        },
        {
          "output_type": "stream",
          "name": "stdout",
          "text": [
            "  Predicted: 1, Actual: 1\n"
          ]
        }
      ]
    },
    {
      "cell_type": "markdown",
      "source": [
        "- compare the results for the digits:"
      ],
      "metadata": {
        "id": "J-NNusoH7Re3"
      }
    },
    {
      "cell_type": "code",
      "source": [
        "alpha = 0.1\n",
        "# DataFrame to store the results for comparisons\n",
        "experiment_results_l = pd.DataFrame(columns=['Error', 'Test Error 1', 'Test Error 2', 'Epochs', 'Time', 'Variant', 'Learning Rate', 'Max Epochs', 'Weights', 'Bias', 'Data Description'])\n",
        "for digit_index in range(1,11):\n",
        "    print(digit_index)\n",
        "    [inputs, labels] = load_digits_data()\n",
        "    [inputs_noisy, inputs_denoised] = add_noise(inputs, alpha=alpha)\n",
        "    true_outputs = np.where(labels == digit_index, 1, -1)\n",
        "    data_description = \"Digit \" + str(digit_index % 10) + f\" {(sum(true_outputs == 1))}\"\n",
        "    num_runs = 10\n",
        "\n",
        "    # Set Perceptron parameters:\n",
        "    weights = np.zeros(inputs.shape[1])\n",
        "    bias = 0\n",
        "    binary = False\n",
        "    epochs = 200\n",
        "    learning_rate = 1\n",
        "    print_progress = False\n",
        "    variant = 'rosenblatt iterative' # 'rosenblatt best','rosenblatt iterative', 'rosenblatt batch', 'hebbian'\n",
        "\n",
        "    # run the experiment:\n",
        "    run_example_multiple_times(experiment_results_l, inputs, inputs_noisy, inputs_denoised, true_outputs, epochs, weights, bias, binary, learning_rate, print_progress, variant, data_description, num_runs=num_runs)\n",
        "\n",
        "print(\"\\nExperiment Results:\")\n",
        "experiment_results_l"
      ],
      "metadata": {
        "colab": {
          "base_uri": "https://localhost:8080/",
          "height": 767
        },
        "id": "xdxbZUM6MigI",
        "outputId": "c7b46251-c83d-4415-909e-6e4ae5e1e384"
      },
      "execution_count": null,
      "outputs": [
        {
          "output_type": "stream",
          "name": "stdout",
          "text": [
            "1\n",
            "2\n",
            "3\n",
            "4\n",
            "5\n",
            "6\n",
            "7\n",
            "8\n",
            "9\n",
            "10\n",
            "\n",
            "Experiment Results:\n"
          ]
        },
        {
          "output_type": "execute_result",
          "data": {
            "text/plain": [
              "   Error  Test Error 1  Test Error 2  Epochs       Time               Variant  \\\n",
              "0    0.0          93.7         222.4    82.9   7.302421  rosenblatt iterative   \n",
              "1    0.0          68.5         185.3    18.2   1.755910  rosenblatt iterative   \n",
              "2    0.0         225.1         285.1   148.9  12.938169  rosenblatt iterative   \n",
              "3    0.0          64.0         168.4    24.1   2.082486  rosenblatt iterative   \n",
              "4   66.6         313.5         347.5   200.0  17.497393  rosenblatt iterative   \n",
              "5    0.0          97.6         228.3    31.0   2.708504  rosenblatt iterative   \n",
              "6    0.0         116.1         200.2    34.5   3.096686  rosenblatt iterative   \n",
              "7    0.0          96.3         193.0    36.3   3.143123  rosenblatt iterative   \n",
              "8    0.0         166.7         257.2    73.4   6.427755  rosenblatt iterative   \n",
              "9    0.0          26.9         225.0     9.3   0.871760  rosenblatt iterative   \n",
              "\n",
              "   Learning Rate  Max Epochs  \\\n",
              "0              1         200   \n",
              "1              1         200   \n",
              "2              1         200   \n",
              "3              1         200   \n",
              "4              1         200   \n",
              "5              1         200   \n",
              "6              1         200   \n",
              "7              1         200   \n",
              "8              1         200   \n",
              "9              1         200   \n",
              "\n",
              "                                             Weights  Bias Data Description  \n",
              "0  [63.0, 27.0, 7.0, -13.0, 17.0, 1.0, 1.0, -19.0...  -131      Digit 1 300  \n",
              "1  [7.0, 13.0, 17.0, 47.0, 13.0, 11.0, -11.0, -15...   -23      Digit 2 300  \n",
              "2  [28.0, 40.0, 44.0, -44.0, -18.0, 28.0, -8.0, -...  -184      Digit 3 300  \n",
              "3  [5.0, -1.0, -29.0, -25.0, 5.0, 7.0, 21.0, 7.0,...   -25      Digit 4 300  \n",
              "4  [-58.0, 108.0, 10.0, -16.0, -30.0, 118.0, -38....  -828      Digit 5 250  \n",
              "5  [4.0, 20.0, 0.0, -4.0, 10.0, 22.0, 10.0, 22.0,...   -28      Digit 6 300  \n",
              "6  [39.0, 47.0, 51.0, 45.0, -11.0, -11.0, -7.0, -...   -31      Digit 7 300  \n",
              "7  [6.0, -20.0, -4.0, -2.0, -4.0, -40.0, -28.0, 4...    54      Digit 8 300  \n",
              "8  [-9.0, -45.0, -1.0, 1.0, 31.0, -25.0, 37.0, 7....   -25      Digit 9 300  \n",
              "9  [2.0, 4.0, 6.0, 6.0, 2.0, 8.0, 8.0, 10.0, 6.0,...    -2      Digit 0 300  "
            ],
            "text/html": [
              "\n",
              "  <div id=\"df-f0573f66-6511-4ae8-beba-23ded20fbcef\" class=\"colab-df-container\">\n",
              "    <div>\n",
              "<style scoped>\n",
              "    .dataframe tbody tr th:only-of-type {\n",
              "        vertical-align: middle;\n",
              "    }\n",
              "\n",
              "    .dataframe tbody tr th {\n",
              "        vertical-align: top;\n",
              "    }\n",
              "\n",
              "    .dataframe thead th {\n",
              "        text-align: right;\n",
              "    }\n",
              "</style>\n",
              "<table border=\"1\" class=\"dataframe\">\n",
              "  <thead>\n",
              "    <tr style=\"text-align: right;\">\n",
              "      <th></th>\n",
              "      <th>Error</th>\n",
              "      <th>Test Error 1</th>\n",
              "      <th>Test Error 2</th>\n",
              "      <th>Epochs</th>\n",
              "      <th>Time</th>\n",
              "      <th>Variant</th>\n",
              "      <th>Learning Rate</th>\n",
              "      <th>Max Epochs</th>\n",
              "      <th>Weights</th>\n",
              "      <th>Bias</th>\n",
              "      <th>Data Description</th>\n",
              "    </tr>\n",
              "  </thead>\n",
              "  <tbody>\n",
              "    <tr>\n",
              "      <th>0</th>\n",
              "      <td>0.0</td>\n",
              "      <td>93.7</td>\n",
              "      <td>222.4</td>\n",
              "      <td>82.9</td>\n",
              "      <td>7.302421</td>\n",
              "      <td>rosenblatt iterative</td>\n",
              "      <td>1</td>\n",
              "      <td>200</td>\n",
              "      <td>[63.0, 27.0, 7.0, -13.0, 17.0, 1.0, 1.0, -19.0...</td>\n",
              "      <td>-131</td>\n",
              "      <td>Digit 1 300</td>\n",
              "    </tr>\n",
              "    <tr>\n",
              "      <th>1</th>\n",
              "      <td>0.0</td>\n",
              "      <td>68.5</td>\n",
              "      <td>185.3</td>\n",
              "      <td>18.2</td>\n",
              "      <td>1.755910</td>\n",
              "      <td>rosenblatt iterative</td>\n",
              "      <td>1</td>\n",
              "      <td>200</td>\n",
              "      <td>[7.0, 13.0, 17.0, 47.0, 13.0, 11.0, -11.0, -15...</td>\n",
              "      <td>-23</td>\n",
              "      <td>Digit 2 300</td>\n",
              "    </tr>\n",
              "    <tr>\n",
              "      <th>2</th>\n",
              "      <td>0.0</td>\n",
              "      <td>225.1</td>\n",
              "      <td>285.1</td>\n",
              "      <td>148.9</td>\n",
              "      <td>12.938169</td>\n",
              "      <td>rosenblatt iterative</td>\n",
              "      <td>1</td>\n",
              "      <td>200</td>\n",
              "      <td>[28.0, 40.0, 44.0, -44.0, -18.0, 28.0, -8.0, -...</td>\n",
              "      <td>-184</td>\n",
              "      <td>Digit 3 300</td>\n",
              "    </tr>\n",
              "    <tr>\n",
              "      <th>3</th>\n",
              "      <td>0.0</td>\n",
              "      <td>64.0</td>\n",
              "      <td>168.4</td>\n",
              "      <td>24.1</td>\n",
              "      <td>2.082486</td>\n",
              "      <td>rosenblatt iterative</td>\n",
              "      <td>1</td>\n",
              "      <td>200</td>\n",
              "      <td>[5.0, -1.0, -29.0, -25.0, 5.0, 7.0, 21.0, 7.0,...</td>\n",
              "      <td>-25</td>\n",
              "      <td>Digit 4 300</td>\n",
              "    </tr>\n",
              "    <tr>\n",
              "      <th>4</th>\n",
              "      <td>66.6</td>\n",
              "      <td>313.5</td>\n",
              "      <td>347.5</td>\n",
              "      <td>200.0</td>\n",
              "      <td>17.497393</td>\n",
              "      <td>rosenblatt iterative</td>\n",
              "      <td>1</td>\n",
              "      <td>200</td>\n",
              "      <td>[-58.0, 108.0, 10.0, -16.0, -30.0, 118.0, -38....</td>\n",
              "      <td>-828</td>\n",
              "      <td>Digit 5 250</td>\n",
              "    </tr>\n",
              "    <tr>\n",
              "      <th>5</th>\n",
              "      <td>0.0</td>\n",
              "      <td>97.6</td>\n",
              "      <td>228.3</td>\n",
              "      <td>31.0</td>\n",
              "      <td>2.708504</td>\n",
              "      <td>rosenblatt iterative</td>\n",
              "      <td>1</td>\n",
              "      <td>200</td>\n",
              "      <td>[4.0, 20.0, 0.0, -4.0, 10.0, 22.0, 10.0, 22.0,...</td>\n",
              "      <td>-28</td>\n",
              "      <td>Digit 6 300</td>\n",
              "    </tr>\n",
              "    <tr>\n",
              "      <th>6</th>\n",
              "      <td>0.0</td>\n",
              "      <td>116.1</td>\n",
              "      <td>200.2</td>\n",
              "      <td>34.5</td>\n",
              "      <td>3.096686</td>\n",
              "      <td>rosenblatt iterative</td>\n",
              "      <td>1</td>\n",
              "      <td>200</td>\n",
              "      <td>[39.0, 47.0, 51.0, 45.0, -11.0, -11.0, -7.0, -...</td>\n",
              "      <td>-31</td>\n",
              "      <td>Digit 7 300</td>\n",
              "    </tr>\n",
              "    <tr>\n",
              "      <th>7</th>\n",
              "      <td>0.0</td>\n",
              "      <td>96.3</td>\n",
              "      <td>193.0</td>\n",
              "      <td>36.3</td>\n",
              "      <td>3.143123</td>\n",
              "      <td>rosenblatt iterative</td>\n",
              "      <td>1</td>\n",
              "      <td>200</td>\n",
              "      <td>[6.0, -20.0, -4.0, -2.0, -4.0, -40.0, -28.0, 4...</td>\n",
              "      <td>54</td>\n",
              "      <td>Digit 8 300</td>\n",
              "    </tr>\n",
              "    <tr>\n",
              "      <th>8</th>\n",
              "      <td>0.0</td>\n",
              "      <td>166.7</td>\n",
              "      <td>257.2</td>\n",
              "      <td>73.4</td>\n",
              "      <td>6.427755</td>\n",
              "      <td>rosenblatt iterative</td>\n",
              "      <td>1</td>\n",
              "      <td>200</td>\n",
              "      <td>[-9.0, -45.0, -1.0, 1.0, 31.0, -25.0, 37.0, 7....</td>\n",
              "      <td>-25</td>\n",
              "      <td>Digit 9 300</td>\n",
              "    </tr>\n",
              "    <tr>\n",
              "      <th>9</th>\n",
              "      <td>0.0</td>\n",
              "      <td>26.9</td>\n",
              "      <td>225.0</td>\n",
              "      <td>9.3</td>\n",
              "      <td>0.871760</td>\n",
              "      <td>rosenblatt iterative</td>\n",
              "      <td>1</td>\n",
              "      <td>200</td>\n",
              "      <td>[2.0, 4.0, 6.0, 6.0, 2.0, 8.0, 8.0, 10.0, 6.0,...</td>\n",
              "      <td>-2</td>\n",
              "      <td>Digit 0 300</td>\n",
              "    </tr>\n",
              "  </tbody>\n",
              "</table>\n",
              "</div>\n",
              "    <div class=\"colab-df-buttons\">\n",
              "\n",
              "  <div class=\"colab-df-container\">\n",
              "    <button class=\"colab-df-convert\" onclick=\"convertToInteractive('df-f0573f66-6511-4ae8-beba-23ded20fbcef')\"\n",
              "            title=\"Convert this dataframe to an interactive table.\"\n",
              "            style=\"display:none;\">\n",
              "\n",
              "  <svg xmlns=\"http://www.w3.org/2000/svg\" height=\"24px\" viewBox=\"0 -960 960 960\">\n",
              "    <path d=\"M120-120v-720h720v720H120Zm60-500h600v-160H180v160Zm220 220h160v-160H400v160Zm0 220h160v-160H400v160ZM180-400h160v-160H180v160Zm440 0h160v-160H620v160ZM180-180h160v-160H180v160Zm440 0h160v-160H620v160Z\"/>\n",
              "  </svg>\n",
              "    </button>\n",
              "\n",
              "  <style>\n",
              "    .colab-df-container {\n",
              "      display:flex;\n",
              "      gap: 12px;\n",
              "    }\n",
              "\n",
              "    .colab-df-convert {\n",
              "      background-color: #E8F0FE;\n",
              "      border: none;\n",
              "      border-radius: 50%;\n",
              "      cursor: pointer;\n",
              "      display: none;\n",
              "      fill: #1967D2;\n",
              "      height: 32px;\n",
              "      padding: 0 0 0 0;\n",
              "      width: 32px;\n",
              "    }\n",
              "\n",
              "    .colab-df-convert:hover {\n",
              "      background-color: #E2EBFA;\n",
              "      box-shadow: 0px 1px 2px rgba(60, 64, 67, 0.3), 0px 1px 3px 1px rgba(60, 64, 67, 0.15);\n",
              "      fill: #174EA6;\n",
              "    }\n",
              "\n",
              "    .colab-df-buttons div {\n",
              "      margin-bottom: 4px;\n",
              "    }\n",
              "\n",
              "    [theme=dark] .colab-df-convert {\n",
              "      background-color: #3B4455;\n",
              "      fill: #D2E3FC;\n",
              "    }\n",
              "\n",
              "    [theme=dark] .colab-df-convert:hover {\n",
              "      background-color: #434B5C;\n",
              "      box-shadow: 0px 1px 3px 1px rgba(0, 0, 0, 0.15);\n",
              "      filter: drop-shadow(0px 1px 2px rgba(0, 0, 0, 0.3));\n",
              "      fill: #FFFFFF;\n",
              "    }\n",
              "  </style>\n",
              "\n",
              "    <script>\n",
              "      const buttonEl =\n",
              "        document.querySelector('#df-f0573f66-6511-4ae8-beba-23ded20fbcef button.colab-df-convert');\n",
              "      buttonEl.style.display =\n",
              "        google.colab.kernel.accessAllowed ? 'block' : 'none';\n",
              "\n",
              "      async function convertToInteractive(key) {\n",
              "        const element = document.querySelector('#df-f0573f66-6511-4ae8-beba-23ded20fbcef');\n",
              "        const dataTable =\n",
              "          await google.colab.kernel.invokeFunction('convertToInteractive',\n",
              "                                                    [key], {});\n",
              "        if (!dataTable) return;\n",
              "\n",
              "        const docLinkHtml = 'Like what you see? Visit the ' +\n",
              "          '<a target=\"_blank\" href=https://colab.research.google.com/notebooks/data_table.ipynb>data table notebook</a>'\n",
              "          + ' to learn more about interactive tables.';\n",
              "        element.innerHTML = '';\n",
              "        dataTable['output_type'] = 'display_data';\n",
              "        await google.colab.output.renderOutput(dataTable, element);\n",
              "        const docLink = document.createElement('div');\n",
              "        docLink.innerHTML = docLinkHtml;\n",
              "        element.appendChild(docLink);\n",
              "      }\n",
              "    </script>\n",
              "  </div>\n",
              "\n",
              "\n",
              "<div id=\"df-f5f36927-d413-4906-a989-12cb9985e00c\">\n",
              "  <button class=\"colab-df-quickchart\" onclick=\"quickchart('df-f5f36927-d413-4906-a989-12cb9985e00c')\"\n",
              "            title=\"Suggest charts\"\n",
              "            style=\"display:none;\">\n",
              "\n",
              "<svg xmlns=\"http://www.w3.org/2000/svg\" height=\"24px\"viewBox=\"0 0 24 24\"\n",
              "     width=\"24px\">\n",
              "    <g>\n",
              "        <path d=\"M19 3H5c-1.1 0-2 .9-2 2v14c0 1.1.9 2 2 2h14c1.1 0 2-.9 2-2V5c0-1.1-.9-2-2-2zM9 17H7v-7h2v7zm4 0h-2V7h2v10zm4 0h-2v-4h2v4z\"/>\n",
              "    </g>\n",
              "</svg>\n",
              "  </button>\n",
              "\n",
              "<style>\n",
              "  .colab-df-quickchart {\n",
              "      --bg-color: #E8F0FE;\n",
              "      --fill-color: #1967D2;\n",
              "      --hover-bg-color: #E2EBFA;\n",
              "      --hover-fill-color: #174EA6;\n",
              "      --disabled-fill-color: #AAA;\n",
              "      --disabled-bg-color: #DDD;\n",
              "  }\n",
              "\n",
              "  [theme=dark] .colab-df-quickchart {\n",
              "      --bg-color: #3B4455;\n",
              "      --fill-color: #D2E3FC;\n",
              "      --hover-bg-color: #434B5C;\n",
              "      --hover-fill-color: #FFFFFF;\n",
              "      --disabled-bg-color: #3B4455;\n",
              "      --disabled-fill-color: #666;\n",
              "  }\n",
              "\n",
              "  .colab-df-quickchart {\n",
              "    background-color: var(--bg-color);\n",
              "    border: none;\n",
              "    border-radius: 50%;\n",
              "    cursor: pointer;\n",
              "    display: none;\n",
              "    fill: var(--fill-color);\n",
              "    height: 32px;\n",
              "    padding: 0;\n",
              "    width: 32px;\n",
              "  }\n",
              "\n",
              "  .colab-df-quickchart:hover {\n",
              "    background-color: var(--hover-bg-color);\n",
              "    box-shadow: 0 1px 2px rgba(60, 64, 67, 0.3), 0 1px 3px 1px rgba(60, 64, 67, 0.15);\n",
              "    fill: var(--button-hover-fill-color);\n",
              "  }\n",
              "\n",
              "  .colab-df-quickchart-complete:disabled,\n",
              "  .colab-df-quickchart-complete:disabled:hover {\n",
              "    background-color: var(--disabled-bg-color);\n",
              "    fill: var(--disabled-fill-color);\n",
              "    box-shadow: none;\n",
              "  }\n",
              "\n",
              "  .colab-df-spinner {\n",
              "    border: 2px solid var(--fill-color);\n",
              "    border-color: transparent;\n",
              "    border-bottom-color: var(--fill-color);\n",
              "    animation:\n",
              "      spin 1s steps(1) infinite;\n",
              "  }\n",
              "\n",
              "  @keyframes spin {\n",
              "    0% {\n",
              "      border-color: transparent;\n",
              "      border-bottom-color: var(--fill-color);\n",
              "      border-left-color: var(--fill-color);\n",
              "    }\n",
              "    20% {\n",
              "      border-color: transparent;\n",
              "      border-left-color: var(--fill-color);\n",
              "      border-top-color: var(--fill-color);\n",
              "    }\n",
              "    30% {\n",
              "      border-color: transparent;\n",
              "      border-left-color: var(--fill-color);\n",
              "      border-top-color: var(--fill-color);\n",
              "      border-right-color: var(--fill-color);\n",
              "    }\n",
              "    40% {\n",
              "      border-color: transparent;\n",
              "      border-right-color: var(--fill-color);\n",
              "      border-top-color: var(--fill-color);\n",
              "    }\n",
              "    60% {\n",
              "      border-color: transparent;\n",
              "      border-right-color: var(--fill-color);\n",
              "    }\n",
              "    80% {\n",
              "      border-color: transparent;\n",
              "      border-right-color: var(--fill-color);\n",
              "      border-bottom-color: var(--fill-color);\n",
              "    }\n",
              "    90% {\n",
              "      border-color: transparent;\n",
              "      border-bottom-color: var(--fill-color);\n",
              "    }\n",
              "  }\n",
              "</style>\n",
              "\n",
              "  <script>\n",
              "    async function quickchart(key) {\n",
              "      const quickchartButtonEl =\n",
              "        document.querySelector('#' + key + ' button');\n",
              "      quickchartButtonEl.disabled = true;  // To prevent multiple clicks.\n",
              "      quickchartButtonEl.classList.add('colab-df-spinner');\n",
              "      try {\n",
              "        const charts = await google.colab.kernel.invokeFunction(\n",
              "            'suggestCharts', [key], {});\n",
              "      } catch (error) {\n",
              "        console.error('Error during call to suggestCharts:', error);\n",
              "      }\n",
              "      quickchartButtonEl.classList.remove('colab-df-spinner');\n",
              "      quickchartButtonEl.classList.add('colab-df-quickchart-complete');\n",
              "    }\n",
              "    (() => {\n",
              "      let quickchartButtonEl =\n",
              "        document.querySelector('#df-f5f36927-d413-4906-a989-12cb9985e00c button');\n",
              "      quickchartButtonEl.style.display =\n",
              "        google.colab.kernel.accessAllowed ? 'block' : 'none';\n",
              "    })();\n",
              "  </script>\n",
              "</div>\n",
              "\n",
              "  <div id=\"id_6b9ba035-0d6d-45e6-885c-5798d77eead2\">\n",
              "    <style>\n",
              "      .colab-df-generate {\n",
              "        background-color: #E8F0FE;\n",
              "        border: none;\n",
              "        border-radius: 50%;\n",
              "        cursor: pointer;\n",
              "        display: none;\n",
              "        fill: #1967D2;\n",
              "        height: 32px;\n",
              "        padding: 0 0 0 0;\n",
              "        width: 32px;\n",
              "      }\n",
              "\n",
              "      .colab-df-generate:hover {\n",
              "        background-color: #E2EBFA;\n",
              "        box-shadow: 0px 1px 2px rgba(60, 64, 67, 0.3), 0px 1px 3px 1px rgba(60, 64, 67, 0.15);\n",
              "        fill: #174EA6;\n",
              "      }\n",
              "\n",
              "      [theme=dark] .colab-df-generate {\n",
              "        background-color: #3B4455;\n",
              "        fill: #D2E3FC;\n",
              "      }\n",
              "\n",
              "      [theme=dark] .colab-df-generate:hover {\n",
              "        background-color: #434B5C;\n",
              "        box-shadow: 0px 1px 3px 1px rgba(0, 0, 0, 0.15);\n",
              "        filter: drop-shadow(0px 1px 2px rgba(0, 0, 0, 0.3));\n",
              "        fill: #FFFFFF;\n",
              "      }\n",
              "    </style>\n",
              "    <button class=\"colab-df-generate\" onclick=\"generateWithVariable('experiment_results_l')\"\n",
              "            title=\"Generate code using this dataframe.\"\n",
              "            style=\"display:none;\">\n",
              "\n",
              "  <svg xmlns=\"http://www.w3.org/2000/svg\" height=\"24px\"viewBox=\"0 0 24 24\"\n",
              "       width=\"24px\">\n",
              "    <path d=\"M7,19H8.4L18.45,9,17,7.55,7,17.6ZM5,21V16.75L18.45,3.32a2,2,0,0,1,2.83,0l1.4,1.43a1.91,1.91,0,0,1,.58,1.4,1.91,1.91,0,0,1-.58,1.4L9.25,21ZM18.45,9,17,7.55Zm-12,3A5.31,5.31,0,0,0,4.9,8.1,5.31,5.31,0,0,0,1,6.5,5.31,5.31,0,0,0,4.9,4.9,5.31,5.31,0,0,0,6.5,1,5.31,5.31,0,0,0,8.1,4.9,5.31,5.31,0,0,0,12,6.5,5.46,5.46,0,0,0,6.5,12Z\"/>\n",
              "  </svg>\n",
              "    </button>\n",
              "    <script>\n",
              "      (() => {\n",
              "      const buttonEl =\n",
              "        document.querySelector('#id_6b9ba035-0d6d-45e6-885c-5798d77eead2 button.colab-df-generate');\n",
              "      buttonEl.style.display =\n",
              "        google.colab.kernel.accessAllowed ? 'block' : 'none';\n",
              "\n",
              "      buttonEl.onclick = () => {\n",
              "        google.colab.notebook.generateWithVariable('experiment_results_l');\n",
              "      }\n",
              "      })();\n",
              "    </script>\n",
              "  </div>\n",
              "\n",
              "    </div>\n",
              "  </div>\n"
            ],
            "application/vnd.google.colaboratory.intrinsic+json": {
              "type": "dataframe",
              "variable_name": "experiment_results_l",
              "summary": "{\n  \"name\": \"experiment_results_l\",\n  \"rows\": 10,\n  \"fields\": [\n    {\n      \"column\": \"Error\",\n      \"properties\": {\n        \"dtype\": \"number\",\n        \"std\": 21.060769216721404,\n        \"min\": 0.0,\n        \"max\": 66.6,\n        \"num_unique_values\": 2,\n        \"samples\": [\n          66.6,\n          0.0\n        ],\n        \"semantic_type\": \"\",\n        \"description\": \"\"\n      }\n    },\n    {\n      \"column\": \"Test Error 1\",\n      \"properties\": {\n        \"dtype\": \"number\",\n        \"std\": 85.91177903976717,\n        \"min\": 26.9,\n        \"max\": 313.5,\n        \"num_unique_values\": 10,\n        \"samples\": [\n          166.7,\n          68.5\n        ],\n        \"semantic_type\": \"\",\n        \"description\": \"\"\n      }\n    },\n    {\n      \"column\": \"Test Error 2\",\n      \"properties\": {\n        \"dtype\": \"number\",\n        \"std\": 53.43954424290021,\n        \"min\": 168.4,\n        \"max\": 347.5,\n        \"num_unique_values\": 10,\n        \"samples\": [\n          257.2,\n          185.3\n        ],\n        \"semantic_type\": \"\",\n        \"description\": \"\"\n      }\n    },\n    {\n      \"column\": \"Epochs\",\n      \"properties\": {\n        \"dtype\": \"number\",\n        \"std\": 62.82538764968613,\n        \"min\": 9.3,\n        \"max\": 200.0,\n        \"num_unique_values\": 10,\n        \"samples\": [\n          73.4,\n          18.2\n        ],\n        \"semantic_type\": \"\",\n        \"description\": \"\"\n      }\n    },\n    {\n      \"column\": \"Time\",\n      \"properties\": {\n        \"dtype\": \"number\",\n        \"std\": 5.4652142061489535,\n        \"min\": 0.87176034450531,\n        \"max\": 17.497393250465393,\n        \"num_unique_values\": 10,\n        \"samples\": [\n          6.427754664421082,\n          1.7559096574783326\n        ],\n        \"semantic_type\": \"\",\n        \"description\": \"\"\n      }\n    },\n    {\n      \"column\": \"Variant\",\n      \"properties\": {\n        \"dtype\": \"category\",\n        \"num_unique_values\": 1,\n        \"samples\": [\n          \"rosenblatt iterative\"\n        ],\n        \"semantic_type\": \"\",\n        \"description\": \"\"\n      }\n    },\n    {\n      \"column\": \"Learning Rate\",\n      \"properties\": {\n        \"dtype\": \"number\",\n        \"std\": 0,\n        \"min\": 1,\n        \"max\": 1,\n        \"num_unique_values\": 1,\n        \"samples\": [\n          1\n        ],\n        \"semantic_type\": \"\",\n        \"description\": \"\"\n      }\n    },\n    {\n      \"column\": \"Max Epochs\",\n      \"properties\": {\n        \"dtype\": \"number\",\n        \"std\": 0,\n        \"min\": 200,\n        \"max\": 200,\n        \"num_unique_values\": 1,\n        \"samples\": [\n          200\n        ],\n        \"semantic_type\": \"\",\n        \"description\": \"\"\n      }\n    },\n    {\n      \"column\": \"Weights\",\n      \"properties\": {\n        \"dtype\": \"object\",\n        \"semantic_type\": \"\",\n        \"description\": \"\"\n      }\n    },\n    {\n      \"column\": \"Bias\",\n      \"properties\": {\n        \"dtype\": \"number\",\n        \"std\": 256,\n        \"min\": -828,\n        \"max\": 54,\n        \"num_unique_values\": 9,\n        \"samples\": [\n          54\n        ],\n        \"semantic_type\": \"\",\n        \"description\": \"\"\n      }\n    },\n    {\n      \"column\": \"Data Description\",\n      \"properties\": {\n        \"dtype\": \"string\",\n        \"num_unique_values\": 10,\n        \"samples\": [\n          \"Digit 9 300\"\n        ],\n        \"semantic_type\": \"\",\n        \"description\": \"\"\n      }\n    }\n  ]\n}"
            }
          },
          "metadata": {},
          "execution_count": 51
        }
      ]
    }
  ]
}