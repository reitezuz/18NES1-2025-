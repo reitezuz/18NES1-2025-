{
  "nbformat": 4,
  "nbformat_minor": 0,
  "metadata": {
    "colab": {
      "provenance": [],
      "authorship_tag": "ABX9TyM5HmWjyQt+OLmNdoFpOWFn",
      "include_colab_link": true
    },
    "kernelspec": {
      "name": "python3",
      "display_name": "Python 3"
    },
    "language_info": {
      "name": "python"
    }
  },
  "cells": [
    {
      "cell_type": "markdown",
      "metadata": {
        "id": "view-in-github",
        "colab_type": "text"
      },
      "source": [
        "<a href=\"https://colab.research.google.com/github/reitezuz/18NES1-2025-/blob/main/week6/keras_simple_example.ipynb\" target=\"_parent\"><img src=\"https://colab.research.google.com/assets/colab-badge.svg\" alt=\"Open In Colab\"/></a>"
      ]
    },
    {
      "cell_type": "markdown",
      "source": [
        "# Keras MLP: Step-by-step Training on a Simple Example (Breast Cancer Dataset)\n",
        "\n",
        "In this notebook, we will walk through the process of training a **Multilayer Perceptron (MLP)** using **Keras** on a well-known example dataset: the **Breast Cancer Wisconsin Diagnostic dataset**.\n",
        "\n",
        "This is a great starting point for learning about neural networks and classification tasks with tabular data.\n",
        "\n",
        "---\n",
        "\n",
        "### Breast Cancer Dataset Overview\n",
        "\n",
        "- A classical **binary classification** dataset.\n",
        "- Contains **569 samples** and **30 input features** (real-valued, positive).\n",
        "- The **target** variable indicates whether the tumor is **malignant** (0) or **benign** (1).\n",
        "- All features are computed from digitized images of a breast mass.\n",
        "\n",
        "You can find the dataset here:\n",
        "- [UCI Machine Learning Repository](https://archive.ics.uci.edu/dataset/17/breast+cancer+wisconsin+diagnostic)\n",
        "- [Scikit-learn's built-in loader](https://scikit-learn.org/stable/modules/generated/sklearn.datasets.load_breast_cancer.html)\n",
        "\n",
        "We will use the version included in **scikit-learn**, which is preprocessed and ready to use.\n",
        "\n",
        "---\n",
        "\n",
        "### More Datasets for Practice\n",
        "\n",
        "If you're interested in more classical machine learning datasets (classification, regression, clustering...), check out:\n",
        "\n",
        "👉 [Scikit-learn toy datasets overview](https://scikit-learn.org/stable/api/sklearn.datasets.html)\n",
        "\n",
        "These are great for experimenting and building intuition before moving to real-world data.\n",
        "\n",
        "---\n",
        "\n",
        "### Machine Learning Workflow\n",
        "1. Process the data\n",
        "\n",
        "  1.1. Load, observe and analyze the data\n",
        "\n",
        "  1.2. Clean and preprocess the data\n",
        "2. Define the model\n",
        "\n",
        "  2.1. Define the model architecture (type of the model, number of layers, activation functions)\n",
        "\n",
        "  2.2. Set model hyperparameters (learning rate, batch size, optimizer, loss function,...)\n",
        "3. Train the model\n",
        "\n",
        "  3.1. Observe and analyze the training progress\n",
        "\n",
        "4. Evaluate the model and make prediction\n",
        "\n",
        "   4.1. Assess model performance on training, validation and test data\n",
        "   \n",
        "   4.2. Use the trained model to predict on new unseen data"
      ],
      "metadata": {
        "id": "ApKpYJwGmBLV"
      }
    },
    {
      "cell_type": "markdown",
      "source": [
        "## 1. Process the data\n",
        "1.1. Load, observe and analyze the data\n",
        " - Use `scikit-learn` to load the dataset.\n",
        " - Display basic info: number of samples, number of features, class distribution.\n",
        " - Visualize some features if needed.\n",
        "\n"
      ],
      "metadata": {
        "id": "HOw_rL0gof9a"
      }
    },
    {
      "cell_type": "code",
      "source": [
        "from sklearn.datasets import load_breast_cancer\n",
        "import numpy as np\n",
        "\n",
        "# Load and observe the data:\n",
        "cancer = load_breast_cancer()  # 'cancer' is a dictionary-like object (sklearn.utils.Bunch)\n",
        "# It contains: data, target, feature names, target names, description, etc.\n",
        "print(cancer.keys())\n",
        "\n",
        "# Observe shape:\n",
        "print(\"Input data shape:\", cancer['data'].shape)\n",
        "print(\"Target data shape:\", cancer['target'].shape, \"\\n\")\n",
        "\n",
        "# Analyze the label distribution:\n",
        "print(\"Target names:\", cancer['target_names'])\n",
        "print(\"Target distribution:\", np.bincount(cancer['target']))\n",
        "print(\"  malignant (0):\", np.bincount(cancer['target'])[0])\n",
        "print(\"  benign    (1):\", np.bincount(cancer['target'])[1], \"\\n\")\n",
        "\n",
        "# Observe input data:\n",
        "print(\"Feature names:\", cancer['feature_names'] )\n",
        "print(\"Minimum, mean and maximum input data values: \", np.min(cancer['data']), np.mean(cancer['data']), np.max(cancer['data']))\n",
        "#print(\"Feature means:\", np.mean(cancer['data'], axis=0))\n",
        "#print(\"Feature description:\", cancer['DESCR'])  # description of the data\n",
        "print()\n",
        "\n",
        "# Check for missing values\n",
        "print(\"Number of missing values in the data:\", np.sum(np.isnan(cancer['data'])))\n",
        "print(\"Number of missing values in the labels:\", np.sum(np.isnan(cancer['target'])))\n",
        "print()\n",
        "\n",
        "import pandas as pd\n",
        "df = pd.DataFrame(cancer['data'], columns=cancer['feature_names']) # Create a Pandas DataFrame for easier analysis\n",
        "#print(df.describe())                                              # Calculate statistics for each column\n",
        "#print(df.info())                                                  # Check data types and non-null counts\n",
        "print(df.head())                                                   # Display the first few rows of the DataFrame"
      ],
      "metadata": {
        "colab": {
          "base_uri": "https://localhost:8080/"
        },
        "id": "hvOcyLy6t9p9",
        "outputId": "c6eb5ecd-8a6e-43bf-8cc7-d99696cd6225"
      },
      "execution_count": 1,
      "outputs": [
        {
          "output_type": "stream",
          "name": "stdout",
          "text": [
            "dict_keys(['data', 'target', 'frame', 'target_names', 'DESCR', 'feature_names', 'filename', 'data_module'])\n",
            "Input data shape: (569, 30)\n",
            "Target data shape: (569,) \n",
            "\n",
            "Target names: ['malignant' 'benign']\n",
            "Target distribution: [212 357]\n",
            "  malignant (0): 212\n",
            "  benign    (1): 357 \n",
            "\n",
            "Feature names: ['mean radius' 'mean texture' 'mean perimeter' 'mean area'\n",
            " 'mean smoothness' 'mean compactness' 'mean concavity'\n",
            " 'mean concave points' 'mean symmetry' 'mean fractal dimension'\n",
            " 'radius error' 'texture error' 'perimeter error' 'area error'\n",
            " 'smoothness error' 'compactness error' 'concavity error'\n",
            " 'concave points error' 'symmetry error' 'fractal dimension error'\n",
            " 'worst radius' 'worst texture' 'worst perimeter' 'worst area'\n",
            " 'worst smoothness' 'worst compactness' 'worst concavity'\n",
            " 'worst concave points' 'worst symmetry' 'worst fractal dimension']\n",
            "Minimum, mean and maximum input data values:  0.0 61.890712339519624 4254.0\n",
            "\n",
            "Number of missing values in the data: 0\n",
            "Number of missing values in the labels: 0\n",
            "\n",
            "   mean radius  mean texture  mean perimeter  mean area  mean smoothness  \\\n",
            "0        17.99         10.38          122.80     1001.0          0.11840   \n",
            "1        20.57         17.77          132.90     1326.0          0.08474   \n",
            "2        19.69         21.25          130.00     1203.0          0.10960   \n",
            "3        11.42         20.38           77.58      386.1          0.14250   \n",
            "4        20.29         14.34          135.10     1297.0          0.10030   \n",
            "\n",
            "   mean compactness  mean concavity  mean concave points  mean symmetry  \\\n",
            "0           0.27760          0.3001              0.14710         0.2419   \n",
            "1           0.07864          0.0869              0.07017         0.1812   \n",
            "2           0.15990          0.1974              0.12790         0.2069   \n",
            "3           0.28390          0.2414              0.10520         0.2597   \n",
            "4           0.13280          0.1980              0.10430         0.1809   \n",
            "\n",
            "   mean fractal dimension  ...  worst radius  worst texture  worst perimeter  \\\n",
            "0                 0.07871  ...         25.38          17.33           184.60   \n",
            "1                 0.05667  ...         24.99          23.41           158.80   \n",
            "2                 0.05999  ...         23.57          25.53           152.50   \n",
            "3                 0.09744  ...         14.91          26.50            98.87   \n",
            "4                 0.05883  ...         22.54          16.67           152.20   \n",
            "\n",
            "   worst area  worst smoothness  worst compactness  worst concavity  \\\n",
            "0      2019.0            0.1622             0.6656           0.7119   \n",
            "1      1956.0            0.1238             0.1866           0.2416   \n",
            "2      1709.0            0.1444             0.4245           0.4504   \n",
            "3       567.7            0.2098             0.8663           0.6869   \n",
            "4      1575.0            0.1374             0.2050           0.4000   \n",
            "\n",
            "   worst concave points  worst symmetry  worst fractal dimension  \n",
            "0                0.2654          0.4601                  0.11890  \n",
            "1                0.1860          0.2750                  0.08902  \n",
            "2                0.2430          0.3613                  0.08758  \n",
            "3                0.2575          0.6638                  0.17300  \n",
            "4                0.1625          0.2364                  0.07678  \n",
            "\n",
            "[5 rows x 30 columns]\n"
          ]
        }
      ]
    },
    {
      "cell_type": "markdown",
      "source": [
        "1.2. Clean and preprocess the data\n",
        "- Normalize or standardize the input features (important for multilayer neural networks).\n",
        "- Split the data into **training**, **validation**, and **test** sets."
      ],
      "metadata": {
        "id": "Bs0soqrY1ILZ"
      }
    },
    {
      "cell_type": "code",
      "source": [
        "from sklearn.model_selection import train_test_split\n",
        "from sklearn.preprocessing import StandardScaler, MinMaxScaler\n",
        "\n",
        "X, y = cancer.data, cancer.target\n",
        "\n",
        "# Preprocess the data:\n",
        "# 1. Reshape (vectorize) the input data to have the shape (number of samlples, number of features) ... Already in correct format\n",
        "# 2. Convert the data into floating-point numbers ... Already in correct format\n",
        "# 3. Resolve missing values, incorrect values... not needed (data is clean)\n",
        "# 4. One-hot encode the labels (for multi-class problems)... not needed (binary classification)\n",
        "#       y_train_categorical = keras.utils.to_categorical(y_train, num_classes=10) ... to one-hot encoding\n",
        "# 5. Data augmentation,...\n",
        "\n",
        "# 6. Split the dataset - into training, validation and testing sets\n",
        "X_train, X_test, y_train, y_test = train_test_split(X, y, test_size=0.2, random_state=42)\n",
        "X_train, X_val, y_train, y_val = train_test_split(X_train, y_train, test_size=0.2, random_state=42)\n",
        "\n",
        "# 7. Normalize the features to improve training stability\n",
        "# - StandardScaler: Centers data around zero and scales to unit variance\n",
        "# - MinMaxScaler: Scales features to a given range (default [0,1], here [-1,1])\n",
        "scaler = StandardScaler()\n",
        "#scaler = MinMaxScaler(feature_range=(-1, 1)) # alternative option\n",
        "X_train = scaler.fit_transform(X_train)\n",
        "X_test = scaler.transform(X_test)\n",
        "X_val = scaler.transform(X_val)\n"
      ],
      "metadata": {
        "id": "BaA9f-4o1NAy"
      },
      "execution_count": 2,
      "outputs": []
    },
    {
      "cell_type": "markdown",
      "source": [
        "## 2. Define and train the model in Keras"
      ],
      "metadata": {
        "id": "9cdw84rPRA3E"
      }
    },
    {
      "cell_type": "markdown",
      "source": [
        "\n",
        "### 2.1. Define the model architecture\n",
        "- the **type** of the model (Sequential,  Functional or Subclassing API)\n",
        "- the **number and type of the layers**\n",
        "- The **number of units (neurons)** in each layer\n",
        "- The **activation functions** used in each layer\n",
        "\n",
        "Keras supports three main ways to define models:\n",
        "\n",
        "1. **Sequential API** – simple, stack-like models  \n",
        "2. **Functional API** – more flexible; supports branching, multiple inputs/outputs  \n",
        "3. **Model Subclassing (object-oriented API)** – maximum control; define custom logic using Python classes\n",
        "\n",
        "In this notebook, we'll use the Sequential API, which is the easiest and most readable option for simple sequential neural networks.\n",
        "\n",
        "### How to set architecture of a MLP model for binary classification?\n",
        "- Use fully connected (**Dense**) layers.\n",
        "- Activations:\n",
        "    - 'sigmoid' activation function in the output layer\n",
        "    - 'relu' or 'tanh' in the hidden layers\n",
        "- The **number of layers and neurons** is usually determined **experimentally** (through hyperparameter tuning)."
      ],
      "metadata": {
        "id": "QFSdzLWnLOWQ"
      }
    },
    {
      "cell_type": "code",
      "source": [
        "# we can set Keras backend (default: 'tensorflow')\n",
        "import os\n",
        "os.environ[\"KERAS_BACKEND\"] = \"torch\"  # \"tensorflow\" \"jax\", \"torch\"\n",
        "\n",
        "import keras"
      ],
      "metadata": {
        "id": "ygPp8wuYRp8a"
      },
      "execution_count": 3,
      "outputs": []
    },
    {
      "cell_type": "code",
      "source": [
        "\n",
        "from keras import layers\n",
        "\n",
        "model = keras.Sequential([\n",
        "    layers.InputLayer(shape=(X_train.shape[1],)),  # Input Layer\n",
        "    layers.Dense(30, activation='relu'),  # First hidden layer\n",
        "    layers.Dense(15, activation='relu'),  # Second hidden layer\n",
        "    layers.Dense(1, activation='sigmoid')  # Output layer for binary classification\n",
        "])\n",
        "\n",
        "model.summary()"
      ],
      "metadata": {
        "colab": {
          "base_uri": "https://localhost:8080/",
          "height": 228
        },
        "id": "ycAybcs9Knby",
        "outputId": "5f296198-a986-49d2-be39-bfc640787205"
      },
      "execution_count": 4,
      "outputs": [
        {
          "output_type": "display_data",
          "data": {
            "text/plain": [
              "\u001b[1mModel: \"sequential\"\u001b[0m\n"
            ],
            "text/html": [
              "<pre style=\"white-space:pre;overflow-x:auto;line-height:normal;font-family:Menlo,'DejaVu Sans Mono',consolas,'Courier New',monospace\"><span style=\"font-weight: bold\">Model: \"sequential\"</span>\n",
              "</pre>\n"
            ]
          },
          "metadata": {}
        },
        {
          "output_type": "display_data",
          "data": {
            "text/plain": [
              "┏━━━━━━━━━━━━━━━━━━━━━━━━━━━━━━━━━━━━━━┳━━━━━━━━━━━━━━━━━━━━━━━━━━━━━┳━━━━━━━━━━━━━━━━━┓\n",
              "┃\u001b[1m \u001b[0m\u001b[1mLayer (type)                        \u001b[0m\u001b[1m \u001b[0m┃\u001b[1m \u001b[0m\u001b[1mOutput Shape               \u001b[0m\u001b[1m \u001b[0m┃\u001b[1m \u001b[0m\u001b[1m        Param #\u001b[0m\u001b[1m \u001b[0m┃\n",
              "┡━━━━━━━━━━━━━━━━━━━━━━━━━━━━━━━━━━━━━━╇━━━━━━━━━━━━━━━━━━━━━━━━━━━━━╇━━━━━━━━━━━━━━━━━┩\n",
              "│ dense (\u001b[38;5;33mDense\u001b[0m)                        │ (\u001b[38;5;45mNone\u001b[0m, \u001b[38;5;34m30\u001b[0m)                  │             \u001b[38;5;34m930\u001b[0m │\n",
              "├──────────────────────────────────────┼─────────────────────────────┼─────────────────┤\n",
              "│ dense_1 (\u001b[38;5;33mDense\u001b[0m)                      │ (\u001b[38;5;45mNone\u001b[0m, \u001b[38;5;34m15\u001b[0m)                  │             \u001b[38;5;34m465\u001b[0m │\n",
              "├──────────────────────────────────────┼─────────────────────────────┼─────────────────┤\n",
              "│ dense_2 (\u001b[38;5;33mDense\u001b[0m)                      │ (\u001b[38;5;45mNone\u001b[0m, \u001b[38;5;34m1\u001b[0m)                   │              \u001b[38;5;34m16\u001b[0m │\n",
              "└──────────────────────────────────────┴─────────────────────────────┴─────────────────┘\n"
            ],
            "text/html": [
              "<pre style=\"white-space:pre;overflow-x:auto;line-height:normal;font-family:Menlo,'DejaVu Sans Mono',consolas,'Courier New',monospace\">┏━━━━━━━━━━━━━━━━━━━━━━━━━━━━━━━━━━━━━━┳━━━━━━━━━━━━━━━━━━━━━━━━━━━━━┳━━━━━━━━━━━━━━━━━┓\n",
              "┃<span style=\"font-weight: bold\"> Layer (type)                         </span>┃<span style=\"font-weight: bold\"> Output Shape                </span>┃<span style=\"font-weight: bold\">         Param # </span>┃\n",
              "┡━━━━━━━━━━━━━━━━━━━━━━━━━━━━━━━━━━━━━━╇━━━━━━━━━━━━━━━━━━━━━━━━━━━━━╇━━━━━━━━━━━━━━━━━┩\n",
              "│ dense (<span style=\"color: #0087ff; text-decoration-color: #0087ff\">Dense</span>)                        │ (<span style=\"color: #00d7ff; text-decoration-color: #00d7ff\">None</span>, <span style=\"color: #00af00; text-decoration-color: #00af00\">30</span>)                  │             <span style=\"color: #00af00; text-decoration-color: #00af00\">930</span> │\n",
              "├──────────────────────────────────────┼─────────────────────────────┼─────────────────┤\n",
              "│ dense_1 (<span style=\"color: #0087ff; text-decoration-color: #0087ff\">Dense</span>)                      │ (<span style=\"color: #00d7ff; text-decoration-color: #00d7ff\">None</span>, <span style=\"color: #00af00; text-decoration-color: #00af00\">15</span>)                  │             <span style=\"color: #00af00; text-decoration-color: #00af00\">465</span> │\n",
              "├──────────────────────────────────────┼─────────────────────────────┼─────────────────┤\n",
              "│ dense_2 (<span style=\"color: #0087ff; text-decoration-color: #0087ff\">Dense</span>)                      │ (<span style=\"color: #00d7ff; text-decoration-color: #00d7ff\">None</span>, <span style=\"color: #00af00; text-decoration-color: #00af00\">1</span>)                   │              <span style=\"color: #00af00; text-decoration-color: #00af00\">16</span> │\n",
              "└──────────────────────────────────────┴─────────────────────────────┴─────────────────┘\n",
              "</pre>\n"
            ]
          },
          "metadata": {}
        },
        {
          "output_type": "display_data",
          "data": {
            "text/plain": [
              "\u001b[1m Total params: \u001b[0m\u001b[38;5;34m1,411\u001b[0m (5.51 KB)\n"
            ],
            "text/html": [
              "<pre style=\"white-space:pre;overflow-x:auto;line-height:normal;font-family:Menlo,'DejaVu Sans Mono',consolas,'Courier New',monospace\"><span style=\"font-weight: bold\"> Total params: </span><span style=\"color: #00af00; text-decoration-color: #00af00\">1,411</span> (5.51 KB)\n",
              "</pre>\n"
            ]
          },
          "metadata": {}
        },
        {
          "output_type": "display_data",
          "data": {
            "text/plain": [
              "\u001b[1m Trainable params: \u001b[0m\u001b[38;5;34m1,411\u001b[0m (5.51 KB)\n"
            ],
            "text/html": [
              "<pre style=\"white-space:pre;overflow-x:auto;line-height:normal;font-family:Menlo,'DejaVu Sans Mono',consolas,'Courier New',monospace\"><span style=\"font-weight: bold\"> Trainable params: </span><span style=\"color: #00af00; text-decoration-color: #00af00\">1,411</span> (5.51 KB)\n",
              "</pre>\n"
            ]
          },
          "metadata": {}
        },
        {
          "output_type": "display_data",
          "data": {
            "text/plain": [
              "\u001b[1m Non-trainable params: \u001b[0m\u001b[38;5;34m0\u001b[0m (0.00 B)\n"
            ],
            "text/html": [
              "<pre style=\"white-space:pre;overflow-x:auto;line-height:normal;font-family:Menlo,'DejaVu Sans Mono',consolas,'Courier New',monospace\"><span style=\"font-weight: bold\"> Non-trainable params: </span><span style=\"color: #00af00; text-decoration-color: #00af00\">0</span> (0.00 B)\n",
              "</pre>\n"
            ]
          },
          "metadata": {}
        }
      ]
    },
    {
      "cell_type": "markdown",
      "source": [
        "### 2.2 Set Hyperparameters\n",
        "- **Loss function:** 'binary_crossentropy' (for binary classification)\n",
        "\n",
        "- **Evaluation Metrics:** 'Accuracy', 'Precision', 'Recall', 'F1-score', ... (for classification)\n",
        "- **Optimizer:** `adam`, `sgd`, `rmsprop`, `adagrad`, etc.\n",
        "- set **parameters of the optimizer** (e.g., learning rate,...)\n",
        "```python\n",
        "keras.optimizers.Adam(learning_rate=0.001)\n",
        "```\n",
        "- **batch size:** 16, 32, 64, 128, 256\n",
        "    - Smaller = slower training, possibly better generalization\n",
        "    - Larger = faster training, but may converge poorly\n",
        "- **number of epochs:** Typically determined experimentally, with help of:\n",
        "\n",
        "    - validation accuracy,\n",
        "    - early stopping\n",
        "    - overfitting analysis\n"
      ],
      "metadata": {
        "id": "dpehTNfb7Vz8"
      }
    },
    {
      "cell_type": "code",
      "source": [
        "# Define optimizer with custom learning rate and other parameters\n",
        "optimizer = keras.optimizers.SGD(learning_rate=0.01, momentum=0.9)\n",
        "\n",
        "# Configure and initialize the model:\n",
        "model.compile(optimizer=optimizer, loss='binary_crossentropy', metrics=[ 'accuracy', keras.metrics.Precision(name='precision'), keras.metrics.Recall(name='recall')])"
      ],
      "metadata": {
        "id": "W3v5vmFWKmK3"
      },
      "execution_count": 5,
      "outputs": []
    },
    {
      "cell_type": "markdown",
      "source": [
        "- we can use **compile()** to re-initialize the model again"
      ],
      "metadata": {
        "id": "NK0z2VlmHJ8S"
      }
    },
    {
      "cell_type": "markdown",
      "source": [
        "## 3. Train the model"
      ],
      "metadata": {
        "id": "jgcUOpWJRPfw"
      }
    },
    {
      "cell_type": "code",
      "source": [
        "history = model.fit(X_train, y_train, epochs=50, batch_size=16, validation_data=(X_val, y_val))"
      ],
      "metadata": {
        "colab": {
          "base_uri": "https://localhost:8080/"
        },
        "id": "hnNQU2bURag9",
        "outputId": "ad346093-944b-4205-f96c-7a7c7adf6164"
      },
      "execution_count": 6,
      "outputs": [
        {
          "output_type": "stream",
          "name": "stdout",
          "text": [
            "Epoch 1/50\n",
            "\u001b[1m23/23\u001b[0m \u001b[32m━━━━━━━━━━━━━━━━━━━━\u001b[0m\u001b[37m\u001b[0m \u001b[1m0s\u001b[0m 8ms/step - accuracy: 0.6660 - loss: 0.6408 - precision: 0.7967 - recall: 0.5486 - val_accuracy: 0.9231 - val_loss: 0.2986 - val_precision: 0.9138 - val_recall: 0.9636\n",
            "Epoch 2/50\n",
            "\u001b[1m23/23\u001b[0m \u001b[32m━━━━━━━━━━━━━━━━━━━━\u001b[0m\u001b[37m\u001b[0m \u001b[1m0s\u001b[0m 7ms/step - accuracy: 0.9379 - loss: 0.2265 - precision: 0.9090 - recall: 0.9981 - val_accuracy: 0.9341 - val_loss: 0.1844 - val_precision: 0.9298 - val_recall: 0.9636\n",
            "Epoch 3/50\n",
            "\u001b[1m23/23\u001b[0m \u001b[32m━━━━━━━━━━━━━━━━━━━━\u001b[0m\u001b[37m\u001b[0m \u001b[1m0s\u001b[0m 7ms/step - accuracy: 0.9786 - loss: 0.1079 - precision: 0.9686 - recall: 0.9996 - val_accuracy: 0.9560 - val_loss: 0.1555 - val_precision: 0.9474 - val_recall: 0.9818\n",
            "Epoch 4/50\n",
            "\u001b[1m23/23\u001b[0m \u001b[32m━━━━━━━━━━━━━━━━━━━━\u001b[0m\u001b[37m\u001b[0m \u001b[1m0s\u001b[0m 7ms/step - accuracy: 0.9822 - loss: 0.0695 - precision: 0.9783 - recall: 0.9940 - val_accuracy: 0.9560 - val_loss: 0.1468 - val_precision: 0.9474 - val_recall: 0.9818\n",
            "Epoch 5/50\n",
            "\u001b[1m23/23\u001b[0m \u001b[32m━━━━━━━━━━━━━━━━━━━━\u001b[0m\u001b[37m\u001b[0m \u001b[1m0s\u001b[0m 8ms/step - accuracy: 0.9853 - loss: 0.0609 - precision: 0.9919 - recall: 0.9836 - val_accuracy: 0.9560 - val_loss: 0.1419 - val_precision: 0.9474 - val_recall: 0.9818\n",
            "Epoch 6/50\n",
            "\u001b[1m23/23\u001b[0m \u001b[32m━━━━━━━━━━━━━━━━━━━━\u001b[0m\u001b[37m\u001b[0m \u001b[1m0s\u001b[0m 7ms/step - accuracy: 0.9884 - loss: 0.0534 - precision: 0.9853 - recall: 0.9962 - val_accuracy: 0.9560 - val_loss: 0.1404 - val_precision: 0.9474 - val_recall: 0.9818\n",
            "Epoch 7/50\n",
            "\u001b[1m23/23\u001b[0m \u001b[32m━━━━━━━━━━━━━━━━━━━━\u001b[0m\u001b[37m\u001b[0m \u001b[1m0s\u001b[0m 7ms/step - accuracy: 0.9932 - loss: 0.0452 - precision: 0.9953 - recall: 0.9941 - val_accuracy: 0.9560 - val_loss: 0.1431 - val_precision: 0.9474 - val_recall: 0.9818\n",
            "Epoch 8/50\n",
            "\u001b[1m23/23\u001b[0m \u001b[32m━━━━━━━━━━━━━━━━━━━━\u001b[0m\u001b[37m\u001b[0m \u001b[1m0s\u001b[0m 7ms/step - accuracy: 0.9893 - loss: 0.0392 - precision: 0.9850 - recall: 0.9981 - val_accuracy: 0.9560 - val_loss: 0.1429 - val_precision: 0.9474 - val_recall: 0.9818\n",
            "Epoch 9/50\n",
            "\u001b[1m23/23\u001b[0m \u001b[32m━━━━━━━━━━━━━━━━━━━━\u001b[0m\u001b[37m\u001b[0m \u001b[1m0s\u001b[0m 7ms/step - accuracy: 0.9887 - loss: 0.0435 - precision: 0.9927 - recall: 0.9888 - val_accuracy: 0.9560 - val_loss: 0.1431 - val_precision: 0.9474 - val_recall: 0.9818\n",
            "Epoch 10/50\n",
            "\u001b[1m23/23\u001b[0m \u001b[32m━━━━━━━━━━━━━━━━━━━━\u001b[0m\u001b[37m\u001b[0m \u001b[1m0s\u001b[0m 7ms/step - accuracy: 0.9969 - loss: 0.0286 - precision: 0.9953 - recall: 1.0000 - val_accuracy: 0.9560 - val_loss: 0.1432 - val_precision: 0.9474 - val_recall: 0.9818\n",
            "Epoch 11/50\n",
            "\u001b[1m23/23\u001b[0m \u001b[32m━━━━━━━━━━━━━━━━━━━━\u001b[0m\u001b[37m\u001b[0m \u001b[1m0s\u001b[0m 8ms/step - accuracy: 0.9990 - loss: 0.0209 - precision: 0.9984 - recall: 1.0000 - val_accuracy: 0.9670 - val_loss: 0.1437 - val_precision: 0.9643 - val_recall: 0.9818\n",
            "Epoch 12/50\n",
            "\u001b[1m23/23\u001b[0m \u001b[32m━━━━━━━━━━━━━━━━━━━━\u001b[0m\u001b[37m\u001b[0m \u001b[1m0s\u001b[0m 7ms/step - accuracy: 0.9994 - loss: 0.0232 - precision: 0.9991 - recall: 1.0000 - val_accuracy: 0.9670 - val_loss: 0.1438 - val_precision: 0.9643 - val_recall: 0.9818\n",
            "Epoch 13/50\n",
            "\u001b[1m23/23\u001b[0m \u001b[32m━━━━━━━━━━━━━━━━━━━━\u001b[0m\u001b[37m\u001b[0m \u001b[1m0s\u001b[0m 7ms/step - accuracy: 0.9980 - loss: 0.0225 - precision: 0.9970 - recall: 1.0000 - val_accuracy: 0.9670 - val_loss: 0.1437 - val_precision: 0.9643 - val_recall: 0.9818\n",
            "Epoch 14/50\n",
            "\u001b[1m23/23\u001b[0m \u001b[32m━━━━━━━━━━━━━━━━━━━━\u001b[0m\u001b[37m\u001b[0m \u001b[1m0s\u001b[0m 7ms/step - accuracy: 0.9949 - loss: 0.0218 - precision: 0.9923 - recall: 1.0000 - val_accuracy: 0.9670 - val_loss: 0.1443 - val_precision: 0.9643 - val_recall: 0.9818\n",
            "Epoch 15/50\n",
            "\u001b[1m23/23\u001b[0m \u001b[32m━━━━━━━━━━━━━━━━━━━━\u001b[0m\u001b[37m\u001b[0m \u001b[1m0s\u001b[0m 7ms/step - accuracy: 0.9993 - loss: 0.0180 - precision: 0.9988 - recall: 1.0000 - val_accuracy: 0.9670 - val_loss: 0.1447 - val_precision: 0.9643 - val_recall: 0.9818\n",
            "Epoch 16/50\n",
            "\u001b[1m23/23\u001b[0m \u001b[32m━━━━━━━━━━━━━━━━━━━━\u001b[0m\u001b[37m\u001b[0m \u001b[1m0s\u001b[0m 7ms/step - accuracy: 0.9990 - loss: 0.0152 - precision: 0.9983 - recall: 1.0000 - val_accuracy: 0.9670 - val_loss: 0.1442 - val_precision: 0.9643 - val_recall: 0.9818\n",
            "Epoch 17/50\n",
            "\u001b[1m23/23\u001b[0m \u001b[32m━━━━━━━━━━━━━━━━━━━━\u001b[0m\u001b[37m\u001b[0m \u001b[1m0s\u001b[0m 8ms/step - accuracy: 0.9949 - loss: 0.0185 - precision: 0.9925 - recall: 1.0000 - val_accuracy: 0.9670 - val_loss: 0.1443 - val_precision: 0.9643 - val_recall: 0.9818\n",
            "Epoch 18/50\n",
            "\u001b[1m23/23\u001b[0m \u001b[32m━━━━━━━━━━━━━━━━━━━━\u001b[0m\u001b[37m\u001b[0m \u001b[1m0s\u001b[0m 7ms/step - accuracy: 0.9984 - loss: 0.0118 - precision: 0.9975 - recall: 1.0000 - val_accuracy: 0.9670 - val_loss: 0.1460 - val_precision: 0.9643 - val_recall: 0.9818\n",
            "Epoch 19/50\n",
            "\u001b[1m23/23\u001b[0m \u001b[32m━━━━━━━━━━━━━━━━━━━━\u001b[0m\u001b[37m\u001b[0m \u001b[1m0s\u001b[0m 7ms/step - accuracy: 0.9982 - loss: 0.0130 - precision: 0.9972 - recall: 1.0000 - val_accuracy: 0.9670 - val_loss: 0.1457 - val_precision: 0.9643 - val_recall: 0.9818\n",
            "Epoch 20/50\n",
            "\u001b[1m23/23\u001b[0m \u001b[32m━━━━━━━━━━━━━━━━━━━━\u001b[0m\u001b[37m\u001b[0m \u001b[1m0s\u001b[0m 7ms/step - accuracy: 0.9902 - loss: 0.0187 - precision: 0.9854 - recall: 1.0000 - val_accuracy: 0.9670 - val_loss: 0.1465 - val_precision: 0.9643 - val_recall: 0.9818\n",
            "Epoch 21/50\n",
            "\u001b[1m23/23\u001b[0m \u001b[32m━━━━━━━━━━━━━━━━━━━━\u001b[0m\u001b[37m\u001b[0m \u001b[1m0s\u001b[0m 7ms/step - accuracy: 0.9941 - loss: 0.0141 - precision: 0.9909 - recall: 1.0000 - val_accuracy: 0.9670 - val_loss: 0.1485 - val_precision: 0.9643 - val_recall: 0.9818\n",
            "Epoch 22/50\n",
            "\u001b[1m23/23\u001b[0m \u001b[32m━━━━━━━━━━━━━━━━━━━━\u001b[0m\u001b[37m\u001b[0m \u001b[1m0s\u001b[0m 8ms/step - accuracy: 0.9956 - loss: 0.0140 - precision: 0.9930 - recall: 1.0000 - val_accuracy: 0.9670 - val_loss: 0.1495 - val_precision: 0.9643 - val_recall: 0.9818\n",
            "Epoch 23/50\n",
            "\u001b[1m23/23\u001b[0m \u001b[32m━━━━━━━━━━━━━━━━━━━━\u001b[0m\u001b[37m\u001b[0m \u001b[1m0s\u001b[0m 7ms/step - accuracy: 0.9995 - loss: 0.0061 - precision: 0.9993 - recall: 1.0000 - val_accuracy: 0.9670 - val_loss: 0.1521 - val_precision: 0.9643 - val_recall: 0.9818\n",
            "Epoch 24/50\n",
            "\u001b[1m23/23\u001b[0m \u001b[32m━━━━━━━━━━━━━━━━━━━━\u001b[0m\u001b[37m\u001b[0m \u001b[1m0s\u001b[0m 11ms/step - accuracy: 0.9941 - loss: 0.0140 - precision: 0.9903 - recall: 1.0000 - val_accuracy: 0.9670 - val_loss: 0.1507 - val_precision: 0.9643 - val_recall: 0.9818\n",
            "Epoch 25/50\n",
            "\u001b[1m23/23\u001b[0m \u001b[32m━━━━━━━━━━━━━━━━━━━━\u001b[0m\u001b[37m\u001b[0m \u001b[1m0s\u001b[0m 10ms/step - accuracy: 0.9998 - loss: 0.0066 - precision: 0.9996 - recall: 1.0000 - val_accuracy: 0.9670 - val_loss: 0.1537 - val_precision: 0.9643 - val_recall: 0.9818\n",
            "Epoch 26/50\n",
            "\u001b[1m23/23\u001b[0m \u001b[32m━━━━━━━━━━━━━━━━━━━━\u001b[0m\u001b[37m\u001b[0m \u001b[1m0s\u001b[0m 9ms/step - accuracy: 0.9995 - loss: 0.0095 - precision: 0.9993 - recall: 1.0000 - val_accuracy: 0.9670 - val_loss: 0.1528 - val_precision: 0.9643 - val_recall: 0.9818\n",
            "Epoch 27/50\n",
            "\u001b[1m23/23\u001b[0m \u001b[32m━━━━━━━━━━━━━━━━━━━━\u001b[0m\u001b[37m\u001b[0m \u001b[1m0s\u001b[0m 9ms/step - accuracy: 0.9994 - loss: 0.0103 - precision: 0.9990 - recall: 1.0000 - val_accuracy: 0.9670 - val_loss: 0.1540 - val_precision: 0.9643 - val_recall: 0.9818\n",
            "Epoch 28/50\n",
            "\u001b[1m23/23\u001b[0m \u001b[32m━━━━━━━━━━━━━━━━━━━━\u001b[0m\u001b[37m\u001b[0m \u001b[1m0s\u001b[0m 10ms/step - accuracy: 1.0000 - loss: 0.0058 - precision: 1.0000 - recall: 1.0000 - val_accuracy: 0.9670 - val_loss: 0.1558 - val_precision: 0.9643 - val_recall: 0.9818\n",
            "Epoch 29/50\n",
            "\u001b[1m23/23\u001b[0m \u001b[32m━━━━━━━━━━━━━━━━━━━━\u001b[0m\u001b[37m\u001b[0m \u001b[1m0s\u001b[0m 10ms/step - accuracy: 1.0000 - loss: 0.0086 - precision: 1.0000 - recall: 1.0000 - val_accuracy: 0.9670 - val_loss: 0.1564 - val_precision: 0.9643 - val_recall: 0.9818\n",
            "Epoch 30/50\n",
            "\u001b[1m23/23\u001b[0m \u001b[32m━━━━━━━━━━━━━━━━━━━━\u001b[0m\u001b[37m\u001b[0m \u001b[1m0s\u001b[0m 9ms/step - accuracy: 1.0000 - loss: 0.0067 - precision: 1.0000 - recall: 1.0000 - val_accuracy: 0.9670 - val_loss: 0.1579 - val_precision: 0.9643 - val_recall: 0.9818\n",
            "Epoch 31/50\n",
            "\u001b[1m23/23\u001b[0m \u001b[32m━━━━━━━━━━━━━━━━━━━━\u001b[0m\u001b[37m\u001b[0m \u001b[1m0s\u001b[0m 10ms/step - accuracy: 1.0000 - loss: 0.0083 - precision: 1.0000 - recall: 1.0000 - val_accuracy: 0.9670 - val_loss: 0.1593 - val_precision: 0.9643 - val_recall: 0.9818\n",
            "Epoch 32/50\n",
            "\u001b[1m23/23\u001b[0m \u001b[32m━━━━━━━━━━━━━━━━━━━━\u001b[0m\u001b[37m\u001b[0m \u001b[1m0s\u001b[0m 9ms/step - accuracy: 1.0000 - loss: 0.0092 - precision: 1.0000 - recall: 1.0000 - val_accuracy: 0.9670 - val_loss: 0.1595 - val_precision: 0.9643 - val_recall: 0.9818\n",
            "Epoch 33/50\n",
            "\u001b[1m23/23\u001b[0m \u001b[32m━━━━━━━━━━━━━━━━━━━━\u001b[0m\u001b[37m\u001b[0m \u001b[1m0s\u001b[0m 10ms/step - accuracy: 1.0000 - loss: 0.0056 - precision: 1.0000 - recall: 1.0000 - val_accuracy: 0.9670 - val_loss: 0.1616 - val_precision: 0.9643 - val_recall: 0.9818\n",
            "Epoch 34/50\n",
            "\u001b[1m23/23\u001b[0m \u001b[32m━━━━━━━━━━━━━━━━━━━━\u001b[0m\u001b[37m\u001b[0m \u001b[1m0s\u001b[0m 11ms/step - accuracy: 1.0000 - loss: 0.0059 - precision: 1.0000 - recall: 1.0000 - val_accuracy: 0.9670 - val_loss: 0.1637 - val_precision: 0.9643 - val_recall: 0.9818\n",
            "Epoch 35/50\n",
            "\u001b[1m23/23\u001b[0m \u001b[32m━━━━━━━━━━━━━━━━━━━━\u001b[0m\u001b[37m\u001b[0m \u001b[1m0s\u001b[0m 7ms/step - accuracy: 1.0000 - loss: 0.0041 - precision: 1.0000 - recall: 1.0000 - val_accuracy: 0.9670 - val_loss: 0.1629 - val_precision: 0.9643 - val_recall: 0.9818\n",
            "Epoch 36/50\n",
            "\u001b[1m23/23\u001b[0m \u001b[32m━━━━━━━━━━━━━━━━━━━━\u001b[0m\u001b[37m\u001b[0m \u001b[1m0s\u001b[0m 8ms/step - accuracy: 1.0000 - loss: 0.0072 - precision: 1.0000 - recall: 1.0000 - val_accuracy: 0.9670 - val_loss: 0.1636 - val_precision: 0.9643 - val_recall: 0.9818\n",
            "Epoch 37/50\n",
            "\u001b[1m23/23\u001b[0m \u001b[32m━━━━━━━━━━━━━━━━━━━━\u001b[0m\u001b[37m\u001b[0m \u001b[1m0s\u001b[0m 7ms/step - accuracy: 1.0000 - loss: 0.0035 - precision: 1.0000 - recall: 1.0000 - val_accuracy: 0.9670 - val_loss: 0.1658 - val_precision: 0.9643 - val_recall: 0.9818\n",
            "Epoch 38/50\n",
            "\u001b[1m23/23\u001b[0m \u001b[32m━━━━━━━━━━━━━━━━━━━━\u001b[0m\u001b[37m\u001b[0m \u001b[1m0s\u001b[0m 7ms/step - accuracy: 1.0000 - loss: 0.0040 - precision: 1.0000 - recall: 1.0000 - val_accuracy: 0.9670 - val_loss: 0.1669 - val_precision: 0.9643 - val_recall: 0.9818\n",
            "Epoch 39/50\n",
            "\u001b[1m23/23\u001b[0m \u001b[32m━━━━━━━━━━━━━━━━━━━━\u001b[0m\u001b[37m\u001b[0m \u001b[1m0s\u001b[0m 8ms/step - accuracy: 1.0000 - loss: 0.0068 - precision: 1.0000 - recall: 1.0000 - val_accuracy: 0.9670 - val_loss: 0.1677 - val_precision: 0.9643 - val_recall: 0.9818\n",
            "Epoch 40/50\n",
            "\u001b[1m23/23\u001b[0m \u001b[32m━━━━━━━━━━━━━━━━━━━━\u001b[0m\u001b[37m\u001b[0m \u001b[1m0s\u001b[0m 7ms/step - accuracy: 1.0000 - loss: 0.0056 - precision: 1.0000 - recall: 1.0000 - val_accuracy: 0.9670 - val_loss: 0.1691 - val_precision: 0.9643 - val_recall: 0.9818\n",
            "Epoch 41/50\n",
            "\u001b[1m23/23\u001b[0m \u001b[32m━━━━━━━━━━━━━━━━━━━━\u001b[0m\u001b[37m\u001b[0m \u001b[1m0s\u001b[0m 7ms/step - accuracy: 1.0000 - loss: 0.0038 - precision: 1.0000 - recall: 1.0000 - val_accuracy: 0.9670 - val_loss: 0.1704 - val_precision: 0.9643 - val_recall: 0.9818\n",
            "Epoch 42/50\n",
            "\u001b[1m23/23\u001b[0m \u001b[32m━━━━━━━━━━━━━━━━━━━━\u001b[0m\u001b[37m\u001b[0m \u001b[1m0s\u001b[0m 8ms/step - accuracy: 1.0000 - loss: 0.0047 - precision: 1.0000 - recall: 1.0000 - val_accuracy: 0.9670 - val_loss: 0.1707 - val_precision: 0.9643 - val_recall: 0.9818\n",
            "Epoch 43/50\n",
            "\u001b[1m23/23\u001b[0m \u001b[32m━━━━━━━━━━━━━━━━━━━━\u001b[0m\u001b[37m\u001b[0m \u001b[1m0s\u001b[0m 7ms/step - accuracy: 1.0000 - loss: 0.0032 - precision: 1.0000 - recall: 1.0000 - val_accuracy: 0.9670 - val_loss: 0.1720 - val_precision: 0.9643 - val_recall: 0.9818\n",
            "Epoch 44/50\n",
            "\u001b[1m23/23\u001b[0m \u001b[32m━━━━━━━━━━━━━━━━━━━━\u001b[0m\u001b[37m\u001b[0m \u001b[1m0s\u001b[0m 7ms/step - accuracy: 1.0000 - loss: 0.0025 - precision: 1.0000 - recall: 1.0000 - val_accuracy: 0.9670 - val_loss: 0.1730 - val_precision: 0.9643 - val_recall: 0.9818\n",
            "Epoch 45/50\n",
            "\u001b[1m23/23\u001b[0m \u001b[32m━━━━━━━━━━━━━━━━━━━━\u001b[0m\u001b[37m\u001b[0m \u001b[1m0s\u001b[0m 8ms/step - accuracy: 1.0000 - loss: 0.0033 - precision: 1.0000 - recall: 1.0000 - val_accuracy: 0.9670 - val_loss: 0.1732 - val_precision: 0.9643 - val_recall: 0.9818\n",
            "Epoch 46/50\n",
            "\u001b[1m23/23\u001b[0m \u001b[32m━━━━━━━━━━━━━━━━━━━━\u001b[0m\u001b[37m\u001b[0m \u001b[1m0s\u001b[0m 7ms/step - accuracy: 1.0000 - loss: 0.0029 - precision: 1.0000 - recall: 1.0000 - val_accuracy: 0.9670 - val_loss: 0.1741 - val_precision: 0.9643 - val_recall: 0.9818\n",
            "Epoch 47/50\n",
            "\u001b[1m23/23\u001b[0m \u001b[32m━━━━━━━━━━━━━━━━━━━━\u001b[0m\u001b[37m\u001b[0m \u001b[1m0s\u001b[0m 7ms/step - accuracy: 1.0000 - loss: 0.0050 - precision: 1.0000 - recall: 1.0000 - val_accuracy: 0.9670 - val_loss: 0.1753 - val_precision: 0.9643 - val_recall: 0.9818\n",
            "Epoch 48/50\n",
            "\u001b[1m23/23\u001b[0m \u001b[32m━━━━━━━━━━━━━━━━━━━━\u001b[0m\u001b[37m\u001b[0m \u001b[1m0s\u001b[0m 7ms/step - accuracy: 1.0000 - loss: 0.0042 - precision: 1.0000 - recall: 1.0000 - val_accuracy: 0.9670 - val_loss: 0.1773 - val_precision: 0.9643 - val_recall: 0.9818\n",
            "Epoch 49/50\n",
            "\u001b[1m23/23\u001b[0m \u001b[32m━━━━━━━━━━━━━━━━━━━━\u001b[0m\u001b[37m\u001b[0m \u001b[1m0s\u001b[0m 7ms/step - accuracy: 1.0000 - loss: 0.0035 - precision: 1.0000 - recall: 1.0000 - val_accuracy: 0.9670 - val_loss: 0.1776 - val_precision: 0.9643 - val_recall: 0.9818\n",
            "Epoch 50/50\n",
            "\u001b[1m23/23\u001b[0m \u001b[32m━━━━━━━━━━━━━━━━━━━━\u001b[0m\u001b[37m\u001b[0m \u001b[1m0s\u001b[0m 7ms/step - accuracy: 1.0000 - loss: 0.0038 - precision: 1.0000 - recall: 1.0000 - val_accuracy: 0.9670 - val_loss: 0.1780 - val_precision: 0.9643 - val_recall: 0.9818\n"
          ]
        }
      ]
    },
    {
      "cell_type": "code",
      "source": [
        "# Training record:\n",
        "print(history.history.keys())\n",
        "\n",
        "print(\"Loss (binary_crossentropy): \", history.history['loss'])\n",
        "print(\"Accuracy:\", history.history['accuracy'])\n",
        "print(\"Precision:\", history.history['precision'])\n",
        "print(\"Recall:\", history.history['recall'])\n"
      ],
      "metadata": {
        "id": "QOW3mLobERhp",
        "outputId": "b31d0831-5326-49bf-bb25-b35e6db7cd00",
        "colab": {
          "base_uri": "https://localhost:8080/"
        }
      },
      "execution_count": 7,
      "outputs": [
        {
          "output_type": "stream",
          "name": "stdout",
          "text": [
            "dict_keys(['accuracy', 'loss', 'precision', 'recall', 'val_accuracy', 'val_loss', 'val_precision', 'val_recall'])\n",
            "Loss (binary_crossentropy):  [0.5122278332710266, 0.1787654310464859, 0.09877918660640717, 0.07113884389400482, 0.057606108486652374, 0.04963373765349388, 0.0426391139626503, 0.038012754172086716, 0.033448725938797, 0.0301895160228014, 0.027557119727134705, 0.025073517113924026, 0.02273424342274666, 0.02106052078306675, 0.0194400567561388, 0.017739536240696907, 0.01671765185892582, 0.015344792976975441, 0.014375422149896622, 0.013683376833796501, 0.012392404489219189, 0.011685828678309917, 0.011021398939192295, 0.01116072479635477, 0.009617846459150314, 0.009118779562413692, 0.008548733778297901, 0.008133383467793465, 0.007697624154388905, 0.007374781649559736, 0.006925467401742935, 0.006709923967719078, 0.00628436915576458, 0.006295476574450731, 0.005664472468197346, 0.005514883901923895, 0.005262970924377441, 0.005037889815866947, 0.004810817074030638, 0.00463102338835597, 0.004552521277219057, 0.004276912193745375, 0.004137566313147545, 0.004061795771121979, 0.0038329854141920805, 0.0037026333156973124, 0.0036317601334303617, 0.0036172864492982626, 0.0033824348356574774, 0.003250512992963195]\n",
            "Accuracy: [0.807692289352417, 0.9615384340286255, 0.9725274443626404, 0.9835164546966553, 0.9862637519836426, 0.9890109896659851, 0.9890109896659851, 0.9890109896659851, 0.9917582273483276, 0.9972527623176575, 0.9972527623176575, 0.9972527623176575, 0.9972527623176575, 0.9972527623176575, 0.9972527623176575, 0.9972527623176575, 0.9972527623176575, 0.9972527623176575, 0.9972527623176575, 0.9972527623176575, 0.9972527623176575, 0.9972527623176575, 0.9972527623176575, 0.9972527623176575, 0.9972527623176575, 0.9972527623176575, 0.9972527623176575, 1.0, 1.0, 1.0, 1.0, 1.0, 1.0, 1.0, 1.0, 1.0, 1.0, 1.0, 1.0, 1.0, 1.0, 1.0, 1.0, 1.0, 1.0, 1.0, 1.0, 1.0, 1.0, 1.0]\n",
            "Precision: [0.9045225977897644, 0.9465020298957825, 0.9623430967330933, 0.9828326106071472, 0.9870689511299133, 0.9913420081138611, 0.9913420081138611, 0.9913420081138611, 0.9956521987915039, 0.9956896305084229, 0.9956896305084229, 0.9956896305084229, 0.9956896305084229, 0.9956896305084229, 0.9956896305084229, 0.9956896305084229, 0.9956896305084229, 0.9956896305084229, 0.9956896305084229, 0.9956896305084229, 0.9956896305084229, 0.9956896305084229, 0.9956896305084229, 0.9956896305084229, 0.9956896305084229, 0.9956896305084229, 0.9956896305084229, 1.0, 1.0, 1.0, 1.0, 1.0, 1.0, 1.0, 1.0, 1.0, 1.0, 1.0, 1.0, 1.0, 1.0, 1.0, 1.0, 1.0, 1.0, 1.0, 1.0, 1.0, 1.0, 1.0]\n",
            "Recall: [0.7792207598686218, 0.9956709742546082, 0.9956709742546082, 0.9913420081138611, 0.9913420081138611, 0.9913420081138611, 0.9913420081138611, 0.9913420081138611, 0.9913420081138611, 1.0, 1.0, 1.0, 1.0, 1.0, 1.0, 1.0, 1.0, 1.0, 1.0, 1.0, 1.0, 1.0, 1.0, 1.0, 1.0, 1.0, 1.0, 1.0, 1.0, 1.0, 1.0, 1.0, 1.0, 1.0, 1.0, 1.0, 1.0, 1.0, 1.0, 1.0, 1.0, 1.0, 1.0, 1.0, 1.0, 1.0, 1.0, 1.0, 1.0, 1.0]\n"
          ]
        }
      ]
    },
    {
      "cell_type": "markdown",
      "source": [
        "- Visualize the training progress:"
      ],
      "metadata": {
        "id": "N03cHVpvUPCq"
      }
    },
    {
      "cell_type": "code",
      "source": [
        " model.evaluate(X_test, y_test)\n",
        ""
      ],
      "metadata": {
        "id": "ts3iBUlfGUqx",
        "outputId": "54880f65-10ae-43d0-e8b8-5d31f9462ae2",
        "colab": {
          "base_uri": "https://localhost:8080/"
        }
      },
      "execution_count": 8,
      "outputs": [
        {
          "output_type": "stream",
          "name": "stdout",
          "text": [
            "\u001b[1m4/4\u001b[0m \u001b[32m━━━━━━━━━━━━━━━━━━━━\u001b[0m\u001b[37m\u001b[0m \u001b[1m0s\u001b[0m 6ms/step - accuracy: 0.9467 - loss: 0.1245 - precision: 0.9671 - recall: 0.9485\n"
          ]
        },
        {
          "output_type": "execute_result",
          "data": {
            "text/plain": [
              "[0.11231721937656403,\n",
              " 0.9473684430122375,\n",
              " 0.9710144996643066,\n",
              " 0.9436619877815247]"
            ]
          },
          "metadata": {},
          "execution_count": 8
        }
      ]
    },
    {
      "cell_type": "code",
      "source": [
        "# plot the training progress:\n",
        "history_dict = history.history\n",
        "print(history_dict.keys())\n",
        "\n",
        "from matplotlib import pyplot as plt\n",
        "\n",
        "# Plot training & validation accuracy values\n",
        "plt.plot(history.history['accuracy'])\n",
        "plt.plot(history.history['val_accuracy'])\n",
        "plt.title('Model accuracy')\n",
        "plt.ylabel('Accuracy')\n",
        "plt.xlabel('Epoch')\n",
        "plt.legend(['Train', 'Validation'], loc='upper left')\n",
        "plt.show()\n",
        "\n",
        "# Plot training & validation loss values\n",
        "plt.plot(history.history['loss'])\n",
        "plt.plot(history.history['val_loss'])\n",
        "plt.title('Model loss')\n",
        "plt.ylabel('Loss')\n",
        "plt.xlabel('Epoch')\n",
        "plt.legend(['Train', 'Validation'], loc='upper left')\n",
        "plt.show()\n",
        "\n"
      ],
      "metadata": {
        "colab": {
          "base_uri": "https://localhost:8080/",
          "height": 945
        },
        "id": "19Zh7bgoTCea",
        "outputId": "395b50da-3e65-48f4-f1eb-eea71a80d0b7"
      },
      "execution_count": 9,
      "outputs": [
        {
          "output_type": "stream",
          "name": "stdout",
          "text": [
            "dict_keys(['accuracy', 'loss', 'precision', 'recall', 'val_accuracy', 'val_loss', 'val_precision', 'val_recall'])\n"
          ]
        },
        {
          "output_type": "display_data",
          "data": {
            "text/plain": [
              "<Figure size 640x480 with 1 Axes>"
            ],
            "image/png": "[encoded data removed]"
          },
          "metadata": {}
        },
        {
          "output_type": "display_data",
          "data": {
            "text/plain": [
              "<Figure size 640x480 with 1 Axes>"
            ],
            "image/png": "[encoded data removed]"
          },
          "metadata": {}
        }
      ]
    },
    {
      "cell_type": "markdown",
      "source": [
        "## 4. Evaluate the model and make predictions\n",
        "\n",
        "\n"
      ],
      "metadata": {
        "id": "aDxPZRLJIBW_"
      }
    },
    {
      "cell_type": "markdown",
      "source": [
        "###   4.1. Assess model performance on training, validation and test data"
      ],
      "metadata": {
        "id": "WaVw87YZSBdW"
      }
    },
    {
      "cell_type": "code",
      "source": [
        "##########################################################################\n",
        "# 5. Evaluate the model and make predictions\n",
        "# 5a. Evaluate the model on the train, validation and test sets\n",
        "test_loss, test_acc, test_precision, test_recall = model.evaluate(X_test, y_test)\n",
        "train_loss, train_acc, train_precision, train_recall = model.evaluate(X_train, y_train)\n",
        "val_loss, val_acc, val_precision, val_recall = model.evaluate(X_val, y_val)\n",
        "\n",
        "# Print evaluation metrics:\n",
        "print(f\"Train Accuracy:      {train_acc:.4f} | Train Loss:      {train_loss:.4f} | Train Precision:      {train_precision:.4f} | Train Recall:      {train_recall:.4f}\")\n",
        "print(f\"Validation Accuracy: {val_acc:.4f} | Validation Loss: {val_loss:.4f} | Validation Precision: {val_precision:.4f} | Validation Recall: {val_recall:.4f}\")\n",
        "print(f\"Test Accuracy:       {test_acc:.4f} | Test Loss:       {test_loss:.4f} | Test Precision:       {test_precision:.4f} | Test Recall:       {test_recall:.4f}\")"
      ],
      "metadata": {
        "id": "Qrhvq6O_IJN_",
        "outputId": "bece2d2d-68b2-4dbb-9d64-b84616c67d93",
        "colab": {
          "base_uri": "https://localhost:8080/"
        }
      },
      "execution_count": 10,
      "outputs": [
        {
          "output_type": "stream",
          "name": "stdout",
          "text": [
            "\u001b[1m4/4\u001b[0m \u001b[32m━━━━━━━━━━━━━━━━━━━━\u001b[0m\u001b[37m\u001b[0m \u001b[1m0s\u001b[0m 6ms/step - accuracy: 0.9467 - loss: 0.1245 - precision: 0.9671 - recall: 0.9485\n",
            "\u001b[1m12/12\u001b[0m \u001b[32m━━━━━━━━━━━━━━━━━━━━\u001b[0m\u001b[37m\u001b[0m \u001b[1m0s\u001b[0m 6ms/step - accuracy: 1.0000 - loss: 0.0028 - precision: 1.0000 - recall: 1.0000\n",
            "\u001b[1m3/3\u001b[0m \u001b[32m━━━━━━━━━━━━━━━━━━━━\u001b[0m\u001b[37m\u001b[0m \u001b[1m0s\u001b[0m 8ms/step - accuracy: 0.9718 - loss: 0.1040 - precision: 0.9821 - recall: 0.9722\n",
            "Train Accuracy:      1.0000 | Train Loss:      0.0032 | Train Precision:      1.0000 | Train Recall:      1.0000\n",
            "Validation Accuracy: 0.9670 | Validation Loss: 0.1780 | Validation Precision: 0.9643 | Validation Recall: 0.9818\n",
            "Test Accuracy:       0.9474 | Test Loss:       0.1123 | Test Precision:       0.9710 | Test Recall:       0.9437\n"
          ]
        }
      ]
    },
    {
      "cell_type": "markdown",
      "source": [
        " ### 4.2. Use the trained model to predict on new unseen data"
      ],
      "metadata": {
        "id": "JSIQomjmR9Er"
      }
    },
    {
      "cell_type": "code",
      "execution_count": 45,
      "metadata": {
        "colab": {
          "base_uri": "https://localhost:8080/"
        },
        "id": "_5oLq7fSlvpP",
        "outputId": "160c25fa-6cc6-432c-ef90-92a82c65f231"
      },
      "outputs": [
        {
          "output_type": "stream",
          "name": "stdout",
          "text": [
            "\u001b[1m4/4\u001b[0m \u001b[32m━━━━━━━━━━━━━━━━━━━━\u001b[0m\u001b[37m\u001b[0m \u001b[1m0s\u001b[0m 3ms/step\n",
            "Probabilities: [0.98719 0.      0.      0.99999 1.     ]\n",
            "Predictions: [1 0 0 1 1]\n",
            "True labels: [1 0 0 1 1]\n",
            "Number of misclassified samples: 6 out of 114\n",
            "Indices of misclassified samples: [  8  20  52  77  91 112]\n"
          ]
        }
      ],
      "source": [
        "# Make predictions on test data\n",
        "probabilities = model.predict(X_test)\n",
        "\n",
        "# Predicted class:\n",
        "predictions = np.round(probabilities)\n",
        "\n",
        "# Misclassified indices:\n",
        "misclassified_indices = np.where(predictions.flatten() != y_test)[0]\n",
        "\n",
        "print(\"Probabilities:\", np.round(probabilities[:5].flatten(), 5))\n",
        "print(\"Predictions:\", predictions[:5].flatten().astype(int))\n",
        "print(\"True labels:\", y_test[:5])\n",
        "print(\"Number of misclassified samples:\", np.sum(predictions.flatten() != y_test), \"out of\", len(y_test))\n",
        "print(\"Indices of misclassified samples:\", misclassified_indices)"
      ]
    },
    {
      "cell_type": "code",
      "source": [
        "# Confusion matrix:\n",
        "from sklearn.metrics import confusion_matrix\n",
        "cm = confusion_matrix(y_test, predictions)\n",
        "print(cm)\n",
        "\n",
        "\n",
        "# Plot the confusion matrix\n",
        "import matplotlib.pyplot as plt\n",
        "import seaborn as sns\n",
        "\n",
        "plt.figure(figsize=(4, 3))\n",
        "sns.heatmap(cm, annot=True, fmt='d', cmap='Blues')\n",
        "plt.xlabel('Predicted Label')\n",
        "plt.ylabel('True Label')\n",
        "plt.title('Confusion Matrix')\n",
        "plt.show()\n",
        "\n"
      ],
      "metadata": {
        "id": "-BaSXc7TU8Cd",
        "outputId": "4407ed33-08a2-46ba-8aa9-1ebd3ff49e4d",
        "colab": {
          "base_uri": "https://localhost:8080/",
          "height": 369
        }
      },
      "execution_count": 37,
      "outputs": [
        {
          "output_type": "stream",
          "name": "stdout",
          "text": [
            "[[41  2]\n",
            " [ 4 67]]\n"
          ]
        },
        {
          "output_type": "display_data",
          "data": {
            "text/plain": [
              "<Figure size 400x300 with 2 Axes>"
            ],
            "image/png": "[encoded data removed]"
          },
          "metadata": {}
        }
      ]
    },
    {
      "cell_type": "markdown",
      "source": [
        "## Save the model (and load it again)\n"
      ],
      "metadata": {
        "id": "tf1-yWSaW_NY"
      }
    },
    {
      "cell_type": "code",
      "source": [
        "import os\n",
        "import datetime\n",
        "model_dir = \"./models/\"\n",
        "\n",
        "# ensure the directory exists:\n",
        "if not os.path.exists(model_dir):\n",
        "    os.makedirs(model_dir)\n",
        "\n",
        "# Save the model (and load it again)\n",
        "model_name = model_dir + \"model_\" + datetime.datetime.now().strftime(\"%Y%m%d-%H%M%S\") + '.keras'\n",
        "model.save(model_name)\n",
        "\n",
        "\n"
      ],
      "metadata": {
        "id": "P-PO0d42SvVm"
      },
      "execution_count": 52,
      "outputs": []
    },
    {
      "cell_type": "code",
      "source": [
        "# Load the model\n",
        "loaded_model = keras.models.load_model(model_name)\n",
        "\n",
        "# Evaluate the loaded model\n",
        "loss, acc, prec, recall = loaded_model.evaluate(X_test, y_test)\n",
        "loss, acc, prec, recall\n",
        "\n"
      ],
      "metadata": {
        "id": "BoPrGgLVX0tk",
        "outputId": "af5ba453-0681-41d2-ee2a-2d3eb3f707e2",
        "colab": {
          "base_uri": "https://localhost:8080/"
        }
      },
      "execution_count": 55,
      "outputs": [
        {
          "output_type": "stream",
          "name": "stdout",
          "text": [
            "\u001b[1m4/4\u001b[0m \u001b[32m━━━━━━━━━━━━━━━━━━━━\u001b[0m\u001b[37m\u001b[0m \u001b[1m0s\u001b[0m 9ms/step - accuracy: 0.9467 - loss: 0.1245 - precision: 0.9671 - recall: 0.9485\n"
          ]
        },
        {
          "output_type": "execute_result",
          "data": {
            "text/plain": [
              "(0.11231721937656403,\n",
              " 0.9473684430122375,\n",
              " 0.9710144996643066,\n",
              " 0.9436619877815247)"
            ]
          },
          "metadata": {},
          "execution_count": 55
        }
      ]
    },
    {
      "cell_type": "markdown",
      "source": [
        "# The code in one cell:"
      ],
      "metadata": {
        "id": "vBzxXQ_tamNe"
      }
    },
    {
      "cell_type": "code",
      "source": [
        "\n"
      ],
      "metadata": {
        "id": "UbFFkiKvaS_V"
      },
      "execution_count": null,
      "outputs": []
    },
    {
      "cell_type": "markdown",
      "source": [
        "# TensorBoard"
      ],
      "metadata": {
        "id": "3iND5o4aafta"
      }
    },
    {
      "cell_type": "code",
      "source": [],
      "metadata": {
        "id": "Cfo6pQKcayh0"
      },
      "execution_count": null,
      "outputs": []
    },
    {
      "cell_type": "markdown",
      "source": [
        "# Callbacks to monitor and control the training process\n",
        "\n"
      ],
      "metadata": {
        "id": "D12HC_psZRXq"
      }
    },
    {
      "cell_type": "code",
      "source": [],
      "metadata": {
        "id": "VxhwRnYYaxtM"
      },
      "execution_count": null,
      "outputs": []
    },
    {
      "cell_type": "markdown",
      "source": [
        "\n",
        "# Weight initialization"
      ],
      "metadata": {
        "id": "qal-gBzmavQ0"
      }
    },
    {
      "cell_type": "code",
      "source": [],
      "metadata": {
        "id": "65qbnSMrauj7"
      },
      "execution_count": null,
      "outputs": []
    },
    {
      "cell_type": "markdown",
      "source": [
        "\n",
        "### Exercises\n",
        "\n",
        "- Change the number of layers and neurons in the model. Observe how this affects the model's accuracy. You can also experiment with different activation functions in the hidden layers (e.g., tanh).\n",
        "- Experiment with the number of epochs and learning rate. Plot the learning curves to see the differences.\n",
        "- Change the loss function. Try using a different loss function, such as mean_squared.\n",
        "- Experiment with different batch sizes. Observe how different batch sizes during training affect the model's accuracy and training time.\n",
        "- Try an alternative normalization method for the input data (e.g., standardization). See how this affects the model's performance.\n",
        "- Investigate the confusion matrix.\n",
        "- Try changing the optimizer used in the model. Experiment with optimizers such as Adam, RMSprop, or Adagrad, and observe how they affect accuracy and training time.\n",
        "- Use TensorBoard. Set up TensorBoard to visualize your model’s performance, learning curves, and other metrics in real-time. This will help you track your experiments and analyze results more effectively during training.\n",
        "\n"
      ],
      "metadata": {
        "id": "ylmfZ6PeYvI4"
      }
    },
    {
      "cell_type": "markdown",
      "source": [],
      "metadata": {
        "id": "3djiZpRdowYo"
      }
    }
  ]
}