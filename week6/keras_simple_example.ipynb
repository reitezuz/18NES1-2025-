{
  "nbformat": 4,
  "nbformat_minor": 0,
  "metadata": {
    "colab": {
      "provenance": [],
      "authorship_tag": "ABX9TyOH/9SPWA8T4EjuvvAxHfgO",
      "include_colab_link": true
    },
    "kernelspec": {
      "name": "python3",
      "display_name": "Python 3"
    },
    "language_info": {
      "name": "python"
    }
  },
  "cells": [
    {
      "cell_type": "markdown",
      "metadata": {
        "id": "view-in-github",
        "colab_type": "text"
      },
      "source": [
        "<a href=\"https://colab.research.google.com/github/reitezuz/18NES1-2025-/blob/main/week6/keras_simple_example.ipynb\" target=\"_parent\"><img src=\"https://colab.research.google.com/assets/colab-badge.svg\" alt=\"Open In Colab\"/></a>"
      ]
    },
    {
      "cell_type": "markdown",
      "source": [
        "# Keras MLP: Step-by-step Training on a Simple Example (Breast Cancer Dataset)\n",
        "\n",
        "In this notebook, we will walk through the process of training a **Multilayer Perceptron (MLP)** using **Keras** on a well-known example dataset: the **Breast Cancer Wisconsin Diagnostic dataset**.\n",
        "\n",
        "This is a great starting point for learning about neural networks and classification tasks with tabular data.\n",
        "\n",
        "---\n",
        "\n",
        "### Breast Cancer Dataset Overview\n",
        "\n",
        "- A classical **binary classification** dataset.\n",
        "- Contains **569 samples** and **30 input features** (real-valued, positive).\n",
        "- The **target** variable indicates whether the tumor is **malignant** (0) or **benign** (1).\n",
        "- All features are computed from digitized images of a breast mass.\n",
        "\n",
        "You can find the dataset here:\n",
        "- [UCI Machine Learning Repository](https://archive.ics.uci.edu/dataset/17/breast+cancer+wisconsin+diagnostic)\n",
        "- [Scikit-learn's built-in loader](https://scikit-learn.org/stable/modules/generated/sklearn.datasets.load_breast_cancer.html)\n",
        "\n",
        "We will use the version included in **scikit-learn**, which is preprocessed and ready to use.\n",
        "\n",
        "---\n",
        "\n",
        "### More Datasets for Practice\n",
        "\n",
        "If you're interested in more classical machine learning datasets (classification, regression, clustering...), check out:\n",
        "\n",
        "👉 [Scikit-learn toy datasets overview](https://scikit-learn.org/stable/api/sklearn.datasets.html)\n",
        "\n",
        "These are great for experimenting and building intuition before moving to real-world data.\n",
        "\n",
        "---\n",
        "\n",
        "### Machine Learning Workflow\n",
        "1. Process the data\n",
        "\n",
        "  1.1. Load, observe and analyze the data\n",
        "\n",
        "  1.2. Clean and preprocess the data\n",
        "2. Define the model\n",
        "\n",
        "  2.1. Define the model architecture (type of the model, number of layers, activation functions)\n",
        "\n",
        "  2.2. Set model hyperparameters (learning rate, batch size, optimizer, loss function,...)\n",
        "3. Train the model\n",
        "\n",
        "  3.1. Observe and analyze the training progress\n",
        "\n",
        "4. Evaluate the model and make prediction\n",
        "\n",
        "   4.1. Assess model performance on training, validation and test data\n",
        "   \n",
        "   4.2. Use the trained model to predict on new unseen data"
      ],
      "metadata": {
        "id": "ApKpYJwGmBLV"
      }
    },
    {
      "cell_type": "markdown",
      "source": [
        "## 1. Process the data\n",
        "1.1. Load, observe and analyze the data\n",
        " - Use `scikit-learn` to load the dataset.\n",
        " - Display basic info: number of samples, number of features, class distribution.\n",
        " - Visualize some features if needed.\n",
        "\n"
      ],
      "metadata": {
        "id": "HOw_rL0gof9a"
      }
    },
    {
      "cell_type": "code",
      "source": [
        "from sklearn.datasets import load_breast_cancer\n",
        "import numpy as np\n",
        "\n",
        "# Load and observe the data:\n",
        "cancer = load_breast_cancer()  # 'cancer' is a dictionary-like object (sklearn.utils.Bunch)\n",
        "# It contains: data, target, feature names, target names, description, etc.\n",
        "print(cancer.keys())\n",
        "\n",
        "# Observe shape:\n",
        "print(\"Input data shape:\", cancer['data'].shape)\n",
        "print(\"Target data shape:\", cancer['target'].shape, \"\\n\")\n",
        "\n",
        "# Analyze the label distribution:\n",
        "print(\"Target names:\", cancer['target_names'])\n",
        "print(\"Target distribution:\", np.bincount(cancer['target']))\n",
        "print(\"  malignant (0):\", np.bincount(cancer['target'])[0])\n",
        "print(\"  benign    (1):\", np.bincount(cancer['target'])[1], \"\\n\")\n",
        "\n",
        "# Observe input data:\n",
        "print(\"Feature names:\", cancer['feature_names'] )\n",
        "print(\"Minimum, mean and maximum input data values: \", np.min(cancer['data']), np.mean(cancer['data']), np.max(cancer['data']))\n",
        "#print(\"Feature means:\", np.mean(cancer['data'], axis=0))\n",
        "#print(\"Feature description:\", cancer['DESCR'])  # description of the data\n",
        "print()\n",
        "\n",
        "# Check for missing values\n",
        "print(\"Number of missing values in the data:\", np.sum(np.isnan(cancer['data'])))\n",
        "print(\"Number of missing values in the labels:\", np.sum(np.isnan(cancer['target'])))\n",
        "print()\n",
        "\n",
        "import pandas as pd\n",
        "df = pd.DataFrame(cancer['data'], columns=cancer['feature_names']) # Create a Pandas DataFrame for easier analysis\n",
        "#print(df.describe())                                              # Calculate statistics for each column\n",
        "#print(df.info())                                                  # Check data types and non-null counts\n",
        "print(df.head())                                                   # Display the first few rows of the DataFrame"
      ],
      "metadata": {
        "colab": {
          "base_uri": "https://localhost:8080/"
        },
        "id": "hvOcyLy6t9p9",
        "outputId": "35d378e3-74c9-4093-a346-78016c318652"
      },
      "execution_count": 75,
      "outputs": [
        {
          "output_type": "stream",
          "name": "stdout",
          "text": [
            "dict_keys(['data', 'target', 'frame', 'target_names', 'DESCR', 'feature_names', 'filename', 'data_module'])\n",
            "Input data shape: (569, 30)\n",
            "Target data shape: (569,) \n",
            "\n",
            "Target names: ['malignant' 'benign']\n",
            "Target distribution: [212 357]\n",
            "  malignant (0): 212\n",
            "  benign    (1): 357 \n",
            "\n",
            "Feature names: ['mean radius' 'mean texture' 'mean perimeter' 'mean area'\n",
            " 'mean smoothness' 'mean compactness' 'mean concavity'\n",
            " 'mean concave points' 'mean symmetry' 'mean fractal dimension'\n",
            " 'radius error' 'texture error' 'perimeter error' 'area error'\n",
            " 'smoothness error' 'compactness error' 'concavity error'\n",
            " 'concave points error' 'symmetry error' 'fractal dimension error'\n",
            " 'worst radius' 'worst texture' 'worst perimeter' 'worst area'\n",
            " 'worst smoothness' 'worst compactness' 'worst concavity'\n",
            " 'worst concave points' 'worst symmetry' 'worst fractal dimension']\n",
            "Minimum, mean and maximum input data values:  0.0 61.890712339519624 4254.0\n",
            "\n",
            "Number of missing values in the data: 0\n",
            "Number of missing values in the labels: 0\n",
            "\n",
            "   mean radius  mean texture  mean perimeter  mean area  mean smoothness  \\\n",
            "0        17.99         10.38          122.80     1001.0          0.11840   \n",
            "1        20.57         17.77          132.90     1326.0          0.08474   \n",
            "2        19.69         21.25          130.00     1203.0          0.10960   \n",
            "3        11.42         20.38           77.58      386.1          0.14250   \n",
            "4        20.29         14.34          135.10     1297.0          0.10030   \n",
            "\n",
            "   mean compactness  mean concavity  mean concave points  mean symmetry  \\\n",
            "0           0.27760          0.3001              0.14710         0.2419   \n",
            "1           0.07864          0.0869              0.07017         0.1812   \n",
            "2           0.15990          0.1974              0.12790         0.2069   \n",
            "3           0.28390          0.2414              0.10520         0.2597   \n",
            "4           0.13280          0.1980              0.10430         0.1809   \n",
            "\n",
            "   mean fractal dimension  ...  worst radius  worst texture  worst perimeter  \\\n",
            "0                 0.07871  ...         25.38          17.33           184.60   \n",
            "1                 0.05667  ...         24.99          23.41           158.80   \n",
            "2                 0.05999  ...         23.57          25.53           152.50   \n",
            "3                 0.09744  ...         14.91          26.50            98.87   \n",
            "4                 0.05883  ...         22.54          16.67           152.20   \n",
            "\n",
            "   worst area  worst smoothness  worst compactness  worst concavity  \\\n",
            "0      2019.0            0.1622             0.6656           0.7119   \n",
            "1      1956.0            0.1238             0.1866           0.2416   \n",
            "2      1709.0            0.1444             0.4245           0.4504   \n",
            "3       567.7            0.2098             0.8663           0.6869   \n",
            "4      1575.0            0.1374             0.2050           0.4000   \n",
            "\n",
            "   worst concave points  worst symmetry  worst fractal dimension  \n",
            "0                0.2654          0.4601                  0.11890  \n",
            "1                0.1860          0.2750                  0.08902  \n",
            "2                0.2430          0.3613                  0.08758  \n",
            "3                0.2575          0.6638                  0.17300  \n",
            "4                0.1625          0.2364                  0.07678  \n",
            "\n",
            "[5 rows x 30 columns]\n"
          ]
        }
      ]
    },
    {
      "cell_type": "markdown",
      "source": [
        "1.2. Clean and preprocess the data\n",
        "- Normalize or standardize the input features (important for multilayer neural networks).\n",
        "- Split the data into **training**, **validation**, and **test** sets."
      ],
      "metadata": {
        "id": "Bs0soqrY1ILZ"
      }
    },
    {
      "cell_type": "code",
      "source": [
        "from sklearn.model_selection import train_test_split\n",
        "from sklearn.preprocessing import StandardScaler, MinMaxScaler\n",
        "\n",
        "X, y = cancer.data, cancer.target\n",
        "\n",
        "# Preprocess the data:\n",
        "# 1. Reshape (vectorize) the input data to have the shape (number of samlples, number of features) ... Already in correct format\n",
        "# 2. Convert the data into floating-point numbers ... Already in correct format\n",
        "# 3. Resolve missing values, incorrect values... not needed (data is clean)\n",
        "# 4. One-hot encode the labels (for multi-class problems)... not needed (binary classification)\n",
        "#       y_train_categorical = keras.utils.to_categorical(y_train, num_classes=10) ... to one-hot encoding\n",
        "# 5. Data augmentation,...\n",
        "\n",
        "# 6. Split the dataset - into training, validation and testing sets\n",
        "X_train, X_test, y_train, y_test = train_test_split(X, y, test_size=0.2, random_state=42)\n",
        "X_train, X_val, y_train, y_val = train_test_split(X_train, y_train, test_size=0.2, random_state=42)\n",
        "\n",
        "# 7. Normalize the features to improve training stability\n",
        "# - StandardScaler: Centers data around zero and scales to unit variance\n",
        "# - MinMaxScaler: Scales features to a given range (default [0,1], here [-1,1])\n",
        "scaler = StandardScaler()\n",
        "#scaler = MinMaxScaler(feature_range=(-1, 1)) # alternative option\n",
        "X_train = scaler.fit_transform(X_train)\n",
        "X_test = scaler.transform(X_test)\n",
        "X_val = scaler.transform(X_val)\n"
      ],
      "metadata": {
        "id": "BaA9f-4o1NAy"
      },
      "execution_count": 76,
      "outputs": []
    },
    {
      "cell_type": "markdown",
      "source": [
        "## 2. Define and train the model in Keras"
      ],
      "metadata": {
        "id": "9cdw84rPRA3E"
      }
    },
    {
      "cell_type": "markdown",
      "source": [
        "\n",
        "### 2.1. Define the model architecture\n",
        "- the **type** of the model (Sequential,  Functional or Subclassing API)\n",
        "- the **number and type of the layers**\n",
        "- The **number of units (neurons)** in each layer\n",
        "- The **activation functions** used in each layer\n",
        "\n",
        "Keras supports three main ways to define models:\n",
        "\n",
        "1. **Sequential API** – simple, stack-like models  \n",
        "2. **Functional API** – more flexible; supports branching, multiple inputs/outputs  \n",
        "3. **Model Subclassing (object-oriented API)** – maximum control; define custom logic using Python classes\n",
        "\n",
        "In this notebook, we'll use the Sequential API, which is the easiest and most readable option for simple sequential neural networks.\n",
        "\n",
        "### How to set architecture of a MLP model for binary classification?\n",
        "- Use fully connected (**Dense**) layers.\n",
        "    - we an change the initialization method for weights and biases\n",
        "- Activations:\n",
        "    - 'sigmoid' activation function in the output layer\n",
        "    - 'relu' or 'tanh' in the hidden layers\n",
        "- The **number of layers and neurons** is usually determined **experimentally** (through hyperparameter tuning)."
      ],
      "metadata": {
        "id": "QFSdzLWnLOWQ"
      }
    },
    {
      "cell_type": "code",
      "source": [
        "# we can set Keras backend to PyTorch (default: 'tensorflow')\n",
        "import os\n",
        "os.environ[\"KERAS_BACKEND\"] = \"torch\"  # \"tensorflow\" \"jax\", \"torch\"\n",
        "\n",
        "import keras"
      ],
      "metadata": {
        "id": "ygPp8wuYRp8a"
      },
      "execution_count": 77,
      "outputs": []
    },
    {
      "cell_type": "code",
      "source": [
        "import keras\n",
        "from keras import layers\n",
        "\n",
        "\n",
        "model = keras.Sequential([\n",
        "    layers.InputLayer(shape=(X_train.shape[1],)),  # Input Layer\n",
        "    #layers.Dense(30, activation='relu', kernel_initializer='he_normal', bias_initializer='zeros') # First hidden layer\n",
        "    layers.Dense(30, activation='relu'), # First hidden layer\n",
        "    layers.Dense(15, activation='relu'),  # Second hidden layer\n",
        "    layers.Dense(1, activation='sigmoid')  # Output layer for binary classification\n",
        "])\n",
        "\n",
        "model.summary()"
      ],
      "metadata": {
        "colab": {
          "base_uri": "https://localhost:8080/",
          "height": 228
        },
        "id": "ycAybcs9Knby",
        "outputId": "4e7d2b48-422a-4b83-ace2-79b8845fbdfa"
      },
      "execution_count": 78,
      "outputs": [
        {
          "output_type": "display_data",
          "data": {
            "text/plain": [
              "\u001b[1mModel: \"sequential_17\"\u001b[0m\n"
            ],
            "text/html": [
              "<pre style=\"white-space:pre;overflow-x:auto;line-height:normal;font-family:Menlo,'DejaVu Sans Mono',consolas,'Courier New',monospace\"><span style=\"font-weight: bold\">Model: \"sequential_17\"</span>\n",
              "</pre>\n"
            ]
          },
          "metadata": {}
        },
        {
          "output_type": "display_data",
          "data": {
            "text/plain": [
              "┏━━━━━━━━━━━━━━━━━━━━━━━━━━━━━━━━━━━━━━┳━━━━━━━━━━━━━━━━━━━━━━━━━━━━━┳━━━━━━━━━━━━━━━━━┓\n",
              "┃\u001b[1m \u001b[0m\u001b[1mLayer (type)                        \u001b[0m\u001b[1m \u001b[0m┃\u001b[1m \u001b[0m\u001b[1mOutput Shape               \u001b[0m\u001b[1m \u001b[0m┃\u001b[1m \u001b[0m\u001b[1m        Param #\u001b[0m\u001b[1m \u001b[0m┃\n",
              "┡━━━━━━━━━━━━━━━━━━━━━━━━━━━━━━━━━━━━━━╇━━━━━━━━━━━━━━━━━━━━━━━━━━━━━╇━━━━━━━━━━━━━━━━━┩\n",
              "│ dense_51 (\u001b[38;5;33mDense\u001b[0m)                     │ (\u001b[38;5;45mNone\u001b[0m, \u001b[38;5;34m30\u001b[0m)                  │             \u001b[38;5;34m930\u001b[0m │\n",
              "├──────────────────────────────────────┼─────────────────────────────┼─────────────────┤\n",
              "│ dense_52 (\u001b[38;5;33mDense\u001b[0m)                     │ (\u001b[38;5;45mNone\u001b[0m, \u001b[38;5;34m15\u001b[0m)                  │             \u001b[38;5;34m465\u001b[0m │\n",
              "├──────────────────────────────────────┼─────────────────────────────┼─────────────────┤\n",
              "│ dense_53 (\u001b[38;5;33mDense\u001b[0m)                     │ (\u001b[38;5;45mNone\u001b[0m, \u001b[38;5;34m1\u001b[0m)                   │              \u001b[38;5;34m16\u001b[0m │\n",
              "└──────────────────────────────────────┴─────────────────────────────┴─────────────────┘\n"
            ],
            "text/html": [
              "<pre style=\"white-space:pre;overflow-x:auto;line-height:normal;font-family:Menlo,'DejaVu Sans Mono',consolas,'Courier New',monospace\">┏━━━━━━━━━━━━━━━━━━━━━━━━━━━━━━━━━━━━━━┳━━━━━━━━━━━━━━━━━━━━━━━━━━━━━┳━━━━━━━━━━━━━━━━━┓\n",
              "┃<span style=\"font-weight: bold\"> Layer (type)                         </span>┃<span style=\"font-weight: bold\"> Output Shape                </span>┃<span style=\"font-weight: bold\">         Param # </span>┃\n",
              "┡━━━━━━━━━━━━━━━━━━━━━━━━━━━━━━━━━━━━━━╇━━━━━━━━━━━━━━━━━━━━━━━━━━━━━╇━━━━━━━━━━━━━━━━━┩\n",
              "│ dense_51 (<span style=\"color: #0087ff; text-decoration-color: #0087ff\">Dense</span>)                     │ (<span style=\"color: #00d7ff; text-decoration-color: #00d7ff\">None</span>, <span style=\"color: #00af00; text-decoration-color: #00af00\">30</span>)                  │             <span style=\"color: #00af00; text-decoration-color: #00af00\">930</span> │\n",
              "├──────────────────────────────────────┼─────────────────────────────┼─────────────────┤\n",
              "│ dense_52 (<span style=\"color: #0087ff; text-decoration-color: #0087ff\">Dense</span>)                     │ (<span style=\"color: #00d7ff; text-decoration-color: #00d7ff\">None</span>, <span style=\"color: #00af00; text-decoration-color: #00af00\">15</span>)                  │             <span style=\"color: #00af00; text-decoration-color: #00af00\">465</span> │\n",
              "├──────────────────────────────────────┼─────────────────────────────┼─────────────────┤\n",
              "│ dense_53 (<span style=\"color: #0087ff; text-decoration-color: #0087ff\">Dense</span>)                     │ (<span style=\"color: #00d7ff; text-decoration-color: #00d7ff\">None</span>, <span style=\"color: #00af00; text-decoration-color: #00af00\">1</span>)                   │              <span style=\"color: #00af00; text-decoration-color: #00af00\">16</span> │\n",
              "└──────────────────────────────────────┴─────────────────────────────┴─────────────────┘\n",
              "</pre>\n"
            ]
          },
          "metadata": {}
        },
        {
          "output_type": "display_data",
          "data": {
            "text/plain": [
              "\u001b[1m Total params: \u001b[0m\u001b[38;5;34m1,411\u001b[0m (5.51 KB)\n"
            ],
            "text/html": [
              "<pre style=\"white-space:pre;overflow-x:auto;line-height:normal;font-family:Menlo,'DejaVu Sans Mono',consolas,'Courier New',monospace\"><span style=\"font-weight: bold\"> Total params: </span><span style=\"color: #00af00; text-decoration-color: #00af00\">1,411</span> (5.51 KB)\n",
              "</pre>\n"
            ]
          },
          "metadata": {}
        },
        {
          "output_type": "display_data",
          "data": {
            "text/plain": [
              "\u001b[1m Trainable params: \u001b[0m\u001b[38;5;34m1,411\u001b[0m (5.51 KB)\n"
            ],
            "text/html": [
              "<pre style=\"white-space:pre;overflow-x:auto;line-height:normal;font-family:Menlo,'DejaVu Sans Mono',consolas,'Courier New',monospace\"><span style=\"font-weight: bold\"> Trainable params: </span><span style=\"color: #00af00; text-decoration-color: #00af00\">1,411</span> (5.51 KB)\n",
              "</pre>\n"
            ]
          },
          "metadata": {}
        },
        {
          "output_type": "display_data",
          "data": {
            "text/plain": [
              "\u001b[1m Non-trainable params: \u001b[0m\u001b[38;5;34m0\u001b[0m (0.00 B)\n"
            ],
            "text/html": [
              "<pre style=\"white-space:pre;overflow-x:auto;line-height:normal;font-family:Menlo,'DejaVu Sans Mono',consolas,'Courier New',monospace\"><span style=\"font-weight: bold\"> Non-trainable params: </span><span style=\"color: #00af00; text-decoration-color: #00af00\">0</span> (0.00 B)\n",
              "</pre>\n"
            ]
          },
          "metadata": {}
        }
      ]
    },
    {
      "cell_type": "markdown",
      "source": [
        "### 2.2 Set Hyperparameters\n",
        "- **Loss function:** 'binary_crossentropy' (for binary classification)\n",
        "\n",
        "- **Evaluation Metrics:** 'Accuracy', 'Precision', 'Recall', 'F1-score', ... (for classification)\n",
        "- **Optimizer:** `adam`, `sgd`, `rmsprop`, `adagrad`, etc.\n",
        "- set **parameters of the optimizer** (e.g., learning rate,...)\n",
        "```python\n",
        "keras.optimizers.Adam(learning_rate=0.001, momentum=0.9)\n",
        "```\n",
        "\n"
      ],
      "metadata": {
        "id": "dpehTNfb7Vz8"
      }
    },
    {
      "cell_type": "code",
      "source": [
        "# Define optimizer with custom learning rate and other parameters\n",
        "optimizer = keras.optimizers.SGD(learning_rate=0.01)\n",
        "\n",
        "# Configure the model:\n",
        "model.compile(optimizer=optimizer, loss='binary_crossentropy', metrics=[ 'accuracy', keras.metrics.Precision(name='precision'), keras.metrics.Recall(name='recall')])"
      ],
      "metadata": {
        "id": "W3v5vmFWKmK3"
      },
      "execution_count": 79,
      "outputs": []
    },
    {
      "cell_type": "markdown",
      "source": [
        "- we can use **compile()** to re-initialize the model again"
      ],
      "metadata": {
        "id": "NK0z2VlmHJ8S"
      }
    },
    {
      "cell_type": "markdown",
      "source": [
        "## 3. Train the model\n",
        "\n",
        "- **batch size:** 16, 32, 64, 128, 256\n",
        "    - Smaller = slower training, possibly better generalization\n",
        "    - Larger = faster training, but may converge poorly\n",
        "- **number of epochs:** Typically determined experimentally, with help of:\n",
        "\n",
        "    - validation accuracy,\n",
        "    - early stopping\n",
        "    - overfitting analysis"
      ],
      "metadata": {
        "id": "jgcUOpWJRPfw"
      }
    },
    {
      "cell_type": "code",
      "source": [
        "history = model.fit(X_train, y_train, epochs=50, batch_size=16, validation_data=(X_val, y_val))"
      ],
      "metadata": {
        "colab": {
          "base_uri": "https://localhost:8080/"
        },
        "id": "hnNQU2bURag9",
        "outputId": "4b2a4c8d-0a11-464a-83bb-7300f2458a68"
      },
      "execution_count": 80,
      "outputs": [
        {
          "output_type": "stream",
          "name": "stdout",
          "text": [
            "Epoch 1/50\n",
            "\u001b[1m23/23\u001b[0m \u001b[32m━━━━━━━━━━━━━━━━━━━━\u001b[0m\u001b[37m\u001b[0m \u001b[1m0s\u001b[0m 7ms/step - accuracy: 0.4027 - loss: 0.7186 - precision: 0.5438 - recall: 0.1007 - val_accuracy: 0.5165 - val_loss: 0.6299 - val_precision: 0.8235 - val_recall: 0.2545\n",
            "Epoch 2/50\n",
            "\u001b[1m23/23\u001b[0m \u001b[32m━━━━━━━━━━━━━━━━━━━━\u001b[0m\u001b[37m\u001b[0m \u001b[1m0s\u001b[0m 7ms/step - accuracy: 0.5636 - loss: 0.6439 - precision: 0.9061 - recall: 0.3241 - val_accuracy: 0.7473 - val_loss: 0.5642 - val_precision: 0.9706 - val_recall: 0.6000\n",
            "Epoch 3/50\n",
            "\u001b[1m23/23\u001b[0m \u001b[32m━━━━━━━━━━━━━━━━━━━━\u001b[0m\u001b[37m\u001b[0m \u001b[1m0s\u001b[0m 8ms/step - accuracy: 0.7655 - loss: 0.5496 - precision: 0.9756 - recall: 0.6289 - val_accuracy: 0.8352 - val_loss: 0.5080 - val_precision: 0.9348 - val_recall: 0.7818\n",
            "Epoch 4/50\n",
            "\u001b[1m23/23\u001b[0m \u001b[32m━━━━━━━━━━━━━━━━━━━━\u001b[0m\u001b[37m\u001b[0m \u001b[1m0s\u001b[0m 8ms/step - accuracy: 0.8564 - loss: 0.4935 - precision: 0.9895 - recall: 0.7816 - val_accuracy: 0.8901 - val_loss: 0.4555 - val_precision: 0.9245 - val_recall: 0.8909\n",
            "Epoch 5/50\n",
            "\u001b[1m23/23\u001b[0m \u001b[32m━━━━━━━━━━━━━━━━━━━━\u001b[0m\u001b[37m\u001b[0m \u001b[1m0s\u001b[0m 8ms/step - accuracy: 0.9239 - loss: 0.4098 - precision: 0.9801 - recall: 0.8980 - val_accuracy: 0.9231 - val_loss: 0.4067 - val_precision: 0.9286 - val_recall: 0.9455\n",
            "Epoch 6/50\n",
            "\u001b[1m23/23\u001b[0m \u001b[32m━━━━━━━━━━━━━━━━━━━━\u001b[0m\u001b[37m\u001b[0m \u001b[1m0s\u001b[0m 7ms/step - accuracy: 0.9358 - loss: 0.3919 - precision: 0.9645 - recall: 0.9371 - val_accuracy: 0.9341 - val_loss: 0.3621 - val_precision: 0.9298 - val_recall: 0.9636\n",
            "Epoch 7/50\n",
            "\u001b[1m23/23\u001b[0m \u001b[32m━━━━━━━━━━━━━━━━━━━━\u001b[0m\u001b[37m\u001b[0m \u001b[1m0s\u001b[0m 7ms/step - accuracy: 0.9640 - loss: 0.3110 - precision: 0.9775 - recall: 0.9647 - val_accuracy: 0.9341 - val_loss: 0.3250 - val_precision: 0.9298 - val_recall: 0.9636\n",
            "Epoch 8/50\n",
            "\u001b[1m23/23\u001b[0m \u001b[32m━━━━━━━━━━━━━━━━━━━━\u001b[0m\u001b[37m\u001b[0m \u001b[1m0s\u001b[0m 7ms/step - accuracy: 0.9365 - loss: 0.3043 - precision: 0.9378 - recall: 0.9639 - val_accuracy: 0.9341 - val_loss: 0.2947 - val_precision: 0.9298 - val_recall: 0.9636\n",
            "Epoch 9/50\n",
            "\u001b[1m23/23\u001b[0m \u001b[32m━━━━━━━━━━━━━━━━━━━━\u001b[0m\u001b[37m\u001b[0m \u001b[1m0s\u001b[0m 8ms/step - accuracy: 0.9562 - loss: 0.2579 - precision: 0.9602 - recall: 0.9704 - val_accuracy: 0.9341 - val_loss: 0.2697 - val_precision: 0.9298 - val_recall: 0.9636\n",
            "Epoch 10/50\n",
            "\u001b[1m23/23\u001b[0m \u001b[32m━━━━━━━━━━━━━━━━━━━━\u001b[0m\u001b[37m\u001b[0m \u001b[1m0s\u001b[0m 8ms/step - accuracy: 0.9501 - loss: 0.2415 - precision: 0.9582 - recall: 0.9591 - val_accuracy: 0.9341 - val_loss: 0.2495 - val_precision: 0.9298 - val_recall: 0.9636\n",
            "Epoch 11/50\n",
            "\u001b[1m23/23\u001b[0m \u001b[32m━━━━━━━━━━━━━━━━━━━━\u001b[0m\u001b[37m\u001b[0m \u001b[1m0s\u001b[0m 8ms/step - accuracy: 0.9477 - loss: 0.2104 - precision: 0.9505 - recall: 0.9691 - val_accuracy: 0.9341 - val_loss: 0.2333 - val_precision: 0.9298 - val_recall: 0.9636\n",
            "Epoch 12/50\n",
            "\u001b[1m23/23\u001b[0m \u001b[32m━━━━━━━━━━━━━━━━━━━━\u001b[0m\u001b[37m\u001b[0m \u001b[1m0s\u001b[0m 7ms/step - accuracy: 0.9156 - loss: 0.2205 - precision: 0.9158 - recall: 0.9382 - val_accuracy: 0.9341 - val_loss: 0.2205 - val_precision: 0.9298 - val_recall: 0.9636\n",
            "Epoch 13/50\n",
            "\u001b[1m23/23\u001b[0m \u001b[32m━━━━━━━━━━━━━━━━━━━━\u001b[0m\u001b[37m\u001b[0m \u001b[1m0s\u001b[0m 7ms/step - accuracy: 0.9400 - loss: 0.1950 - precision: 0.9592 - recall: 0.9479 - val_accuracy: 0.9341 - val_loss: 0.2101 - val_precision: 0.9298 - val_recall: 0.9636\n",
            "Epoch 14/50\n",
            "\u001b[1m23/23\u001b[0m \u001b[32m━━━━━━━━━━━━━━━━━━━━\u001b[0m\u001b[37m\u001b[0m \u001b[1m0s\u001b[0m 7ms/step - accuracy: 0.9558 - loss: 0.1706 - precision: 0.9634 - recall: 0.9649 - val_accuracy: 0.9341 - val_loss: 0.2014 - val_precision: 0.9298 - val_recall: 0.9636\n",
            "Epoch 15/50\n",
            "\u001b[1m23/23\u001b[0m \u001b[32m━━━━━━━━━━━━━━━━━━━━\u001b[0m\u001b[37m\u001b[0m \u001b[1m0s\u001b[0m 9ms/step - accuracy: 0.9649 - loss: 0.1556 - precision: 0.9619 - recall: 0.9818 - val_accuracy: 0.9341 - val_loss: 0.1938 - val_precision: 0.9298 - val_recall: 0.9636\n",
            "Epoch 16/50\n",
            "\u001b[1m23/23\u001b[0m \u001b[32m━━━━━━━━━━━━━━━━━━━━\u001b[0m\u001b[37m\u001b[0m \u001b[1m0s\u001b[0m 7ms/step - accuracy: 0.9613 - loss: 0.1453 - precision: 0.9659 - recall: 0.9753 - val_accuracy: 0.9341 - val_loss: 0.1876 - val_precision: 0.9298 - val_recall: 0.9636\n",
            "Epoch 17/50\n",
            "\u001b[1m23/23\u001b[0m \u001b[32m━━━━━━━━━━━━━━━━━━━━\u001b[0m\u001b[37m\u001b[0m \u001b[1m0s\u001b[0m 8ms/step - accuracy: 0.9876 - loss: 0.1190 - precision: 0.9827 - recall: 0.9987 - val_accuracy: 0.9341 - val_loss: 0.1828 - val_precision: 0.9298 - val_recall: 0.9636\n",
            "Epoch 18/50\n",
            "\u001b[1m23/23\u001b[0m \u001b[32m━━━━━━━━━━━━━━━━━━━━\u001b[0m\u001b[37m\u001b[0m \u001b[1m0s\u001b[0m 7ms/step - accuracy: 0.9727 - loss: 0.1233 - precision: 0.9616 - recall: 0.9929 - val_accuracy: 0.9341 - val_loss: 0.1785 - val_precision: 0.9298 - val_recall: 0.9636\n",
            "Epoch 19/50\n",
            "\u001b[1m23/23\u001b[0m \u001b[32m━━━━━━━━━━━━━━━━━━━━\u001b[0m\u001b[37m\u001b[0m \u001b[1m0s\u001b[0m 7ms/step - accuracy: 0.9649 - loss: 0.1454 - precision: 0.9606 - recall: 0.9841 - val_accuracy: 0.9341 - val_loss: 0.1750 - val_precision: 0.9298 - val_recall: 0.9636\n",
            "Epoch 20/50\n",
            "\u001b[1m23/23\u001b[0m \u001b[32m━━━━━━━━━━━━━━━━━━━━\u001b[0m\u001b[37m\u001b[0m \u001b[1m0s\u001b[0m 8ms/step - accuracy: 0.9860 - loss: 0.1055 - precision: 0.9840 - recall: 0.9942 - val_accuracy: 0.9341 - val_loss: 0.1723 - val_precision: 0.9298 - val_recall: 0.9636\n",
            "Epoch 21/50\n",
            "\u001b[1m23/23\u001b[0m \u001b[32m━━━━━━━━━━━━━━━━━━━━\u001b[0m\u001b[37m\u001b[0m \u001b[1m0s\u001b[0m 7ms/step - accuracy: 0.9815 - loss: 0.1198 - precision: 0.9787 - recall: 0.9903 - val_accuracy: 0.9341 - val_loss: 0.1699 - val_precision: 0.9298 - val_recall: 0.9636\n",
            "Epoch 22/50\n",
            "\u001b[1m23/23\u001b[0m \u001b[32m━━━━━━━━━━━━━━━━━━━━\u001b[0m\u001b[37m\u001b[0m \u001b[1m0s\u001b[0m 7ms/step - accuracy: 0.9663 - loss: 0.1304 - precision: 0.9652 - recall: 0.9850 - val_accuracy: 0.9341 - val_loss: 0.1682 - val_precision: 0.9298 - val_recall: 0.9636\n",
            "Epoch 23/50\n",
            "\u001b[1m23/23\u001b[0m \u001b[32m━━━━━━━━━━━━━━━━━━━━\u001b[0m\u001b[37m\u001b[0m \u001b[1m0s\u001b[0m 8ms/step - accuracy: 0.9731 - loss: 0.1170 - precision: 0.9605 - recall: 0.9948 - val_accuracy: 0.9341 - val_loss: 0.1665 - val_precision: 0.9298 - val_recall: 0.9636\n",
            "Epoch 24/50\n",
            "\u001b[1m23/23\u001b[0m \u001b[32m━━━━━━━━━━━━━━━━━━━━\u001b[0m\u001b[37m\u001b[0m \u001b[1m0s\u001b[0m 7ms/step - accuracy: 0.9829 - loss: 0.0917 - precision: 0.9770 - recall: 0.9967 - val_accuracy: 0.9341 - val_loss: 0.1649 - val_precision: 0.9298 - val_recall: 0.9636\n",
            "Epoch 25/50\n",
            "\u001b[1m23/23\u001b[0m \u001b[32m━━━━━━━━━━━━━━━━━━━━\u001b[0m\u001b[37m\u001b[0m \u001b[1m0s\u001b[0m 7ms/step - accuracy: 0.9809 - loss: 0.1082 - precision: 0.9763 - recall: 0.9926 - val_accuracy: 0.9341 - val_loss: 0.1639 - val_precision: 0.9298 - val_recall: 0.9636\n",
            "Epoch 26/50\n",
            "\u001b[1m23/23\u001b[0m \u001b[32m━━━━━━━━━━━━━━━━━━━━\u001b[0m\u001b[37m\u001b[0m \u001b[1m0s\u001b[0m 8ms/step - accuracy: 0.9742 - loss: 0.1180 - precision: 0.9662 - recall: 0.9953 - val_accuracy: 0.9341 - val_loss: 0.1631 - val_precision: 0.9298 - val_recall: 0.9636\n",
            "Epoch 27/50\n",
            "\u001b[1m23/23\u001b[0m \u001b[32m━━━━━━━━━━━━━━━━━━━━\u001b[0m\u001b[37m\u001b[0m \u001b[1m0s\u001b[0m 7ms/step - accuracy: 0.9765 - loss: 0.0956 - precision: 0.9678 - recall: 0.9948 - val_accuracy: 0.9341 - val_loss: 0.1623 - val_precision: 0.9298 - val_recall: 0.9636\n",
            "Epoch 28/50\n",
            "\u001b[1m23/23\u001b[0m \u001b[32m━━━━━━━━━━━━━━━━━━━━\u001b[0m\u001b[37m\u001b[0m \u001b[1m0s\u001b[0m 11ms/step - accuracy: 0.9675 - loss: 0.1056 - precision: 0.9555 - recall: 0.9943 - val_accuracy: 0.9341 - val_loss: 0.1617 - val_precision: 0.9298 - val_recall: 0.9636\n",
            "Epoch 29/50\n",
            "\u001b[1m23/23\u001b[0m \u001b[32m━━━━━━━━━━━━━━━━━━━━\u001b[0m\u001b[37m\u001b[0m \u001b[1m0s\u001b[0m 14ms/step - accuracy: 0.9636 - loss: 0.1077 - precision: 0.9599 - recall: 0.9805 - val_accuracy: 0.9341 - val_loss: 0.1612 - val_precision: 0.9298 - val_recall: 0.9636\n",
            "Epoch 30/50\n",
            "\u001b[1m23/23\u001b[0m \u001b[32m━━━━━━━━━━━━━━━━━━━━\u001b[0m\u001b[37m\u001b[0m \u001b[1m0s\u001b[0m 15ms/step - accuracy: 0.9835 - loss: 0.0797 - precision: 0.9872 - recall: 0.9871 - val_accuracy: 0.9341 - val_loss: 0.1607 - val_precision: 0.9298 - val_recall: 0.9636\n",
            "Epoch 31/50\n",
            "\u001b[1m23/23\u001b[0m \u001b[32m━━━━━━━━━━━━━━━━━━━━\u001b[0m\u001b[37m\u001b[0m \u001b[1m0s\u001b[0m 14ms/step - accuracy: 0.9645 - loss: 0.1024 - precision: 0.9708 - recall: 0.9746 - val_accuracy: 0.9341 - val_loss: 0.1604 - val_precision: 0.9298 - val_recall: 0.9636\n",
            "Epoch 32/50\n",
            "\u001b[1m23/23\u001b[0m \u001b[32m━━━━━━━━━━━━━━━━━━━━\u001b[0m\u001b[37m\u001b[0m \u001b[1m0s\u001b[0m 12ms/step - accuracy: 0.9867 - loss: 0.0828 - precision: 0.9838 - recall: 0.9962 - val_accuracy: 0.9341 - val_loss: 0.1600 - val_precision: 0.9298 - val_recall: 0.9636\n",
            "Epoch 33/50\n",
            "\u001b[1m23/23\u001b[0m \u001b[32m━━━━━━━━━━━━━━━━━━━━\u001b[0m\u001b[37m\u001b[0m \u001b[1m0s\u001b[0m 13ms/step - accuracy: 0.9798 - loss: 0.0914 - precision: 0.9826 - recall: 0.9856 - val_accuracy: 0.9341 - val_loss: 0.1596 - val_precision: 0.9298 - val_recall: 0.9636\n",
            "Epoch 34/50\n",
            "\u001b[1m23/23\u001b[0m \u001b[32m━━━━━━━━━━━━━━━━━━━━\u001b[0m\u001b[37m\u001b[0m \u001b[1m0s\u001b[0m 11ms/step - accuracy: 0.9763 - loss: 0.0821 - precision: 0.9817 - recall: 0.9815 - val_accuracy: 0.9341 - val_loss: 0.1592 - val_precision: 0.9298 - val_recall: 0.9636\n",
            "Epoch 35/50\n",
            "\u001b[1m23/23\u001b[0m \u001b[32m━━━━━━━━━━━━━━━━━━━━\u001b[0m\u001b[37m\u001b[0m \u001b[1m0s\u001b[0m 13ms/step - accuracy: 0.9782 - loss: 0.0804 - precision: 0.9865 - recall: 0.9808 - val_accuracy: 0.9341 - val_loss: 0.1589 - val_precision: 0.9298 - val_recall: 0.9636\n",
            "Epoch 36/50\n",
            "\u001b[1m23/23\u001b[0m \u001b[32m━━━━━━━━━━━━━━━━━━━━\u001b[0m\u001b[37m\u001b[0m \u001b[1m0s\u001b[0m 14ms/step - accuracy: 0.9807 - loss: 0.0805 - precision: 0.9859 - recall: 0.9835 - val_accuracy: 0.9451 - val_loss: 0.1587 - val_precision: 0.9464 - val_recall: 0.9636\n",
            "Epoch 37/50\n",
            "\u001b[1m23/23\u001b[0m \u001b[32m━━━━━━━━━━━━━━━━━━━━\u001b[0m\u001b[37m\u001b[0m \u001b[1m0s\u001b[0m 12ms/step - accuracy: 0.9865 - loss: 0.0676 - precision: 0.9851 - recall: 0.9943 - val_accuracy: 0.9451 - val_loss: 0.1585 - val_precision: 0.9464 - val_recall: 0.9636\n",
            "Epoch 38/50\n",
            "\u001b[1m23/23\u001b[0m \u001b[32m━━━━━━━━━━━━━━━━━━━━\u001b[0m\u001b[37m\u001b[0m \u001b[1m0s\u001b[0m 14ms/step - accuracy: 0.9757 - loss: 0.0774 - precision: 0.9736 - recall: 0.9907 - val_accuracy: 0.9451 - val_loss: 0.1582 - val_precision: 0.9464 - val_recall: 0.9636\n",
            "Epoch 39/50\n",
            "\u001b[1m23/23\u001b[0m \u001b[32m━━━━━━━━━━━━━━━━━━━━\u001b[0m\u001b[37m\u001b[0m \u001b[1m0s\u001b[0m 12ms/step - accuracy: 0.9789 - loss: 0.0751 - precision: 0.9810 - recall: 0.9863 - val_accuracy: 0.9451 - val_loss: 0.1580 - val_precision: 0.9464 - val_recall: 0.9636\n",
            "Epoch 40/50\n",
            "\u001b[1m23/23\u001b[0m \u001b[32m━━━━━━━━━━━━━━━━━━━━\u001b[0m\u001b[37m\u001b[0m \u001b[1m0s\u001b[0m 11ms/step - accuracy: 0.9914 - loss: 0.0573 - precision: 0.9937 - recall: 0.9930 - val_accuracy: 0.9451 - val_loss: 0.1582 - val_precision: 0.9464 - val_recall: 0.9636\n",
            "Epoch 41/50\n",
            "\u001b[1m23/23\u001b[0m \u001b[32m━━━━━━━━━━━━━━━━━━━━\u001b[0m\u001b[37m\u001b[0m \u001b[1m0s\u001b[0m 11ms/step - accuracy: 0.9878 - loss: 0.0780 - precision: 0.9905 - recall: 0.9906 - val_accuracy: 0.9451 - val_loss: 0.1578 - val_precision: 0.9464 - val_recall: 0.9636\n",
            "Epoch 42/50\n",
            "\u001b[1m23/23\u001b[0m \u001b[32m━━━━━━━━━━━━━━━━━━━━\u001b[0m\u001b[37m\u001b[0m \u001b[1m0s\u001b[0m 11ms/step - accuracy: 0.9863 - loss: 0.0646 - precision: 0.9848 - recall: 0.9943 - val_accuracy: 0.9451 - val_loss: 0.1576 - val_precision: 0.9464 - val_recall: 0.9636\n",
            "Epoch 43/50\n",
            "\u001b[1m23/23\u001b[0m \u001b[32m━━━━━━━━━━━━━━━━━━━━\u001b[0m\u001b[37m\u001b[0m \u001b[1m0s\u001b[0m 12ms/step - accuracy: 0.9863 - loss: 0.0622 - precision: 0.9819 - recall: 0.9963 - val_accuracy: 0.9451 - val_loss: 0.1578 - val_precision: 0.9464 - val_recall: 0.9636\n",
            "Epoch 44/50\n",
            "\u001b[1m23/23\u001b[0m \u001b[32m━━━━━━━━━━━━━━━━━━━━\u001b[0m\u001b[37m\u001b[0m \u001b[1m0s\u001b[0m 20ms/step - accuracy: 0.9853 - loss: 0.0633 - precision: 0.9876 - recall: 0.9900 - val_accuracy: 0.9451 - val_loss: 0.1575 - val_precision: 0.9464 - val_recall: 0.9636\n",
            "Epoch 45/50\n",
            "\u001b[1m23/23\u001b[0m \u001b[32m━━━━━━━━━━━━━━━━━━━━\u001b[0m\u001b[37m\u001b[0m \u001b[1m1s\u001b[0m 27ms/step - accuracy: 0.9775 - loss: 0.0631 - precision: 0.9750 - recall: 0.9895 - val_accuracy: 0.9451 - val_loss: 0.1572 - val_precision: 0.9464 - val_recall: 0.9636\n",
            "Epoch 46/50\n",
            "\u001b[1m23/23\u001b[0m \u001b[32m━━━━━━━━━━━━━━━━━━━━\u001b[0m\u001b[37m\u001b[0m \u001b[1m0s\u001b[0m 9ms/step - accuracy: 0.9809 - loss: 0.0658 - precision: 0.9857 - recall: 0.9850 - val_accuracy: 0.9451 - val_loss: 0.1572 - val_precision: 0.9464 - val_recall: 0.9636\n",
            "Epoch 47/50\n",
            "\u001b[1m23/23\u001b[0m \u001b[32m━━━━━━━━━━━━━━━━━━━━\u001b[0m\u001b[37m\u001b[0m \u001b[1m0s\u001b[0m 9ms/step - accuracy: 0.9938 - loss: 0.0484 - precision: 0.9920 - recall: 0.9981 - val_accuracy: 0.9451 - val_loss: 0.1571 - val_precision: 0.9464 - val_recall: 0.9636\n",
            "Epoch 48/50\n",
            "\u001b[1m23/23\u001b[0m \u001b[32m━━━━━━━━━━━━━━━━━━━━\u001b[0m\u001b[37m\u001b[0m \u001b[1m0s\u001b[0m 10ms/step - accuracy: 0.9826 - loss: 0.0605 - precision: 0.9821 - recall: 0.9893 - val_accuracy: 0.9451 - val_loss: 0.1569 - val_precision: 0.9464 - val_recall: 0.9636\n",
            "Epoch 49/50\n",
            "\u001b[1m23/23\u001b[0m \u001b[32m━━━━━━━━━━━━━━━━━━━━\u001b[0m\u001b[37m\u001b[0m \u001b[1m0s\u001b[0m 9ms/step - accuracy: 0.9949 - loss: 0.0423 - precision: 0.9941 - recall: 0.9979 - val_accuracy: 0.9451 - val_loss: 0.1568 - val_precision: 0.9464 - val_recall: 0.9636\n",
            "Epoch 50/50\n",
            "\u001b[1m23/23\u001b[0m \u001b[32m━━━━━━━━━━━━━━━━━━━━\u001b[0m\u001b[37m\u001b[0m \u001b[1m0s\u001b[0m 9ms/step - accuracy: 0.9843 - loss: 0.0670 - precision: 0.9855 - recall: 0.9902 - val_accuracy: 0.9451 - val_loss: 0.1569 - val_precision: 0.9464 - val_recall: 0.9636\n"
          ]
        }
      ]
    },
    {
      "cell_type": "markdown",
      "source": [
        "- The `fit` method returns the training record as a `History` object.\n",
        "- You can access the recorded loss and metrics for each epoch via `history.history`.\n",
        "- This is useful for plotting learning curves or analyzing model performance over time."
      ],
      "metadata": {
        "id": "Lvi6GQTNNlny"
      }
    },
    {
      "cell_type": "code",
      "source": [
        "# Training record:\n",
        "print(history.history.keys())\n",
        "\n",
        "print(\"Loss (binary_crossentropy): \", history.history['loss'][:10])\n",
        "print(\"Accuracy:\", history.history['accuracy'][:10])\n",
        "print(\"Precision:\", history.history['precision'][:10])\n",
        "print(\"Recall:\", history.history['recall'][:10])\n"
      ],
      "metadata": {
        "colab": {
          "base_uri": "https://localhost:8080/"
        },
        "id": "QOW3mLobERhp",
        "outputId": "524f373c-dc45-4ed5-c24e-74100e3058b0"
      },
      "execution_count": 81,
      "outputs": [
        {
          "output_type": "stream",
          "name": "stdout",
          "text": [
            "dict_keys(['accuracy', 'loss', 'precision', 'recall', 'val_accuracy', 'val_loss', 'val_precision', 'val_recall'])\n",
            "Loss (binary_crossentropy):  [0.6996863484382629, 0.6071742177009583, 0.5399619936943054, 0.4795626103878021, 0.4226580262184143, 0.3701225519180298, 0.32571887969970703, 0.2896493375301361, 0.25949227809906006, 0.23497752845287323]\n",
            "Accuracy: [0.40934064984321594, 0.6043956279754639, 0.7829670310020447, 0.8708791136741638, 0.906593382358551, 0.9450549483299255, 0.9450549483299255, 0.9450549483299255, 0.9450549483299255, 0.9450549483299255]\n",
            "Precision: [0.6818181872367859, 0.9578947424888611, 0.9691358208656311, 0.9693877696990967, 0.9712918400764465, 0.9647576808929443, 0.9567099809646606, 0.9567099809646606, 0.9567099809646606, 0.9567099809646606]\n",
            "Recall: [0.12987013161182404, 0.39393940567970276, 0.6796537041664124, 0.822510838508606, 0.8787878751754761, 0.948051929473877, 0.9567099809646606, 0.9567099809646606, 0.9567099809646606, 0.9567099809646606]\n"
          ]
        }
      ]
    },
    {
      "cell_type": "markdown",
      "source": [
        "- Visualize the training progress:"
      ],
      "metadata": {
        "id": "N03cHVpvUPCq"
      }
    },
    {
      "cell_type": "code",
      "source": [
        "# plot the training progress:\n",
        "history_dict = history.history\n",
        "print(history_dict.keys())\n",
        "\n",
        "from matplotlib import pyplot as plt\n",
        "\n",
        "# Plot training & validation accuracy values\n",
        "plt.plot(history.history['accuracy'])\n",
        "plt.plot(history.history['val_accuracy'])\n",
        "plt.title('Model accuracy')\n",
        "plt.ylabel('Accuracy')\n",
        "plt.xlabel('Epoch')\n",
        "plt.legend(['Train', 'Validation'], loc='upper left')\n",
        "plt.show()\n",
        "\n",
        "# Plot training & validation loss values\n",
        "plt.plot(history.history['loss'])\n",
        "plt.plot(history.history['val_loss'])\n",
        "plt.title('Model loss')\n",
        "plt.ylabel('Loss')\n",
        "plt.xlabel('Epoch')\n",
        "plt.legend(['Train', 'Validation'], loc='upper left')\n",
        "plt.show()\n",
        "\n"
      ],
      "metadata": {
        "colab": {
          "base_uri": "https://localhost:8080/",
          "height": 965
        },
        "id": "19Zh7bgoTCea",
        "outputId": "6637da4b-ccab-4987-8946-daed322ddd03"
      },
      "execution_count": 82,
      "outputs": [
        {
          "output_type": "stream",
          "name": "stdout",
          "text": [
            "dict_keys(['accuracy', 'loss', 'precision', 'recall', 'val_accuracy', 'val_loss', 'val_precision', 'val_recall'])\n"
          ]
        },
        {
          "output_type": "display_data",
          "data": {
            "text/plain": [
              "<Figure size 640x480 with 1 Axes>"
            ],
            "image/png": "[encoded data removed]"
          },
          "metadata": {}
        },
        {
          "output_type": "display_data",
          "data": {
            "text/plain": [
              "<Figure size 640x480 with 1 Axes>"
            ],
            "image/png": "[encoded data removed]"
          },
          "metadata": {}
        }
      ]
    },
    {
      "cell_type": "markdown",
      "source": [
        "### 3.1  Callbacks to monitor and control the training process\n",
        "\n",
        "Callbacks are tools that allow you to intervene at specific stages of model training.\n",
        "\n",
        "They can help you:\n",
        "- Stop training early if the model stops improving (`EarlyStopping`)\n",
        "- Save the best version of the model during training (`ModelCheckpoint`)\n",
        "- Adjust the learning rate dynamically (`ReduceLROnPlateau`)\n",
        "- Log training progress for visualization (`TensorBoard`)\n",
        "\n",
        "Below is an example using `EarlyStopping` to stop training if the validation loss doesn't improve for a number of epochs."
      ],
      "metadata": {
        "id": "uSa0Ni9-MM_9"
      }
    },
    {
      "cell_type": "code",
      "source": [
        "model = keras.Sequential([\n",
        "    layers.InputLayer(shape=(X_train.shape[1],)),  # Input Layer\n",
        "    #layers.Dense(30, activation='relu', kernel_initializer='he_normal', bias_initializer='zeros') # First hidden layer\n",
        "    layers.Dense(30, activation='relu'), # First hidden layer\n",
        "    layers.Dense(15, activation='relu'),  # Second hidden layer\n",
        "    layers.Dense(1, activation='sigmoid')  # Output layer for binary classification\n",
        "])\n",
        "\n",
        "# Define optimizer with custom learning rate and other parameters\n",
        "optimizer = keras.optimizers.SGD(learning_rate=0.01)\n",
        "\n",
        "# Configure the model:\n",
        "model.compile(optimizer=optimizer, loss='binary_crossentropy', metrics=[ 'accuracy', keras.metrics.Precision(name='precision'), keras.metrics.Recall(name='recall')])\n",
        "\n",
        "\n",
        "# Early stopping:\n",
        "from keras.callbacks import EarlyStopping\n",
        "early_stopping = EarlyStopping(monitor=\"val_loss\", patience=3, restore_best_weights=True)\n",
        "\n",
        "history = model.fit(X_train, y_train, epochs=300, batch_size=16, validation_data=(X_val, y_val), callbacks=[early_stopping])"
      ],
      "metadata": {
        "id": "8KPq1OhGMH04",
        "outputId": "5af3f8a2-11e0-432f-88c3-c34f63e7f4a3",
        "colab": {
          "base_uri": "https://localhost:8080/"
        }
      },
      "execution_count": 83,
      "outputs": [
        {
          "output_type": "stream",
          "name": "stdout",
          "text": [
            "Epoch 1/300\n",
            "\u001b[1m23/23\u001b[0m \u001b[32m━━━━━━━━━━━━━━━━━━━━\u001b[0m\u001b[37m\u001b[0m \u001b[1m1s\u001b[0m 25ms/step - accuracy: 0.4555 - loss: 0.7095 - precision: 0.5305 - recall: 0.6526 - val_accuracy: 0.5824 - val_loss: 0.6725 - val_precision: 0.6049 - val_recall: 0.8909\n",
            "Epoch 2/300\n",
            "\u001b[1m23/23\u001b[0m \u001b[32m━━━━━━━━━━━━━━━━━━━━\u001b[0m\u001b[37m\u001b[0m \u001b[1m0s\u001b[0m 13ms/step - accuracy: 0.7266 - loss: 0.6424 - precision: 0.7150 - recall: 0.9406 - val_accuracy: 0.6923 - val_loss: 0.6184 - val_precision: 0.6753 - val_recall: 0.9455\n",
            "Epoch 3/300\n",
            "\u001b[1m23/23\u001b[0m \u001b[32m━━━━━━━━━━━━━━━━━━━━\u001b[0m\u001b[37m\u001b[0m \u001b[1m0s\u001b[0m 12ms/step - accuracy: 0.7504 - loss: 0.5985 - precision: 0.6990 - recall: 0.9989 - val_accuracy: 0.7802 - val_loss: 0.5649 - val_precision: 0.7397 - val_recall: 0.9818\n",
            "Epoch 4/300\n",
            "\u001b[1m23/23\u001b[0m \u001b[32m━━━━━━━━━━━━━━━━━━━━\u001b[0m\u001b[37m\u001b[0m \u001b[1m0s\u001b[0m 10ms/step - accuracy: 0.8020 - loss: 0.5314 - precision: 0.7606 - recall: 0.9902 - val_accuracy: 0.8352 - val_loss: 0.5121 - val_precision: 0.7941 - val_recall: 0.9818\n",
            "Epoch 5/300\n",
            "\u001b[1m23/23\u001b[0m \u001b[32m━━━━━━━━━━━━━━━━━━━━\u001b[0m\u001b[37m\u001b[0m \u001b[1m0s\u001b[0m 11ms/step - accuracy: 0.8605 - loss: 0.4593 - precision: 0.8298 - recall: 0.9887 - val_accuracy: 0.8681 - val_loss: 0.4620 - val_precision: 0.8308 - val_recall: 0.9818\n",
            "Epoch 6/300\n",
            "\u001b[1m23/23\u001b[0m \u001b[32m━━━━━━━━━━━━━━━━━━━━\u001b[0m\u001b[37m\u001b[0m \u001b[1m0s\u001b[0m 11ms/step - accuracy: 0.8940 - loss: 0.4287 - precision: 0.8641 - recall: 0.9872 - val_accuracy: 0.8681 - val_loss: 0.4167 - val_precision: 0.8413 - val_recall: 0.9636\n",
            "Epoch 7/300\n",
            "\u001b[1m23/23\u001b[0m \u001b[32m━━━━━━━━━━━━━━━━━━━━\u001b[0m\u001b[37m\u001b[0m \u001b[1m0s\u001b[0m 7ms/step - accuracy: 0.9122 - loss: 0.3772 - precision: 0.8796 - recall: 0.9918 - val_accuracy: 0.8791 - val_loss: 0.3771 - val_precision: 0.8548 - val_recall: 0.9636\n",
            "Epoch 8/300\n",
            "\u001b[1m23/23\u001b[0m \u001b[32m━━━━━━━━━━━━━━━━━━━━\u001b[0m\u001b[37m\u001b[0m \u001b[1m0s\u001b[0m 13ms/step - accuracy: 0.9294 - loss: 0.3367 - precision: 0.9027 - recall: 0.9991 - val_accuracy: 0.9011 - val_loss: 0.3435 - val_precision: 0.8833 - val_recall: 0.9636\n",
            "Epoch 9/300\n",
            "\u001b[1m23/23\u001b[0m \u001b[32m━━━━━━━━━━━━━━━━━━━━\u001b[0m\u001b[37m\u001b[0m \u001b[1m0s\u001b[0m 13ms/step - accuracy: 0.9301 - loss: 0.2952 - precision: 0.9044 - recall: 0.9945 - val_accuracy: 0.9121 - val_loss: 0.3150 - val_precision: 0.8983 - val_recall: 0.9636\n",
            "Epoch 10/300\n",
            "\u001b[1m23/23\u001b[0m \u001b[32m━━━━━━━━━━━━━━━━━━━━\u001b[0m\u001b[37m\u001b[0m \u001b[1m0s\u001b[0m 8ms/step - accuracy: 0.9476 - loss: 0.2790 - precision: 0.9232 - recall: 0.9963 - val_accuracy: 0.9121 - val_loss: 0.2912 - val_precision: 0.8983 - val_recall: 0.9636\n",
            "Epoch 11/300\n",
            "\u001b[1m23/23\u001b[0m \u001b[32m━━━━━━━━━━━━━━━━━━━━\u001b[0m\u001b[37m\u001b[0m \u001b[1m0s\u001b[0m 12ms/step - accuracy: 0.9474 - loss: 0.2423 - precision: 0.9262 - recall: 0.9956 - val_accuracy: 0.9011 - val_loss: 0.2713 - val_precision: 0.8966 - val_recall: 0.9455\n",
            "Epoch 12/300\n",
            "\u001b[1m23/23\u001b[0m \u001b[32m━━━━━━━━━━━━━━━━━━━━\u001b[0m\u001b[37m\u001b[0m \u001b[1m0s\u001b[0m 16ms/step - accuracy: 0.9483 - loss: 0.2220 - precision: 0.9240 - recall: 0.9973 - val_accuracy: 0.9011 - val_loss: 0.2545 - val_precision: 0.8966 - val_recall: 0.9455\n",
            "Epoch 13/300\n",
            "\u001b[1m23/23\u001b[0m \u001b[32m━━━━━━━━━━━━━━━━━━━━\u001b[0m\u001b[37m\u001b[0m \u001b[1m0s\u001b[0m 7ms/step - accuracy: 0.9488 - loss: 0.1891 - precision: 0.9354 - recall: 0.9908 - val_accuracy: 0.9121 - val_loss: 0.2405 - val_precision: 0.9123 - val_recall: 0.9455\n",
            "Epoch 14/300\n",
            "\u001b[1m23/23\u001b[0m \u001b[32m━━━━━━━━━━━━━━━━━━━━\u001b[0m\u001b[37m\u001b[0m \u001b[1m0s\u001b[0m 9ms/step - accuracy: 0.9453 - loss: 0.2039 - precision: 0.9313 - recall: 0.9871 - val_accuracy: 0.9231 - val_loss: 0.2288 - val_precision: 0.9286 - val_recall: 0.9455\n",
            "Epoch 15/300\n",
            "\u001b[1m23/23\u001b[0m \u001b[32m━━━━━━━━━━━━━━━━━━━━\u001b[0m\u001b[37m\u001b[0m \u001b[1m0s\u001b[0m 8ms/step - accuracy: 0.9428 - loss: 0.1971 - precision: 0.9306 - recall: 0.9845 - val_accuracy: 0.9231 - val_loss: 0.2184 - val_precision: 0.9286 - val_recall: 0.9455\n",
            "Epoch 16/300\n",
            "\u001b[1m23/23\u001b[0m \u001b[32m━━━━━━━━━━━━━━━━━━━━\u001b[0m\u001b[37m\u001b[0m \u001b[1m0s\u001b[0m 11ms/step - accuracy: 0.9415 - loss: 0.1909 - precision: 0.9229 - recall: 0.9906 - val_accuracy: 0.9231 - val_loss: 0.2099 - val_precision: 0.9286 - val_recall: 0.9455\n",
            "Epoch 17/300\n",
            "\u001b[1m23/23\u001b[0m \u001b[32m━━━━━━━━━━━━━━━━━━━━\u001b[0m\u001b[37m\u001b[0m \u001b[1m0s\u001b[0m 7ms/step - accuracy: 0.9552 - loss: 0.1693 - precision: 0.9388 - recall: 0.9902 - val_accuracy: 0.9231 - val_loss: 0.2024 - val_precision: 0.9286 - val_recall: 0.9455\n",
            "Epoch 18/300\n",
            "\u001b[1m23/23\u001b[0m \u001b[32m━━━━━━━━━━━━━━━━━━━━\u001b[0m\u001b[37m\u001b[0m \u001b[1m0s\u001b[0m 13ms/step - accuracy: 0.9615 - loss: 0.1677 - precision: 0.9439 - recall: 0.9991 - val_accuracy: 0.9231 - val_loss: 0.1960 - val_precision: 0.9286 - val_recall: 0.9455\n",
            "Epoch 19/300\n",
            "\u001b[1m23/23\u001b[0m \u001b[32m━━━━━━━━━━━━━━━━━━━━\u001b[0m\u001b[37m\u001b[0m \u001b[1m0s\u001b[0m 11ms/step - accuracy: 0.9558 - loss: 0.1606 - precision: 0.9338 - recall: 1.0000 - val_accuracy: 0.9231 - val_loss: 0.1906 - val_precision: 0.9286 - val_recall: 0.9455\n",
            "Epoch 20/300\n",
            "\u001b[1m23/23\u001b[0m \u001b[32m━━━━━━━━━━━━━━━━━━━━\u001b[0m\u001b[37m\u001b[0m \u001b[1m0s\u001b[0m 9ms/step - accuracy: 0.9561 - loss: 0.1467 - precision: 0.9366 - recall: 1.0000 - val_accuracy: 0.9451 - val_loss: 0.1857 - val_precision: 0.9464 - val_recall: 0.9636\n",
            "Epoch 21/300\n",
            "\u001b[1m23/23\u001b[0m \u001b[32m━━━━━━━━━━━━━━━━━━━━\u001b[0m\u001b[37m\u001b[0m \u001b[1m0s\u001b[0m 7ms/step - accuracy: 0.9603 - loss: 0.1384 - precision: 0.9415 - recall: 0.9956 - val_accuracy: 0.9451 - val_loss: 0.1815 - val_precision: 0.9464 - val_recall: 0.9636\n",
            "Epoch 22/300\n",
            "\u001b[1m23/23\u001b[0m \u001b[32m━━━━━━━━━━━━━━━━━━━━\u001b[0m\u001b[37m\u001b[0m \u001b[1m0s\u001b[0m 9ms/step - accuracy: 0.9623 - loss: 0.1402 - precision: 0.9426 - recall: 0.9986 - val_accuracy: 0.9560 - val_loss: 0.1776 - val_precision: 0.9474 - val_recall: 0.9818\n",
            "Epoch 23/300\n",
            "\u001b[1m23/23\u001b[0m \u001b[32m━━━━━━━━━━━━━━━━━━━━\u001b[0m\u001b[37m\u001b[0m \u001b[1m0s\u001b[0m 10ms/step - accuracy: 0.9625 - loss: 0.1421 - precision: 0.9369 - recall: 0.9993 - val_accuracy: 0.9560 - val_loss: 0.1743 - val_precision: 0.9474 - val_recall: 0.9818\n",
            "Epoch 24/300\n",
            "\u001b[1m23/23\u001b[0m \u001b[32m━━━━━━━━━━━━━━━━━━━━\u001b[0m\u001b[37m\u001b[0m \u001b[1m0s\u001b[0m 7ms/step - accuracy: 0.9742 - loss: 0.1127 - precision: 0.9637 - recall: 0.9979 - val_accuracy: 0.9560 - val_loss: 0.1715 - val_precision: 0.9474 - val_recall: 0.9818\n",
            "Epoch 25/300\n",
            "\u001b[1m23/23\u001b[0m \u001b[32m━━━━━━━━━━━━━━━━━━━━\u001b[0m\u001b[37m\u001b[0m \u001b[1m0s\u001b[0m 15ms/step - accuracy: 0.9783 - loss: 0.1024 - precision: 0.9703 - recall: 0.9969 - val_accuracy: 0.9560 - val_loss: 0.1689 - val_precision: 0.9474 - val_recall: 0.9818\n",
            "Epoch 26/300\n",
            "\u001b[1m23/23\u001b[0m \u001b[32m━━━━━━━━━━━━━━━━━━━━\u001b[0m\u001b[37m\u001b[0m \u001b[1m0s\u001b[0m 13ms/step - accuracy: 0.9726 - loss: 0.1018 - precision: 0.9625 - recall: 0.9957 - val_accuracy: 0.9560 - val_loss: 0.1665 - val_precision: 0.9474 - val_recall: 0.9818\n",
            "Epoch 27/300\n",
            "\u001b[1m23/23\u001b[0m \u001b[32m━━━━━━━━━━━━━━━━━━━━\u001b[0m\u001b[37m\u001b[0m \u001b[1m0s\u001b[0m 11ms/step - accuracy: 0.9667 - loss: 0.1076 - precision: 0.9588 - recall: 0.9888 - val_accuracy: 0.9560 - val_loss: 0.1643 - val_precision: 0.9474 - val_recall: 0.9818\n",
            "Epoch 28/300\n",
            "\u001b[1m23/23\u001b[0m \u001b[32m━━━━━━━━━━━━━━━━━━━━\u001b[0m\u001b[37m\u001b[0m \u001b[1m0s\u001b[0m 11ms/step - accuracy: 0.9769 - loss: 0.0920 - precision: 0.9703 - recall: 0.9957 - val_accuracy: 0.9560 - val_loss: 0.1624 - val_precision: 0.9474 - val_recall: 0.9818\n",
            "Epoch 29/300\n",
            "\u001b[1m23/23\u001b[0m \u001b[32m━━━━━━━━━━━━━━━━━━━━\u001b[0m\u001b[37m\u001b[0m \u001b[1m0s\u001b[0m 11ms/step - accuracy: 0.9601 - loss: 0.1145 - precision: 0.9563 - recall: 0.9843 - val_accuracy: 0.9560 - val_loss: 0.1609 - val_precision: 0.9474 - val_recall: 0.9818\n",
            "Epoch 30/300\n",
            "\u001b[1m23/23\u001b[0m \u001b[32m━━━━━━━━━━━━━━━━━━━━\u001b[0m\u001b[37m\u001b[0m \u001b[1m0s\u001b[0m 8ms/step - accuracy: 0.9793 - loss: 0.0918 - precision: 0.9768 - recall: 0.9923 - val_accuracy: 0.9560 - val_loss: 0.1594 - val_precision: 0.9474 - val_recall: 0.9818\n",
            "Epoch 31/300\n",
            "\u001b[1m23/23\u001b[0m \u001b[32m━━━━━━━━━━━━━━━━━━━━\u001b[0m\u001b[37m\u001b[0m \u001b[1m0s\u001b[0m 10ms/step - accuracy: 0.9846 - loss: 0.0823 - precision: 0.9812 - recall: 0.9958 - val_accuracy: 0.9560 - val_loss: 0.1580 - val_precision: 0.9474 - val_recall: 0.9818\n",
            "Epoch 32/300\n",
            "\u001b[1m23/23\u001b[0m \u001b[32m━━━━━━━━━━━━━━━━━━━━\u001b[0m\u001b[37m\u001b[0m \u001b[1m0s\u001b[0m 13ms/step - accuracy: 0.9804 - loss: 0.0819 - precision: 0.9771 - recall: 0.9917 - val_accuracy: 0.9560 - val_loss: 0.1568 - val_precision: 0.9474 - val_recall: 0.9818\n",
            "Epoch 33/300\n",
            "\u001b[1m23/23\u001b[0m \u001b[32m━━━━━━━━━━━━━━━━━━━━\u001b[0m\u001b[37m\u001b[0m \u001b[1m0s\u001b[0m 8ms/step - accuracy: 0.9773 - loss: 0.0790 - precision: 0.9756 - recall: 0.9897 - val_accuracy: 0.9560 - val_loss: 0.1557 - val_precision: 0.9474 - val_recall: 0.9818\n",
            "Epoch 34/300\n",
            "\u001b[1m23/23\u001b[0m \u001b[32m━━━━━━━━━━━━━━━━━━━━\u001b[0m\u001b[37m\u001b[0m \u001b[1m0s\u001b[0m 8ms/step - accuracy: 0.9799 - loss: 0.0735 - precision: 0.9729 - recall: 0.9967 - val_accuracy: 0.9560 - val_loss: 0.1547 - val_precision: 0.9474 - val_recall: 0.9818\n",
            "Epoch 35/300\n",
            "\u001b[1m23/23\u001b[0m \u001b[32m━━━━━━━━━━━━━━━━━━━━\u001b[0m\u001b[37m\u001b[0m \u001b[1m0s\u001b[0m 8ms/step - accuracy: 0.9706 - loss: 0.0822 - precision: 0.9673 - recall: 0.9864 - val_accuracy: 0.9560 - val_loss: 0.1539 - val_precision: 0.9474 - val_recall: 0.9818\n",
            "Epoch 36/300\n",
            "\u001b[1m23/23\u001b[0m \u001b[32m━━━━━━━━━━━━━━━━━━━━\u001b[0m\u001b[37m\u001b[0m \u001b[1m0s\u001b[0m 11ms/step - accuracy: 0.9755 - loss: 0.0834 - precision: 0.9701 - recall: 0.9897 - val_accuracy: 0.9560 - val_loss: 0.1531 - val_precision: 0.9474 - val_recall: 0.9818\n",
            "Epoch 37/300\n",
            "\u001b[1m23/23\u001b[0m \u001b[32m━━━━━━━━━━━━━━━━━━━━\u001b[0m\u001b[37m\u001b[0m \u001b[1m0s\u001b[0m 9ms/step - accuracy: 0.9818 - loss: 0.0740 - precision: 0.9797 - recall: 0.9928 - val_accuracy: 0.9560 - val_loss: 0.1524 - val_precision: 0.9474 - val_recall: 0.9818\n",
            "Epoch 38/300\n",
            "\u001b[1m23/23\u001b[0m \u001b[32m━━━━━━━━━━━━━━━━━━━━\u001b[0m\u001b[37m\u001b[0m \u001b[1m0s\u001b[0m 8ms/step - accuracy: 0.9873 - loss: 0.0649 - precision: 0.9853 - recall: 0.9955 - val_accuracy: 0.9560 - val_loss: 0.1518 - val_precision: 0.9474 - val_recall: 0.9818\n",
            "Epoch 39/300\n",
            "\u001b[1m23/23\u001b[0m \u001b[32m━━━━━━━━━━━━━━━━━━━━\u001b[0m\u001b[37m\u001b[0m \u001b[1m0s\u001b[0m 11ms/step - accuracy: 0.9763 - loss: 0.0774 - precision: 0.9669 - recall: 0.9936 - val_accuracy: 0.9560 - val_loss: 0.1512 - val_precision: 0.9474 - val_recall: 0.9818\n",
            "Epoch 40/300\n",
            "\u001b[1m23/23\u001b[0m \u001b[32m━━━━━━━━━━━━━━━━━━━━\u001b[0m\u001b[37m\u001b[0m \u001b[1m0s\u001b[0m 8ms/step - accuracy: 0.9800 - loss: 0.0797 - precision: 0.9727 - recall: 0.9949 - val_accuracy: 0.9560 - val_loss: 0.1507 - val_precision: 0.9474 - val_recall: 0.9818\n",
            "Epoch 41/300\n",
            "\u001b[1m23/23\u001b[0m \u001b[32m━━━━━━━━━━━━━━━━━━━━\u001b[0m\u001b[37m\u001b[0m \u001b[1m0s\u001b[0m 12ms/step - accuracy: 0.9884 - loss: 0.0645 - precision: 0.9844 - recall: 0.9971 - val_accuracy: 0.9560 - val_loss: 0.1503 - val_precision: 0.9474 - val_recall: 0.9818\n",
            "Epoch 42/300\n",
            "\u001b[1m23/23\u001b[0m \u001b[32m━━━━━━━━━━━━━━━━━━━━\u001b[0m\u001b[37m\u001b[0m \u001b[1m0s\u001b[0m 8ms/step - accuracy: 0.9807 - loss: 0.0781 - precision: 0.9735 - recall: 0.9973 - val_accuracy: 0.9560 - val_loss: 0.1499 - val_precision: 0.9474 - val_recall: 0.9818\n",
            "Epoch 43/300\n",
            "\u001b[1m23/23\u001b[0m \u001b[32m━━━━━━━━━━━━━━━━━━━━\u001b[0m\u001b[37m\u001b[0m \u001b[1m0s\u001b[0m 8ms/step - accuracy: 0.9703 - loss: 0.0697 - precision: 0.9610 - recall: 0.9942 - val_accuracy: 0.9560 - val_loss: 0.1495 - val_precision: 0.9474 - val_recall: 0.9818\n",
            "Epoch 44/300\n",
            "\u001b[1m23/23\u001b[0m \u001b[32m━━━━━━━━━━━━━━━━━━━━\u001b[0m\u001b[37m\u001b[0m \u001b[1m0s\u001b[0m 11ms/step - accuracy: 0.9918 - loss: 0.0710 - precision: 0.9943 - recall: 0.9930 - val_accuracy: 0.9560 - val_loss: 0.1493 - val_precision: 0.9474 - val_recall: 0.9818\n",
            "Epoch 45/300\n",
            "\u001b[1m23/23\u001b[0m \u001b[32m━━━━━━━━━━━━━━━━━━━━\u001b[0m\u001b[37m\u001b[0m \u001b[1m0s\u001b[0m 13ms/step - accuracy: 0.9942 - loss: 0.0595 - precision: 0.9951 - recall: 0.9959 - val_accuracy: 0.9560 - val_loss: 0.1490 - val_precision: 0.9474 - val_recall: 0.9818\n",
            "Epoch 46/300\n",
            "\u001b[1m23/23\u001b[0m \u001b[32m━━━━━━━━━━━━━━━━━━━━\u001b[0m\u001b[37m\u001b[0m \u001b[1m0s\u001b[0m 10ms/step - accuracy: 0.9868 - loss: 0.0636 - precision: 0.9872 - recall: 0.9926 - val_accuracy: 0.9560 - val_loss: 0.1489 - val_precision: 0.9474 - val_recall: 0.9818\n",
            "Epoch 47/300\n",
            "\u001b[1m23/23\u001b[0m \u001b[32m━━━━━━━━━━━━━━━━━━━━\u001b[0m\u001b[37m\u001b[0m \u001b[1m0s\u001b[0m 17ms/step - accuracy: 0.9698 - loss: 0.0939 - precision: 0.9677 - recall: 0.9811 - val_accuracy: 0.9560 - val_loss: 0.1487 - val_precision: 0.9474 - val_recall: 0.9818\n",
            "Epoch 48/300\n",
            "\u001b[1m23/23\u001b[0m \u001b[32m━━━━━━━━━━━━━━━━━━━━\u001b[0m\u001b[37m\u001b[0m \u001b[1m0s\u001b[0m 10ms/step - accuracy: 0.9788 - loss: 0.0825 - precision: 0.9831 - recall: 0.9845 - val_accuracy: 0.9560 - val_loss: 0.1485 - val_precision: 0.9474 - val_recall: 0.9818\n",
            "Epoch 49/300\n",
            "\u001b[1m23/23\u001b[0m \u001b[32m━━━━━━━━━━━━━━━━━━━━\u001b[0m\u001b[37m\u001b[0m \u001b[1m0s\u001b[0m 10ms/step - accuracy: 0.9883 - loss: 0.0684 - precision: 0.9847 - recall: 0.9979 - val_accuracy: 0.9560 - val_loss: 0.1484 - val_precision: 0.9474 - val_recall: 0.9818\n",
            "Epoch 50/300\n",
            "\u001b[1m23/23\u001b[0m \u001b[32m━━━━━━━━━━━━━━━━━━━━\u001b[0m\u001b[37m\u001b[0m \u001b[1m0s\u001b[0m 11ms/step - accuracy: 0.9884 - loss: 0.0581 - precision: 0.9933 - recall: 0.9880 - val_accuracy: 0.9560 - val_loss: 0.1481 - val_precision: 0.9474 - val_recall: 0.9818\n",
            "Epoch 51/300\n",
            "\u001b[1m23/23\u001b[0m \u001b[32m━━━━━━━━━━━━━━━━━━━━\u001b[0m\u001b[37m\u001b[0m \u001b[1m0s\u001b[0m 13ms/step - accuracy: 0.9901 - loss: 0.0509 - precision: 0.9937 - recall: 0.9909 - val_accuracy: 0.9560 - val_loss: 0.1479 - val_precision: 0.9474 - val_recall: 0.9818\n",
            "Epoch 52/300\n",
            "\u001b[1m23/23\u001b[0m \u001b[32m━━━━━━━━━━━━━━━━━━━━\u001b[0m\u001b[37m\u001b[0m \u001b[1m0s\u001b[0m 12ms/step - accuracy: 0.9827 - loss: 0.0696 - precision: 0.9935 - recall: 0.9798 - val_accuracy: 0.9560 - val_loss: 0.1478 - val_precision: 0.9474 - val_recall: 0.9818\n",
            "Epoch 53/300\n",
            "\u001b[1m23/23\u001b[0m \u001b[32m━━━━━━━━━━━━━━━━━━━━\u001b[0m\u001b[37m\u001b[0m \u001b[1m0s\u001b[0m 13ms/step - accuracy: 0.9893 - loss: 0.0574 - precision: 0.9906 - recall: 0.9925 - val_accuracy: 0.9560 - val_loss: 0.1478 - val_precision: 0.9474 - val_recall: 0.9818\n",
            "Epoch 54/300\n",
            "\u001b[1m23/23\u001b[0m \u001b[32m━━━━━━━━━━━━━━━━━━━━\u001b[0m\u001b[37m\u001b[0m \u001b[1m0s\u001b[0m 8ms/step - accuracy: 0.9827 - loss: 0.0603 - precision: 0.9922 - recall: 0.9807 - val_accuracy: 0.9560 - val_loss: 0.1478 - val_precision: 0.9474 - val_recall: 0.9818\n",
            "Epoch 55/300\n",
            "\u001b[1m23/23\u001b[0m \u001b[32m━━━━━━━━━━━━━━━━━━━━\u001b[0m\u001b[37m\u001b[0m \u001b[1m0s\u001b[0m 16ms/step - accuracy: 0.9848 - loss: 0.0576 - precision: 0.9874 - recall: 0.9865 - val_accuracy: 0.9560 - val_loss: 0.1478 - val_precision: 0.9474 - val_recall: 0.9818\n",
            "Epoch 56/300\n",
            "\u001b[1m23/23\u001b[0m \u001b[32m━━━━━━━━━━━━━━━━━━━━\u001b[0m\u001b[37m\u001b[0m \u001b[1m0s\u001b[0m 14ms/step - accuracy: 0.9821 - loss: 0.0592 - precision: 0.9831 - recall: 0.9914 - val_accuracy: 0.9560 - val_loss: 0.1477 - val_precision: 0.9474 - val_recall: 0.9818\n",
            "Epoch 57/300\n",
            "\u001b[1m23/23\u001b[0m \u001b[32m━━━━━━━━━━━━━━━━━━━━\u001b[0m\u001b[37m\u001b[0m \u001b[1m0s\u001b[0m 11ms/step - accuracy: 0.9909 - loss: 0.0467 - precision: 0.9913 - recall: 0.9945 - val_accuracy: 0.9560 - val_loss: 0.1477 - val_precision: 0.9474 - val_recall: 0.9818\n",
            "Epoch 58/300\n",
            "\u001b[1m23/23\u001b[0m \u001b[32m━━━━━━━━━━━━━━━━━━━━\u001b[0m\u001b[37m\u001b[0m \u001b[1m0s\u001b[0m 8ms/step - accuracy: 0.9898 - loss: 0.0497 - precision: 0.9899 - recall: 0.9939 - val_accuracy: 0.9560 - val_loss: 0.1477 - val_precision: 0.9474 - val_recall: 0.9818\n",
            "Epoch 59/300\n",
            "\u001b[1m23/23\u001b[0m \u001b[32m━━━━━━━━━━━━━━━━━━━━\u001b[0m\u001b[37m\u001b[0m \u001b[1m0s\u001b[0m 14ms/step - accuracy: 0.9919 - loss: 0.0410 - precision: 0.9886 - recall: 0.9983 - val_accuracy: 0.9560 - val_loss: 0.1478 - val_precision: 0.9474 - val_recall: 0.9818\n"
          ]
        }
      ]
    },
    {
      "cell_type": "code",
      "source": [
        "# plot the training progress:\n",
        "history_dict = history.history\n",
        "print(history_dict.keys())\n",
        "\n",
        "from matplotlib import pyplot as plt\n",
        "\n",
        "# Plot training & validation accuracy values\n",
        "plt.plot(history.history['accuracy'])\n",
        "plt.plot(history.history['val_accuracy'])\n",
        "plt.title('Model accuracy')\n",
        "plt.ylabel('Accuracy')\n",
        "plt.xlabel('Epoch')\n",
        "plt.legend(['Train', 'Validation'], loc='upper left')\n",
        "plt.show()\n",
        "\n",
        "# Plot training & validation loss values\n",
        "plt.plot(history.history['loss'])\n",
        "plt.plot(history.history['val_loss'])\n",
        "plt.title('Model loss')\n",
        "plt.ylabel('Loss')\n",
        "plt.xlabel('Epoch')\n",
        "plt.legend(['Train', 'Validation'], loc='upper left')\n",
        "plt.show()"
      ],
      "metadata": {
        "id": "1n3ZmviJQFYu",
        "outputId": "0d38ee85-986d-497d-f6cb-2f5b61f01136",
        "colab": {
          "base_uri": "https://localhost:8080/",
          "height": 965
        }
      },
      "execution_count": 84,
      "outputs": [
        {
          "output_type": "stream",
          "name": "stdout",
          "text": [
            "dict_keys(['accuracy', 'loss', 'precision', 'recall', 'val_accuracy', 'val_loss', 'val_precision', 'val_recall'])\n"
          ]
        },
        {
          "output_type": "display_data",
          "data": {
            "text/plain": [
              "<Figure size 640x480 with 1 Axes>"
            ],
            "image/png": "[encoded data removed]"
          },
          "metadata": {}
        },
        {
          "output_type": "display_data",
          "data": {
            "text/plain": [
              "<Figure size 640x480 with 1 Axes>"
            ],
            "image/png": "[encoded data removed]"
          },
          "metadata": {}
        }
      ]
    },
    {
      "cell_type": "markdown",
      "source": [
        "## 4. Evaluate the model and make predictions\n",
        "\n",
        "\n"
      ],
      "metadata": {
        "id": "aDxPZRLJIBW_"
      }
    },
    {
      "cell_type": "markdown",
      "source": [
        "###   4.1. Assess model performance on training, validation and test data"
      ],
      "metadata": {
        "id": "WaVw87YZSBdW"
      }
    },
    {
      "cell_type": "code",
      "source": [
        "##########################################################################\n",
        "# 5. Evaluate the model and make predictions\n",
        "# 5a. Evaluate the model on the train, validation and test sets\n",
        "test_loss, test_acc, test_precision, test_recall = model.evaluate(X_test, y_test)\n",
        "train_loss, train_acc, train_precision, train_recall = model.evaluate(X_train, y_train)\n",
        "val_loss, val_acc, val_precision, val_recall = model.evaluate(X_val, y_val)\n",
        "\n",
        "# Print evaluation metrics:\n",
        "print(f\"Train Accuracy:      {train_acc:.4f} | Train Loss:      {train_loss:.4f} | Train Precision:      {train_precision:.4f} | Train Recall:      {train_recall:.4f}\")\n",
        "print(f\"Validation Accuracy: {val_acc:.4f} | Validation Loss: {val_loss:.4f} | Validation Precision: {val_precision:.4f} | Validation Recall: {val_recall:.4f}\")\n",
        "print(f\"Test Accuracy:       {test_acc:.4f} | Test Loss:       {test_loss:.4f} | Test Precision:       {test_precision:.4f} | Test Recall:       {test_recall:.4f}\")"
      ],
      "metadata": {
        "colab": {
          "base_uri": "https://localhost:8080/"
        },
        "id": "Qrhvq6O_IJN_",
        "outputId": "80df1808-c8e3-49f0-b31e-2fde34cb2625"
      },
      "execution_count": 85,
      "outputs": [
        {
          "output_type": "stream",
          "name": "stdout",
          "text": [
            "\u001b[1m4/4\u001b[0m \u001b[32m━━━━━━━━━━━━━━━━━━━━\u001b[0m\u001b[37m\u001b[0m \u001b[1m0s\u001b[0m 6ms/step - accuracy: 0.9578 - loss: 0.0963 - precision: 0.9762 - recall: 0.9573\n",
            "\u001b[1m12/12\u001b[0m \u001b[32m━━━━━━━━━━━━━━━━━━━━\u001b[0m\u001b[37m\u001b[0m \u001b[1m0s\u001b[0m 5ms/step - accuracy: 0.9863 - loss: 0.0521 - precision: 0.9939 - recall: 0.9849\n",
            "\u001b[1m3/3\u001b[0m \u001b[32m━━━━━━━━━━━━━━━━━━━━\u001b[0m\u001b[37m\u001b[0m \u001b[1m0s\u001b[0m 8ms/step - accuracy: 0.9624 - loss: 0.1124 - precision: 0.9669 - recall: 0.9722\n",
            "Train Accuracy:      0.9863 | Train Loss:      0.0548 | Train Precision:      0.9871 | Train Recall:      0.9913\n",
            "Validation Accuracy: 0.9560 | Validation Loss: 0.1477 | Validation Precision: 0.9474 | Validation Recall: 0.9818\n",
            "Test Accuracy:       0.9649 | Test Loss:       0.0836 | Test Precision:       0.9855 | Test Recall:       0.9577\n"
          ]
        }
      ]
    },
    {
      "cell_type": "markdown",
      "source": [
        " ### 4.2. Use the trained model to predict on new unseen data"
      ],
      "metadata": {
        "id": "JSIQomjmR9Er"
      }
    },
    {
      "cell_type": "code",
      "execution_count": 86,
      "metadata": {
        "colab": {
          "base_uri": "https://localhost:8080/"
        },
        "id": "_5oLq7fSlvpP",
        "outputId": "77cb9442-83b8-40c0-e93d-34c5b38127be"
      },
      "outputs": [
        {
          "output_type": "stream",
          "name": "stdout",
          "text": [
            "\u001b[1m4/4\u001b[0m \u001b[32m━━━━━━━━━━━━━━━━━━━━\u001b[0m\u001b[37m\u001b[0m \u001b[1m0s\u001b[0m 3ms/step\n",
            "Probabilities: [9.0497e-01 5.7000e-04 3.8240e-02 9.8942e-01 9.9911e-01]\n",
            "Predictions: [1 0 0 1 1]\n",
            "True labels: [1 0 0 1 1]\n",
            "Number of misclassified samples: 4 out of 114\n",
            "Indices of misclassified samples: [  8  20  52 112]\n"
          ]
        }
      ],
      "source": [
        "# Make predictions on test data\n",
        "probabilities = model.predict(X_test)\n",
        "\n",
        "# Predicted class:\n",
        "predictions = np.round(probabilities)\n",
        "\n",
        "# Misclassified indices:\n",
        "misclassified_indices = np.where(predictions.flatten() != y_test)[0]\n",
        "\n",
        "print(\"Probabilities:\", np.round(probabilities[:5].flatten(), 5))\n",
        "print(\"Predictions:\", predictions[:5].flatten().astype(int))\n",
        "print(\"True labels:\", y_test[:5])\n",
        "print(\"Number of misclassified samples:\", np.sum(predictions.flatten() != y_test), \"out of\", len(y_test))\n",
        "print(\"Indices of misclassified samples:\", misclassified_indices)"
      ]
    },
    {
      "cell_type": "markdown",
      "source": [
        "- Compute and observe the Confusion matrix:"
      ],
      "metadata": {
        "id": "OMCpKtC3R-CC"
      }
    },
    {
      "cell_type": "code",
      "source": [
        "# Confusion matrix:\n",
        "from sklearn.metrics import confusion_matrix\n",
        "cm = confusion_matrix(y_test, predictions)\n",
        "print(cm)\n",
        "\n",
        "\n",
        "# Plot the confusion matrix\n",
        "import matplotlib.pyplot as plt\n",
        "import seaborn as sns\n",
        "\n",
        "plt.figure(figsize=(4, 3))\n",
        "sns.heatmap(cm, annot=True, fmt='d', cmap='Blues')\n",
        "plt.xlabel('Predicted Label')\n",
        "plt.ylabel('True Label')\n",
        "plt.title('Confusion Matrix')\n",
        "plt.show()\n",
        "\n"
      ],
      "metadata": {
        "colab": {
          "base_uri": "https://localhost:8080/",
          "height": 369
        },
        "id": "-BaSXc7TU8Cd",
        "outputId": "791d63f1-ba71-4f76-da46-1824391b934d"
      },
      "execution_count": 87,
      "outputs": [
        {
          "output_type": "stream",
          "name": "stdout",
          "text": [
            "[[42  1]\n",
            " [ 3 68]]\n"
          ]
        },
        {
          "output_type": "display_data",
          "data": {
            "text/plain": [
              "<Figure size 400x300 with 2 Axes>"
            ],
            "image/png": "[encoded data removed]"
          },
          "metadata": {}
        }
      ]
    },
    {
      "cell_type": "markdown",
      "source": [
        "## Save the model (and load it again)\n"
      ],
      "metadata": {
        "id": "tf1-yWSaW_NY"
      }
    },
    {
      "cell_type": "code",
      "source": [
        "import os\n",
        "import datetime\n",
        "model_dir = \"./models/\"\n",
        "\n",
        "# ensure the directory exists:\n",
        "if not os.path.exists(model_dir):\n",
        "    os.makedirs(model_dir)\n",
        "\n",
        "# Save the model (and load it again)\n",
        "model_name = model_dir + \"model_\" + datetime.datetime.now().strftime(\"%Y%m%d-%H%M%S\") + '.keras'\n",
        "model.save(model_name)\n",
        "\n",
        "\n"
      ],
      "metadata": {
        "id": "P-PO0d42SvVm"
      },
      "execution_count": 88,
      "outputs": []
    },
    {
      "cell_type": "code",
      "source": [
        "# Load the model\n",
        "loaded_model = keras.models.load_model(model_name)\n",
        "\n",
        "# Evaluate the loaded model\n",
        "loss, acc, prec, recall = loaded_model.evaluate(X_test, y_test)\n",
        "loss, acc, prec, recall\n",
        "\n"
      ],
      "metadata": {
        "colab": {
          "base_uri": "https://localhost:8080/"
        },
        "id": "BoPrGgLVX0tk",
        "outputId": "69a232cf-c940-490a-9e2e-982b77d95315"
      },
      "execution_count": 89,
      "outputs": [
        {
          "output_type": "stream",
          "name": "stdout",
          "text": [
            "\u001b[1m4/4\u001b[0m \u001b[32m━━━━━━━━━━━━━━━━━━━━\u001b[0m\u001b[37m\u001b[0m \u001b[1m0s\u001b[0m 6ms/step - accuracy: 0.9578 - loss: 0.0963 - precision: 0.9762 - recall: 0.9573\n"
          ]
        },
        {
          "output_type": "execute_result",
          "data": {
            "text/plain": [
              "(0.08364164084196091,\n",
              " 0.9649122953414917,\n",
              " 0.9855072498321533,\n",
              " 0.9577465057373047)"
            ]
          },
          "metadata": {},
          "execution_count": 89
        }
      ]
    },
    {
      "cell_type": "markdown",
      "source": [
        "# The code in one cell:"
      ],
      "metadata": {
        "id": "vBzxXQ_tamNe"
      }
    },
    {
      "cell_type": "code",
      "source": [
        "\n"
      ],
      "metadata": {
        "id": "UbFFkiKvaS_V"
      },
      "execution_count": 89,
      "outputs": []
    },
    {
      "cell_type": "markdown",
      "source": [
        "# TensorBoard"
      ],
      "metadata": {
        "id": "3iND5o4aafta"
      }
    },
    {
      "cell_type": "code",
      "source": [],
      "metadata": {
        "id": "Cfo6pQKcayh0"
      },
      "execution_count": 89,
      "outputs": []
    },
    {
      "cell_type": "markdown",
      "source": [
        "\n"
      ],
      "metadata": {
        "id": "D12HC_psZRXq"
      }
    },
    {
      "cell_type": "markdown",
      "source": [
        "\n",
        "### Exercises\n",
        "\n",
        "- Change the number of layers and neurons in the model. Observe how this affects the model's accuracy. You can also experiment with different activation functions in the hidden layers (e.g., tanh).\n",
        "- Experiment with the number of epochs and learning rate. Plot the learning curves to see the differences.\n",
        "- Change the loss function. Try using a different loss function, such as mean_squared.\n",
        "- Experiment with different batch sizes. Observe how different batch sizes during training affect the model's accuracy and training time.\n",
        "- Try an alternative normalization method for the input data (e.g., standardization). See how this affects the model's performance.\n",
        "- Investigate the confusion matrix.\n",
        "- Try changing the optimizer used in the model. Experiment with optimizers such as Adam, RMSprop, or Adagrad, and observe how they affect accuracy and training time.\n",
        "- Use TensorBoard. Set up TensorBoard to visualize your model’s performance, learning curves, and other metrics in real-time. This will help you track your experiments and analyze results more effectively during training.\n",
        "\n"
      ],
      "metadata": {
        "id": "ylmfZ6PeYvI4"
      }
    },
    {
      "cell_type": "markdown",
      "source": [],
      "metadata": {
        "id": "3djiZpRdowYo"
      }
    }
  ]
}