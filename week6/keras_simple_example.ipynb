{
  "nbformat": 4,
  "nbformat_minor": 0,
  "metadata": {
    "colab": {
      "provenance": [],
      "toc_visible": true,
      "authorship_tag": "ABX9TyMqoUX436o4ExvFjeU8gRJ0",
      "include_colab_link": true
    },
    "kernelspec": {
      "name": "python3",
      "display_name": "Python 3"
    },
    "language_info": {
      "name": "python"
    }
  },
  "cells": [
    {
      "cell_type": "markdown",
      "metadata": {
        "id": "view-in-github",
        "colab_type": "text"
      },
      "source": [
        "<a href=\"https://colab.research.google.com/github/reitezuz/18NES1-2025-/blob/main/week6/keras_simple_example.ipynb\" target=\"_parent\"><img src=\"https://colab.research.google.com/assets/colab-badge.svg\" alt=\"Open In Colab\"/></a>"
      ]
    },
    {
      "cell_type": "markdown",
      "source": [
        "# Keras MLP: Step-by-step Training on a Simple Example (Breast Cancer Dataset)\n",
        "\n",
        "In this notebook, we will walk through the process of training a **Multilayer Perceptron (MLP)** using **Keras** on a well-known example dataset: the **Breast Cancer Wisconsin Diagnostic dataset**.\n",
        "\n",
        "This is a great starting point for learning about neural networks and classification tasks with tabular data.\n",
        "\n",
        "---\n",
        "\n",
        "### Breast Cancer Dataset Overview\n",
        "\n",
        "- A classical **binary classification** dataset.\n",
        "- Contains **569 samples** and **30 input features** (real-valued, positive).\n",
        "- The **target** variable indicates whether the tumor is **malignant** (0) or **benign** (1).\n",
        "- All features are computed from digitized images of a breast mass.\n",
        "\n",
        "You can find the dataset here:\n",
        "- [UCI Machine Learning Repository](https://archive.ics.uci.edu/dataset/17/breast+cancer+wisconsin+diagnostic)\n",
        "- [Scikit-learn's built-in loader](https://scikit-learn.org/stable/modules/generated/sklearn.datasets.load_breast_cancer.html)\n",
        "\n",
        "We will use the version included in **scikit-learn**, which is preprocessed and ready to use.\n",
        "\n",
        "---\n",
        "\n",
        "### More Datasets for Practice\n",
        "\n",
        "If you're interested in more classical machine learning datasets (classification, regression, clustering...), check out:\n",
        "\n",
        "👉 [Scikit-learn toy datasets overview](https://scikit-learn.org/stable/api/sklearn.datasets.html)\n",
        "\n",
        "These are great for experimenting and building intuition before moving to real-world data.\n",
        "\n",
        "---\n",
        "\n",
        "### Machine Learning Workflow\n",
        "1. Process the data\n",
        "  1. Load, observe and analyze the data\n",
        "  2. Clean and preprocess the data\n",
        "2. Define the model\n",
        "  1. Define the model architecture (type of the model, number of layers, activation functions)\n",
        "  2. Set model hyperparameters (learning rate, batch size, optimizer, loss function,...)\n",
        "3. Train the model\n",
        "4. Evaluate the model and make prediction\n",
        "   1. Assess model performance on training, validation and test data\n",
        "   2. Use the trained model to predict on new unseen data"
      ],
      "metadata": {
        "id": "ApKpYJwGmBLV"
      }
    },
    {
      "cell_type": "markdown",
      "source": [
        "## 1. Process the data\n",
        "1.1. Load, observe and analyze the data\n",
        " - Use `scikit-learn` to load the dataset.\n",
        " - Display basic info: number of samples, number of features, class distribution.\n",
        " - Visualize some features if needed.\n",
        "\n"
      ],
      "metadata": {
        "id": "HOw_rL0gof9a"
      }
    },
    {
      "cell_type": "code",
      "source": [
        "from sklearn.datasets import load_breast_cancer\n",
        "import numpy as np\n",
        "\n",
        "# Load and observe the data:\n",
        "cancer = load_breast_cancer()  # 'cancer' is a dictionary-like object (sklearn.utils.Bunch)\n",
        "# It contains: data, target, feature names, target names, description, etc.\n",
        "print(cancer.keys())\n",
        "\n",
        "# Observe shape:\n",
        "print(\"Input data shape:\", cancer['data'].shape)\n",
        "print(\"Target data shape:\", cancer['target'].shape, \"\\n\")\n",
        "\n",
        "# Analyze the label distribution:\n",
        "print(\"Target names:\", cancer['target_names'])\n",
        "print(\"Target distribution:\", np.bincount(cancer['target']))\n",
        "print(\"  malignant (0):\", np.bincount(cancer['target'])[0])\n",
        "print(\"  benign    (1):\", np.bincount(cancer['target'])[1], \"\\n\")\n",
        "\n",
        "# Observe input data:\n",
        "print(\"Feature names:\", cancer['feature_names'] )\n",
        "print(\"Minimum, mean and maximum input data values: \", np.min(cancer['data']), np.mean(cancer['data']), np.max(cancer['data']))\n",
        "#print(\"Feature means:\", np.mean(cancer['data'], axis=0))\n",
        "#print(\"Feature description:\", cancer['DESCR'])  # description of the data\n",
        "print()\n",
        "\n",
        "# Check for missing values\n",
        "print(\"Number of missing values in the data:\", np.sum(np.isnan(cancer['data'])))\n",
        "print(\"Number of missing values in the labels:\", np.sum(np.isnan(cancer['target'])))\n",
        "print()\n",
        "\n",
        "import pandas as pd\n",
        "df = pd.DataFrame(cancer['data'], columns=cancer['feature_names']) # Create a Pandas DataFrame for easier analysis\n",
        "#print(df.describe())                                              # Calculate statistics for each column\n",
        "#print(df.info())                                                  # Check data types and non-null counts\n",
        "print(df.head())                                                   # Display the first few rows of the DataFrame"
      ],
      "metadata": {
        "colab": {
          "base_uri": "https://localhost:8080/"
        },
        "id": "hvOcyLy6t9p9",
        "outputId": "1ee68cce-a880-4323-9283-8604d161f364"
      },
      "execution_count": 9,
      "outputs": [
        {
          "output_type": "stream",
          "name": "stdout",
          "text": [
            "dict_keys(['data', 'target', 'frame', 'target_names', 'DESCR', 'feature_names', 'filename', 'data_module'])\n",
            "Input data shape: (569, 30)\n",
            "Target data shape: (569,) \n",
            "\n",
            "Target names: ['malignant' 'benign']\n",
            "Target distribution: [212 357]\n",
            "  malignant (0): 212\n",
            "  benign    (1): 357 \n",
            "\n",
            "Feature names: ['mean radius' 'mean texture' 'mean perimeter' 'mean area'\n",
            " 'mean smoothness' 'mean compactness' 'mean concavity'\n",
            " 'mean concave points' 'mean symmetry' 'mean fractal dimension'\n",
            " 'radius error' 'texture error' 'perimeter error' 'area error'\n",
            " 'smoothness error' 'compactness error' 'concavity error'\n",
            " 'concave points error' 'symmetry error' 'fractal dimension error'\n",
            " 'worst radius' 'worst texture' 'worst perimeter' 'worst area'\n",
            " 'worst smoothness' 'worst compactness' 'worst concavity'\n",
            " 'worst concave points' 'worst symmetry' 'worst fractal dimension']\n",
            "Minimum, mean and maximum input data values:  0.0 61.890712339519624 4254.0\n",
            "\n",
            "Number of missing values in the data: 0\n",
            "Number of missing values in the labels: 0\n",
            "\n",
            "   mean radius  mean texture  mean perimeter  mean area  mean smoothness  \\\n",
            "0        17.99         10.38          122.80     1001.0          0.11840   \n",
            "1        20.57         17.77          132.90     1326.0          0.08474   \n",
            "2        19.69         21.25          130.00     1203.0          0.10960   \n",
            "3        11.42         20.38           77.58      386.1          0.14250   \n",
            "4        20.29         14.34          135.10     1297.0          0.10030   \n",
            "\n",
            "   mean compactness  mean concavity  mean concave points  mean symmetry  \\\n",
            "0           0.27760          0.3001              0.14710         0.2419   \n",
            "1           0.07864          0.0869              0.07017         0.1812   \n",
            "2           0.15990          0.1974              0.12790         0.2069   \n",
            "3           0.28390          0.2414              0.10520         0.2597   \n",
            "4           0.13280          0.1980              0.10430         0.1809   \n",
            "\n",
            "   mean fractal dimension  ...  worst radius  worst texture  worst perimeter  \\\n",
            "0                 0.07871  ...         25.38          17.33           184.60   \n",
            "1                 0.05667  ...         24.99          23.41           158.80   \n",
            "2                 0.05999  ...         23.57          25.53           152.50   \n",
            "3                 0.09744  ...         14.91          26.50            98.87   \n",
            "4                 0.05883  ...         22.54          16.67           152.20   \n",
            "\n",
            "   worst area  worst smoothness  worst compactness  worst concavity  \\\n",
            "0      2019.0            0.1622             0.6656           0.7119   \n",
            "1      1956.0            0.1238             0.1866           0.2416   \n",
            "2      1709.0            0.1444             0.4245           0.4504   \n",
            "3       567.7            0.2098             0.8663           0.6869   \n",
            "4      1575.0            0.1374             0.2050           0.4000   \n",
            "\n",
            "   worst concave points  worst symmetry  worst fractal dimension  \n",
            "0                0.2654          0.4601                  0.11890  \n",
            "1                0.1860          0.2750                  0.08902  \n",
            "2                0.2430          0.3613                  0.08758  \n",
            "3                0.2575          0.6638                  0.17300  \n",
            "4                0.1625          0.2364                  0.07678  \n",
            "\n",
            "[5 rows x 30 columns]\n"
          ]
        }
      ]
    },
    {
      "cell_type": "markdown",
      "source": [
        "1.2. Clean and preprocess the data\n",
        "- Normalize or standardize the input features (important for multilayer neural networks).\n",
        "- Split the data into **training**, **validation**, and **test** sets."
      ],
      "metadata": {
        "id": "Bs0soqrY1ILZ"
      }
    },
    {
      "cell_type": "code",
      "source": [
        "from sklearn.model_selection import train_test_split\n",
        "from sklearn.preprocessing import StandardScaler, MinMaxScaler\n",
        "\n",
        "X, y = cancer.data, cancer.target\n",
        "\n",
        "# Preprocess the data:\n",
        "# 1. Reshape (vectorize) the input data to have the shape (number of samlples, number of features) ... Already in correct format\n",
        "# 2. Convert the data into floating-point numbers ... Already in correct format\n",
        "# 3. Resolve missing values, incorrect values... not needed (data is clean)\n",
        "# 4. One-hot encode the labels (for multi-class problems)... not needed (binary classification)\n",
        "#       y_train_categorical = keras.utils.to_categorical(y_train, num_classes=10) ... to one-hot encoding\n",
        "# 5. Data augmentation,...\n",
        "\n",
        "# 6. Split the dataset - into training, validation and testing sets\n",
        "X_train, X_test, y_train, y_test = train_test_split(X, y, test_size=0.2, random_state=42)\n",
        "X_train, X_val, y_train, y_val = train_test_split(X_train, y_train, test_size=0.2, random_state=42)\n",
        "\n",
        "# 7. Normalize the features to improve training stability\n",
        "# - StandardScaler: Centers data around zero and scales to unit variance\n",
        "# - MinMaxScaler: Scales features to a given range (default [0,1], here [-1,1])\n",
        "scaler = StandardScaler()\n",
        "#scaler = MinMaxScaler(feature_range=(-1, 1)) # alternative option\n",
        "X_train = scaler.fit_transform(X_train)\n",
        "X_test = scaler.transform(X_test)\n",
        "X_val = scaler.transform(X_val)\n"
      ],
      "metadata": {
        "id": "BaA9f-4o1NAy"
      },
      "execution_count": 10,
      "outputs": []
    },
    {
      "cell_type": "markdown",
      "source": [
        "## 2. Define and train the model in Keras\n",
        "### 2.1. Define the model architecture\n",
        "- the **type** of the model (Sequential,  Functional or Subclassing API)\n",
        "- the **number and type of the layers**\n",
        "- The **number of units (neurons)** in each layer\n",
        "- The **activation functions** used in each layer\n",
        "\n",
        "Keras supports three main ways to define models:\n",
        "\n",
        "1. **Sequential API** – simple, stack-like models  \n",
        "2. **Functional API** – more flexible; supports branching, multiple inputs/outputs  \n",
        "3. **Model Subclassing (object-oriented API)** – maximum control; define custom logic using Python classes\n",
        "\n",
        "In this notebook, we'll use the Sequential API, which is the easiest and most readable option for simple sequential neural networks.\n",
        "\n",
        "### How to set architecture of a MLP model for binary classification?\n",
        "- Use fully connected (**Dense**) layers.\n",
        "- activations:\n",
        "    - 'sigmoid' activation function in the output layer\n",
        "    - 'relu' or 'tanh' in the hidden layers\n",
        "- The **number of layers and neurons** is usually determined **experimentally** (through hyperparameter tuning)."
      ],
      "metadata": {
        "id": "QFSdzLWnLOWQ"
      }
    },
    {
      "cell_type": "code",
      "source": [
        "import os\n",
        "os.environ[\"KERAS_BACKEND\"] = \"torch\"  # \"tensorflow\" \"jax\", \"torch\"\n",
        "\n",
        "import keras\n",
        "from keras import layers\n",
        "\n",
        "model = keras.Sequential([\n",
        "    layers.InputLayer(shape=(X_train.shape[1],)),  # Input Layer\n",
        "    layers.Dense(30, activation='relu'),  # First hidden layer\n",
        "    layers.Dense(15, activation='relu'),  # Second hidden layer\n",
        "    layers.Dense(1, activation='sigmoid')  # Output layer for binary classification\n",
        "])\n",
        "\n",
        "model.summary()"
      ],
      "metadata": {
        "colab": {
          "base_uri": "https://localhost:8080/",
          "height": 228
        },
        "id": "ycAybcs9Knby",
        "outputId": "85db60d7-8ff6-4440-98c4-84e58756d11d"
      },
      "execution_count": 11,
      "outputs": [
        {
          "output_type": "display_data",
          "data": {
            "text/plain": [
              "\u001b[1mModel: \"sequential_1\"\u001b[0m\n"
            ],
            "text/html": [
              "<pre style=\"white-space:pre;overflow-x:auto;line-height:normal;font-family:Menlo,'DejaVu Sans Mono',consolas,'Courier New',monospace\"><span style=\"font-weight: bold\">Model: \"sequential_1\"</span>\n",
              "</pre>\n"
            ]
          },
          "metadata": {}
        },
        {
          "output_type": "display_data",
          "data": {
            "text/plain": [
              "┏━━━━━━━━━━━━━━━━━━━━━━━━━━━━━━━━━━━━━━┳━━━━━━━━━━━━━━━━━━━━━━━━━━━━━┳━━━━━━━━━━━━━━━━━┓\n",
              "┃\u001b[1m \u001b[0m\u001b[1mLayer (type)                        \u001b[0m\u001b[1m \u001b[0m┃\u001b[1m \u001b[0m\u001b[1mOutput Shape               \u001b[0m\u001b[1m \u001b[0m┃\u001b[1m \u001b[0m\u001b[1m        Param #\u001b[0m\u001b[1m \u001b[0m┃\n",
              "┡━━━━━━━━━━━━━━━━━━━━━━━━━━━━━━━━━━━━━━╇━━━━━━━━━━━━━━━━━━━━━━━━━━━━━╇━━━━━━━━━━━━━━━━━┩\n",
              "│ dense_3 (\u001b[38;5;33mDense\u001b[0m)                      │ (\u001b[38;5;45mNone\u001b[0m, \u001b[38;5;34m30\u001b[0m)                  │             \u001b[38;5;34m930\u001b[0m │\n",
              "├──────────────────────────────────────┼─────────────────────────────┼─────────────────┤\n",
              "│ dense_4 (\u001b[38;5;33mDense\u001b[0m)                      │ (\u001b[38;5;45mNone\u001b[0m, \u001b[38;5;34m15\u001b[0m)                  │             \u001b[38;5;34m465\u001b[0m │\n",
              "├──────────────────────────────────────┼─────────────────────────────┼─────────────────┤\n",
              "│ dense_5 (\u001b[38;5;33mDense\u001b[0m)                      │ (\u001b[38;5;45mNone\u001b[0m, \u001b[38;5;34m1\u001b[0m)                   │              \u001b[38;5;34m16\u001b[0m │\n",
              "└──────────────────────────────────────┴─────────────────────────────┴─────────────────┘\n"
            ],
            "text/html": [
              "<pre style=\"white-space:pre;overflow-x:auto;line-height:normal;font-family:Menlo,'DejaVu Sans Mono',consolas,'Courier New',monospace\">┏━━━━━━━━━━━━━━━━━━━━━━━━━━━━━━━━━━━━━━┳━━━━━━━━━━━━━━━━━━━━━━━━━━━━━┳━━━━━━━━━━━━━━━━━┓\n",
              "┃<span style=\"font-weight: bold\"> Layer (type)                         </span>┃<span style=\"font-weight: bold\"> Output Shape                </span>┃<span style=\"font-weight: bold\">         Param # </span>┃\n",
              "┡━━━━━━━━━━━━━━━━━━━━━━━━━━━━━━━━━━━━━━╇━━━━━━━━━━━━━━━━━━━━━━━━━━━━━╇━━━━━━━━━━━━━━━━━┩\n",
              "│ dense_3 (<span style=\"color: #0087ff; text-decoration-color: #0087ff\">Dense</span>)                      │ (<span style=\"color: #00d7ff; text-decoration-color: #00d7ff\">None</span>, <span style=\"color: #00af00; text-decoration-color: #00af00\">30</span>)                  │             <span style=\"color: #00af00; text-decoration-color: #00af00\">930</span> │\n",
              "├──────────────────────────────────────┼─────────────────────────────┼─────────────────┤\n",
              "│ dense_4 (<span style=\"color: #0087ff; text-decoration-color: #0087ff\">Dense</span>)                      │ (<span style=\"color: #00d7ff; text-decoration-color: #00d7ff\">None</span>, <span style=\"color: #00af00; text-decoration-color: #00af00\">15</span>)                  │             <span style=\"color: #00af00; text-decoration-color: #00af00\">465</span> │\n",
              "├──────────────────────────────────────┼─────────────────────────────┼─────────────────┤\n",
              "│ dense_5 (<span style=\"color: #0087ff; text-decoration-color: #0087ff\">Dense</span>)                      │ (<span style=\"color: #00d7ff; text-decoration-color: #00d7ff\">None</span>, <span style=\"color: #00af00; text-decoration-color: #00af00\">1</span>)                   │              <span style=\"color: #00af00; text-decoration-color: #00af00\">16</span> │\n",
              "└──────────────────────────────────────┴─────────────────────────────┴─────────────────┘\n",
              "</pre>\n"
            ]
          },
          "metadata": {}
        },
        {
          "output_type": "display_data",
          "data": {
            "text/plain": [
              "\u001b[1m Total params: \u001b[0m\u001b[38;5;34m1,411\u001b[0m (5.51 KB)\n"
            ],
            "text/html": [
              "<pre style=\"white-space:pre;overflow-x:auto;line-height:normal;font-family:Menlo,'DejaVu Sans Mono',consolas,'Courier New',monospace\"><span style=\"font-weight: bold\"> Total params: </span><span style=\"color: #00af00; text-decoration-color: #00af00\">1,411</span> (5.51 KB)\n",
              "</pre>\n"
            ]
          },
          "metadata": {}
        },
        {
          "output_type": "display_data",
          "data": {
            "text/plain": [
              "\u001b[1m Trainable params: \u001b[0m\u001b[38;5;34m1,411\u001b[0m (5.51 KB)\n"
            ],
            "text/html": [
              "<pre style=\"white-space:pre;overflow-x:auto;line-height:normal;font-family:Menlo,'DejaVu Sans Mono',consolas,'Courier New',monospace\"><span style=\"font-weight: bold\"> Trainable params: </span><span style=\"color: #00af00; text-decoration-color: #00af00\">1,411</span> (5.51 KB)\n",
              "</pre>\n"
            ]
          },
          "metadata": {}
        },
        {
          "output_type": "display_data",
          "data": {
            "text/plain": [
              "\u001b[1m Non-trainable params: \u001b[0m\u001b[38;5;34m0\u001b[0m (0.00 B)\n"
            ],
            "text/html": [
              "<pre style=\"white-space:pre;overflow-x:auto;line-height:normal;font-family:Menlo,'DejaVu Sans Mono',consolas,'Courier New',monospace\"><span style=\"font-weight: bold\"> Non-trainable params: </span><span style=\"color: #00af00; text-decoration-color: #00af00\">0</span> (0.00 B)\n",
              "</pre>\n"
            ]
          },
          "metadata": {}
        }
      ]
    },
    {
      "cell_type": "markdown",
      "source": [
        "### 2.2 Set Hyperparameters\n",
        "- **Loss function:** 'binary_crossentropy' (for binary classification)\n",
        "\n",
        "- **Evaluation Metrics:** 'Accuracy', 'Precision', 'Recall', 'F1-score', ...\n",
        "- **Optimizer:** `adam`, `sgd`, `'rmsprop'`, `'adagrad'`, etc.\n",
        "- set **parameters of the optimizer** (e.g., learning rate,...)\n",
        "```python\n",
        "keras.optimizers.Adam(learning_rate=0.001)\n",
        "```\n",
        "- **batch size:** 16, 32, 64, 128, 256\n",
        "    - Smaller = slower training, possibly better generalization\n",
        "    - Larger = faster training, but may converge poorly\n",
        "- **number of epochs:**\n",
        "   -Typically determined experimentally, with help of:\n",
        "\n",
        "    - validation accuracy,\n",
        "    - early stopping\n",
        "    - overfitting analysis\n"
      ],
      "metadata": {
        "id": "dpehTNfb7Vz8"
      }
    },
    {
      "cell_type": "code",
      "source": [
        "# Define optimizer with custom learning rate\n",
        "optimizer = keras.optimizers.SGD(learning_rate=0.01, momentum=0.9)\n",
        "\n",
        "# Compile the model\n",
        "model.compile(\n",
        "    optimizer=optimizer,\n",
        "    loss='binary_crossentropy',\n",
        "    metrics=[ 'accuracy',\n",
        "        keras.metrics.Precision(name='precision'),\n",
        "        keras.metrics.Recall(name='recall')\n",
        "    ]\n",
        ")"
      ],
      "metadata": {
        "id": "W3v5vmFWKmK3"
      },
      "execution_count": 12,
      "outputs": []
    },
    {
      "cell_type": "markdown",
      "source": [
        "### 3. Train the model"
      ],
      "metadata": {
        "id": "jgcUOpWJRPfw"
      }
    },
    {
      "cell_type": "code",
      "source": [
        "history = model.fit(X_train, y_train, epochs=50, batch_size=16, validation_data=(X_val, y_val))"
      ],
      "metadata": {
        "colab": {
          "base_uri": "https://localhost:8080/"
        },
        "id": "hnNQU2bURag9",
        "outputId": "7afaf2d8-ba76-4114-e300-a55810e2d3fd"
      },
      "execution_count": 13,
      "outputs": [
        {
          "output_type": "stream",
          "name": "stdout",
          "text": [
            "Epoch 1/50\n",
            "\u001b[1m23/23\u001b[0m \u001b[32m━━━━━━━━━━━━━━━━━━━━\u001b[0m\u001b[37m\u001b[0m \u001b[1m2s\u001b[0m 23ms/step - accuracy: 0.6227 - loss: 0.6333 - precision: 0.7355 - recall: 0.6288 - val_accuracy: 0.9231 - val_loss: 0.2772 - val_precision: 0.9138 - val_recall: 0.9636\n",
            "Epoch 2/50\n",
            "\u001b[1m23/23\u001b[0m \u001b[32m━━━━━━━━━━━━━━━━━━━━\u001b[0m\u001b[37m\u001b[0m \u001b[1m0s\u001b[0m 5ms/step - accuracy: 0.9626 - loss: 0.1878 - precision: 0.9494 - recall: 0.9948 - val_accuracy: 0.9341 - val_loss: 0.1757 - val_precision: 0.9298 - val_recall: 0.9636\n",
            "Epoch 3/50\n",
            "\u001b[1m23/23\u001b[0m \u001b[32m━━━━━━━━━━━━━━━━━━━━\u001b[0m\u001b[37m\u001b[0m \u001b[1m0s\u001b[0m 5ms/step - accuracy: 0.9695 - loss: 0.1172 - precision: 0.9626 - recall: 0.9908 - val_accuracy: 0.9560 - val_loss: 0.1523 - val_precision: 0.9474 - val_recall: 0.9818\n",
            "Epoch 4/50\n",
            "\u001b[1m23/23\u001b[0m \u001b[32m━━━━━━━━━━━━━━━━━━━━\u001b[0m\u001b[37m\u001b[0m \u001b[1m0s\u001b[0m 5ms/step - accuracy: 0.9666 - loss: 0.1056 - precision: 0.9597 - recall: 0.9882 - val_accuracy: 0.9560 - val_loss: 0.1444 - val_precision: 0.9474 - val_recall: 0.9818\n",
            "Epoch 5/50\n",
            "\u001b[1m23/23\u001b[0m \u001b[32m━━━━━━━━━━━━━━━━━━━━\u001b[0m\u001b[37m\u001b[0m \u001b[1m0s\u001b[0m 5ms/step - accuracy: 0.9698 - loss: 0.0725 - precision: 0.9766 - recall: 0.9761 - val_accuracy: 0.9670 - val_loss: 0.1417 - val_precision: 0.9643 - val_recall: 0.9818\n",
            "Epoch 6/50\n",
            "\u001b[1m23/23\u001b[0m \u001b[32m━━━━━━━━━━━━━━━━━━━━\u001b[0m\u001b[37m\u001b[0m \u001b[1m0s\u001b[0m 5ms/step - accuracy: 0.9808 - loss: 0.0589 - precision: 0.9864 - recall: 0.9838 - val_accuracy: 0.9670 - val_loss: 0.1417 - val_precision: 0.9643 - val_recall: 0.9818\n",
            "Epoch 7/50\n",
            "\u001b[1m23/23\u001b[0m \u001b[32m━━━━━━━━━━━━━━━━━━━━\u001b[0m\u001b[37m\u001b[0m \u001b[1m0s\u001b[0m 5ms/step - accuracy: 0.9771 - loss: 0.0549 - precision: 0.9768 - recall: 0.9894 - val_accuracy: 0.9670 - val_loss: 0.1360 - val_precision: 0.9643 - val_recall: 0.9818\n",
            "Epoch 8/50\n",
            "\u001b[1m23/23\u001b[0m \u001b[32m━━━━━━━━━━━━━━━━━━━━\u001b[0m\u001b[37m\u001b[0m \u001b[1m0s\u001b[0m 5ms/step - accuracy: 0.9795 - loss: 0.0554 - precision: 0.9733 - recall: 0.9947 - val_accuracy: 0.9670 - val_loss: 0.1375 - val_precision: 0.9643 - val_recall: 0.9818\n",
            "Epoch 9/50\n",
            "\u001b[1m23/23\u001b[0m \u001b[32m━━━━━━━━━━━━━━━━━━━━\u001b[0m\u001b[37m\u001b[0m \u001b[1m0s\u001b[0m 5ms/step - accuracy: 0.9915 - loss: 0.0346 - precision: 0.9959 - recall: 0.9903 - val_accuracy: 0.9670 - val_loss: 0.1388 - val_precision: 0.9643 - val_recall: 0.9818\n",
            "Epoch 10/50\n",
            "\u001b[1m23/23\u001b[0m \u001b[32m━━━━━━━━━━━━━━━━━━━━\u001b[0m\u001b[37m\u001b[0m \u001b[1m0s\u001b[0m 5ms/step - accuracy: 0.9883 - loss: 0.0310 - precision: 0.9917 - recall: 0.9892 - val_accuracy: 0.9670 - val_loss: 0.1369 - val_precision: 0.9643 - val_recall: 0.9818\n",
            "Epoch 11/50\n",
            "\u001b[1m23/23\u001b[0m \u001b[32m━━━━━━━━━━━━━━━━━━━━\u001b[0m\u001b[37m\u001b[0m \u001b[1m0s\u001b[0m 5ms/step - accuracy: 0.9934 - loss: 0.0306 - precision: 0.9993 - recall: 0.9905 - val_accuracy: 0.9670 - val_loss: 0.1414 - val_precision: 0.9643 - val_recall: 0.9818\n",
            "Epoch 12/50\n",
            "\u001b[1m23/23\u001b[0m \u001b[32m━━━━━━━━━━━━━━━━━━━━\u001b[0m\u001b[37m\u001b[0m \u001b[1m0s\u001b[0m 5ms/step - accuracy: 0.9790 - loss: 0.0446 - precision: 0.9741 - recall: 0.9937 - val_accuracy: 0.9670 - val_loss: 0.1387 - val_precision: 0.9643 - val_recall: 0.9818\n",
            "Epoch 13/50\n",
            "\u001b[1m23/23\u001b[0m \u001b[32m━━━━━━━━━━━━━━━━━━━━\u001b[0m\u001b[37m\u001b[0m \u001b[1m0s\u001b[0m 5ms/step - accuracy: 0.9930 - loss: 0.0271 - precision: 0.9945 - recall: 0.9944 - val_accuracy: 0.9670 - val_loss: 0.1424 - val_precision: 0.9643 - val_recall: 0.9818\n",
            "Epoch 14/50\n",
            "\u001b[1m23/23\u001b[0m \u001b[32m━━━━━━━━━━━━━━━━━━━━\u001b[0m\u001b[37m\u001b[0m \u001b[1m0s\u001b[0m 5ms/step - accuracy: 0.9874 - loss: 0.0301 - precision: 0.9900 - recall: 0.9889 - val_accuracy: 0.9670 - val_loss: 0.1427 - val_precision: 0.9643 - val_recall: 0.9818\n",
            "Epoch 15/50\n",
            "\u001b[1m23/23\u001b[0m \u001b[32m━━━━━━━━━━━━━━━━━━━━\u001b[0m\u001b[37m\u001b[0m \u001b[1m0s\u001b[0m 5ms/step - accuracy: 0.9936 - loss: 0.0211 - precision: 0.9952 - recall: 0.9948 - val_accuracy: 0.9670 - val_loss: 0.1439 - val_precision: 0.9643 - val_recall: 0.9818\n",
            "Epoch 16/50\n",
            "\u001b[1m23/23\u001b[0m \u001b[32m━━━━━━━━━━━━━━━━━━━━\u001b[0m\u001b[37m\u001b[0m \u001b[1m0s\u001b[0m 5ms/step - accuracy: 0.9902 - loss: 0.0305 - precision: 0.9864 - recall: 1.0000 - val_accuracy: 0.9670 - val_loss: 0.1457 - val_precision: 0.9643 - val_recall: 0.9818\n",
            "Epoch 17/50\n",
            "\u001b[1m23/23\u001b[0m \u001b[32m━━━━━━━━━━━━━━━━━━━━\u001b[0m\u001b[37m\u001b[0m \u001b[1m0s\u001b[0m 5ms/step - accuracy: 0.9914 - loss: 0.0280 - precision: 0.9878 - recall: 0.9978 - val_accuracy: 0.9670 - val_loss: 0.1492 - val_precision: 0.9643 - val_recall: 0.9818\n",
            "Epoch 18/50\n",
            "\u001b[1m23/23\u001b[0m \u001b[32m━━━━━━━━━━━━━━━━━━━━\u001b[0m\u001b[37m\u001b[0m \u001b[1m0s\u001b[0m 6ms/step - accuracy: 0.9961 - loss: 0.0207 - precision: 0.9943 - recall: 1.0000 - val_accuracy: 0.9670 - val_loss: 0.1487 - val_precision: 0.9643 - val_recall: 0.9818\n",
            "Epoch 19/50\n",
            "\u001b[1m23/23\u001b[0m \u001b[32m━━━━━━━━━━━━━━━━━━━━\u001b[0m\u001b[37m\u001b[0m \u001b[1m0s\u001b[0m 5ms/step - accuracy: 0.9902 - loss: 0.0251 - precision: 0.9834 - recall: 1.0000 - val_accuracy: 0.9670 - val_loss: 0.1524 - val_precision: 0.9643 - val_recall: 0.9818\n",
            "Epoch 20/50\n",
            "\u001b[1m23/23\u001b[0m \u001b[32m━━━━━━━━━━━━━━━━━━━━\u001b[0m\u001b[37m\u001b[0m \u001b[1m0s\u001b[0m 6ms/step - accuracy: 0.9986 - loss: 0.0187 - precision: 0.9979 - recall: 1.0000 - val_accuracy: 0.9670 - val_loss: 0.1552 - val_precision: 0.9643 - val_recall: 0.9818\n",
            "Epoch 21/50\n",
            "\u001b[1m23/23\u001b[0m \u001b[32m━━━━━━━━━━━━━━━━━━━━\u001b[0m\u001b[37m\u001b[0m \u001b[1m0s\u001b[0m 6ms/step - accuracy: 0.9990 - loss: 0.0130 - precision: 0.9983 - recall: 1.0000 - val_accuracy: 0.9670 - val_loss: 0.1533 - val_precision: 0.9643 - val_recall: 0.9818\n",
            "Epoch 22/50\n",
            "\u001b[1m23/23\u001b[0m \u001b[32m━━━━━━━━━━━━━━━━━━━━\u001b[0m\u001b[37m\u001b[0m \u001b[1m0s\u001b[0m 7ms/step - accuracy: 0.9986 - loss: 0.0101 - precision: 0.9979 - recall: 1.0000 - val_accuracy: 0.9560 - val_loss: 0.1558 - val_precision: 0.9636 - val_recall: 0.9636\n",
            "Epoch 23/50\n",
            "\u001b[1m23/23\u001b[0m \u001b[32m━━━━━━━━━━━━━━━━━━━━\u001b[0m\u001b[37m\u001b[0m \u001b[1m0s\u001b[0m 5ms/step - accuracy: 0.9972 - loss: 0.0115 - precision: 0.9958 - recall: 1.0000 - val_accuracy: 0.9560 - val_loss: 0.1571 - val_precision: 0.9636 - val_recall: 0.9636\n",
            "Epoch 24/50\n",
            "\u001b[1m23/23\u001b[0m \u001b[32m━━━━━━━━━━━━━━━━━━━━\u001b[0m\u001b[37m\u001b[0m \u001b[1m0s\u001b[0m 6ms/step - accuracy: 0.9961 - loss: 0.0106 - precision: 0.9939 - recall: 1.0000 - val_accuracy: 0.9560 - val_loss: 0.1616 - val_precision: 0.9636 - val_recall: 0.9636\n",
            "Epoch 25/50\n",
            "\u001b[1m23/23\u001b[0m \u001b[32m━━━━━━━━━━━━━━━━━━━━\u001b[0m\u001b[37m\u001b[0m \u001b[1m0s\u001b[0m 5ms/step - accuracy: 0.9975 - loss: 0.0105 - precision: 0.9961 - recall: 1.0000 - val_accuracy: 0.9560 - val_loss: 0.1635 - val_precision: 0.9636 - val_recall: 0.9636\n",
            "Epoch 26/50\n",
            "\u001b[1m23/23\u001b[0m \u001b[32m━━━━━━━━━━━━━━━━━━━━\u001b[0m\u001b[37m\u001b[0m \u001b[1m0s\u001b[0m 5ms/step - accuracy: 0.9965 - loss: 0.0123 - precision: 0.9947 - recall: 1.0000 - val_accuracy: 0.9560 - val_loss: 0.1678 - val_precision: 0.9636 - val_recall: 0.9636\n",
            "Epoch 27/50\n",
            "\u001b[1m23/23\u001b[0m \u001b[32m━━━━━━━━━━━━━━━━━━━━\u001b[0m\u001b[37m\u001b[0m \u001b[1m0s\u001b[0m 5ms/step - accuracy: 0.9998 - loss: 0.0083 - precision: 0.9996 - recall: 1.0000 - val_accuracy: 0.9560 - val_loss: 0.1751 - val_precision: 0.9636 - val_recall: 0.9636\n",
            "Epoch 28/50\n",
            "\u001b[1m23/23\u001b[0m \u001b[32m━━━━━━━━━━━━━━━━━━━━\u001b[0m\u001b[37m\u001b[0m \u001b[1m0s\u001b[0m 5ms/step - accuracy: 1.0000 - loss: 0.0067 - precision: 1.0000 - recall: 1.0000 - val_accuracy: 0.9670 - val_loss: 0.1691 - val_precision: 0.9643 - val_recall: 0.9818\n",
            "Epoch 29/50\n",
            "\u001b[1m23/23\u001b[0m \u001b[32m━━━━━━━━━━━━━━━━━━━━\u001b[0m\u001b[37m\u001b[0m \u001b[1m0s\u001b[0m 6ms/step - accuracy: 1.0000 - loss: 0.0066 - precision: 1.0000 - recall: 1.0000 - val_accuracy: 0.9670 - val_loss: 0.1718 - val_precision: 0.9643 - val_recall: 0.9818\n",
            "Epoch 30/50\n",
            "\u001b[1m23/23\u001b[0m \u001b[32m━━━━━━━━━━━━━━━━━━━━\u001b[0m\u001b[37m\u001b[0m \u001b[1m0s\u001b[0m 5ms/step - accuracy: 0.9982 - loss: 0.0084 - precision: 0.9973 - recall: 1.0000 - val_accuracy: 0.9670 - val_loss: 0.1766 - val_precision: 0.9643 - val_recall: 0.9818\n",
            "Epoch 31/50\n",
            "\u001b[1m23/23\u001b[0m \u001b[32m━━━━━━━━━━━━━━━━━━━━\u001b[0m\u001b[37m\u001b[0m \u001b[1m0s\u001b[0m 5ms/step - accuracy: 1.0000 - loss: 0.0072 - precision: 1.0000 - recall: 1.0000 - val_accuracy: 0.9670 - val_loss: 0.1800 - val_precision: 0.9643 - val_recall: 0.9818\n",
            "Epoch 32/50\n",
            "\u001b[1m23/23\u001b[0m \u001b[32m━━━━━━━━━━━━━━━━━━━━\u001b[0m\u001b[37m\u001b[0m \u001b[1m0s\u001b[0m 5ms/step - accuracy: 1.0000 - loss: 0.0084 - precision: 1.0000 - recall: 1.0000 - val_accuracy: 0.9670 - val_loss: 0.1838 - val_precision: 0.9643 - val_recall: 0.9818\n",
            "Epoch 33/50\n",
            "\u001b[1m23/23\u001b[0m \u001b[32m━━━━━━━━━━━━━━━━━━━━\u001b[0m\u001b[37m\u001b[0m \u001b[1m0s\u001b[0m 5ms/step - accuracy: 1.0000 - loss: 0.0095 - precision: 1.0000 - recall: 1.0000 - val_accuracy: 0.9670 - val_loss: 0.1863 - val_precision: 0.9643 - val_recall: 0.9818\n",
            "Epoch 34/50\n",
            "\u001b[1m23/23\u001b[0m \u001b[32m━━━━━━━━━━━━━━━━━━━━\u001b[0m\u001b[37m\u001b[0m \u001b[1m0s\u001b[0m 5ms/step - accuracy: 0.9994 - loss: 0.0069 - precision: 0.9991 - recall: 1.0000 - val_accuracy: 0.9670 - val_loss: 0.1926 - val_precision: 0.9643 - val_recall: 0.9818\n",
            "Epoch 35/50\n",
            "\u001b[1m23/23\u001b[0m \u001b[32m━━━━━━━━━━━━━━━━━━━━\u001b[0m\u001b[37m\u001b[0m \u001b[1m0s\u001b[0m 5ms/step - accuracy: 1.0000 - loss: 0.0075 - precision: 1.0000 - recall: 1.0000 - val_accuracy: 0.9670 - val_loss: 0.1891 - val_precision: 0.9643 - val_recall: 0.9818\n",
            "Epoch 36/50\n",
            "\u001b[1m23/23\u001b[0m \u001b[32m━━━━━━━━━━━━━━━━━━━━\u001b[0m\u001b[37m\u001b[0m \u001b[1m0s\u001b[0m 5ms/step - accuracy: 1.0000 - loss: 0.0077 - precision: 1.0000 - recall: 1.0000 - val_accuracy: 0.9670 - val_loss: 0.1948 - val_precision: 0.9643 - val_recall: 0.9818\n",
            "Epoch 37/50\n",
            "\u001b[1m23/23\u001b[0m \u001b[32m━━━━━━━━━━━━━━━━━━━━\u001b[0m\u001b[37m\u001b[0m \u001b[1m0s\u001b[0m 5ms/step - accuracy: 1.0000 - loss: 0.0093 - precision: 1.0000 - recall: 1.0000 - val_accuracy: 0.9670 - val_loss: 0.1965 - val_precision: 0.9643 - val_recall: 0.9818\n",
            "Epoch 38/50\n",
            "\u001b[1m23/23\u001b[0m \u001b[32m━━━━━━━━━━━━━━━━━━━━\u001b[0m\u001b[37m\u001b[0m \u001b[1m0s\u001b[0m 5ms/step - accuracy: 1.0000 - loss: 0.0062 - precision: 1.0000 - recall: 1.0000 - val_accuracy: 0.9670 - val_loss: 0.2002 - val_precision: 0.9643 - val_recall: 0.9818\n",
            "Epoch 39/50\n",
            "\u001b[1m23/23\u001b[0m \u001b[32m━━━━━━━━━━━━━━━━━━━━\u001b[0m\u001b[37m\u001b[0m \u001b[1m0s\u001b[0m 5ms/step - accuracy: 1.0000 - loss: 0.0061 - precision: 1.0000 - recall: 1.0000 - val_accuracy: 0.9670 - val_loss: 0.2039 - val_precision: 0.9643 - val_recall: 0.9818\n",
            "Epoch 40/50\n",
            "\u001b[1m23/23\u001b[0m \u001b[32m━━━━━━━━━━━━━━━━━━━━\u001b[0m\u001b[37m\u001b[0m \u001b[1m0s\u001b[0m 7ms/step - accuracy: 1.0000 - loss: 0.0055 - precision: 1.0000 - recall: 1.0000 - val_accuracy: 0.9670 - val_loss: 0.2093 - val_precision: 0.9643 - val_recall: 0.9818\n",
            "Epoch 41/50\n",
            "\u001b[1m23/23\u001b[0m \u001b[32m━━━━━━━━━━━━━━━━━━━━\u001b[0m\u001b[37m\u001b[0m \u001b[1m0s\u001b[0m 7ms/step - accuracy: 1.0000 - loss: 0.0050 - precision: 1.0000 - recall: 1.0000 - val_accuracy: 0.9670 - val_loss: 0.2086 - val_precision: 0.9643 - val_recall: 0.9818\n",
            "Epoch 42/50\n",
            "\u001b[1m23/23\u001b[0m \u001b[32m━━━━━━━━━━━━━━━━━━━━\u001b[0m\u001b[37m\u001b[0m \u001b[1m0s\u001b[0m 5ms/step - accuracy: 1.0000 - loss: 0.0050 - precision: 1.0000 - recall: 1.0000 - val_accuracy: 0.9670 - val_loss: 0.2118 - val_precision: 0.9643 - val_recall: 0.9818\n",
            "Epoch 43/50\n",
            "\u001b[1m23/23\u001b[0m \u001b[32m━━━━━━━━━━━━━━━━━━━━\u001b[0m\u001b[37m\u001b[0m \u001b[1m0s\u001b[0m 6ms/step - accuracy: 1.0000 - loss: 0.0050 - precision: 1.0000 - recall: 1.0000 - val_accuracy: 0.9670 - val_loss: 0.2149 - val_precision: 0.9643 - val_recall: 0.9818\n",
            "Epoch 44/50\n",
            "\u001b[1m23/23\u001b[0m \u001b[32m━━━━━━━━━━━━━━━━━━━━\u001b[0m\u001b[37m\u001b[0m \u001b[1m0s\u001b[0m 6ms/step - accuracy: 1.0000 - loss: 0.0061 - precision: 1.0000 - recall: 1.0000 - val_accuracy: 0.9670 - val_loss: 0.2205 - val_precision: 0.9643 - val_recall: 0.9818\n",
            "Epoch 45/50\n",
            "\u001b[1m23/23\u001b[0m \u001b[32m━━━━━━━━━━━━━━━━━━━━\u001b[0m\u001b[37m\u001b[0m \u001b[1m0s\u001b[0m 8ms/step - accuracy: 1.0000 - loss: 0.0044 - precision: 1.0000 - recall: 1.0000 - val_accuracy: 0.9670 - val_loss: 0.2222 - val_precision: 0.9643 - val_recall: 0.9818\n",
            "Epoch 46/50\n",
            "\u001b[1m23/23\u001b[0m \u001b[32m━━━━━━━━━━━━━━━━━━━━\u001b[0m\u001b[37m\u001b[0m \u001b[1m0s\u001b[0m 7ms/step - accuracy: 1.0000 - loss: 0.0052 - precision: 1.0000 - recall: 1.0000 - val_accuracy: 0.9670 - val_loss: 0.2242 - val_precision: 0.9643 - val_recall: 0.9818\n",
            "Epoch 47/50\n",
            "\u001b[1m23/23\u001b[0m \u001b[32m━━━━━━━━━━━━━━━━━━━━\u001b[0m\u001b[37m\u001b[0m \u001b[1m0s\u001b[0m 8ms/step - accuracy: 1.0000 - loss: 0.0053 - precision: 1.0000 - recall: 1.0000 - val_accuracy: 0.9670 - val_loss: 0.2230 - val_precision: 0.9643 - val_recall: 0.9818\n",
            "Epoch 48/50\n",
            "\u001b[1m23/23\u001b[0m \u001b[32m━━━━━━━━━━━━━━━━━━━━\u001b[0m\u001b[37m\u001b[0m \u001b[1m0s\u001b[0m 8ms/step - accuracy: 1.0000 - loss: 0.0040 - precision: 1.0000 - recall: 1.0000 - val_accuracy: 0.9670 - val_loss: 0.2272 - val_precision: 0.9643 - val_recall: 0.9818\n",
            "Epoch 49/50\n",
            "\u001b[1m23/23\u001b[0m \u001b[32m━━━━━━━━━━━━━━━━━━━━\u001b[0m\u001b[37m\u001b[0m \u001b[1m0s\u001b[0m 8ms/step - accuracy: 1.0000 - loss: 0.0039 - precision: 1.0000 - recall: 1.0000 - val_accuracy: 0.9670 - val_loss: 0.2323 - val_precision: 0.9643 - val_recall: 0.9818\n",
            "Epoch 50/50\n",
            "\u001b[1m23/23\u001b[0m \u001b[32m━━━━━━━━━━━━━━━━━━━━\u001b[0m\u001b[37m\u001b[0m \u001b[1m0s\u001b[0m 9ms/step - accuracy: 1.0000 - loss: 0.0030 - precision: 1.0000 - recall: 1.0000 - val_accuracy: 0.9670 - val_loss: 0.2339 - val_precision: 0.9643 - val_recall: 0.9818\n"
          ]
        }
      ]
    },
    {
      "cell_type": "markdown",
      "source": [
        "- Visualize the progress"
      ],
      "metadata": {
        "id": "N03cHVpvUPCq"
      }
    },
    {
      "cell_type": "code",
      "source": [
        "# plot the training progress:\n",
        "history_dict = history.history\n",
        "print(history_dict.keys())\n",
        "\n",
        "from matplotlib import pyplot as plt\n",
        "\n",
        "# Plot training & validation accuracy values\n",
        "plt.plot(history.history['accuracy'])\n",
        "plt.plot(history.history['val_accuracy'])\n",
        "plt.title('Model accuracy')\n",
        "plt.ylabel('Accuracy')\n",
        "plt.xlabel('Epoch')\n",
        "plt.legend(['Train', 'Validation'], loc='upper left')\n",
        "plt.show()\n",
        "\n",
        "# Plot training & validation loss values\n",
        "plt.plot(history.history['loss'])\n",
        "plt.plot(history.history['val_loss'])\n",
        "plt.title('Model loss')\n",
        "plt.ylabel('Loss')\n",
        "plt.xlabel('Epoch')\n",
        "plt.legend(['Train', 'Validation'], loc='upper left')\n",
        "plt.show()\n",
        "\n",
        "# Evaluate the model on the training set\n",
        "test_loss, test_acc, test_precision, test_recall = model.evaluate(X_test, y_test)\n",
        "print('Training accuracy:', train_acc, '\\nTrain loss:', train_loss)\n",
        "\n",
        "# Evaluate the model on the validation set\n",
        "val_loss, val_acc, val_precision, val_recall = model.evaluate(X_val, y_val)\n",
        "print('Validation accuracy:', val_acc, '\\nVal loss:', val_loss)\n",
        "\n",
        "# Evaluate the model on the test set\n",
        "test_loss, test_acc, test_precision, test_recall = model.evaluate(X_test, y_test)\n",
        "print('Test accuracy:', test_acc, '\\nTest loss:', test_loss)"
      ],
      "metadata": {
        "colab": {
          "base_uri": "https://localhost:8080/",
          "height": 1000
        },
        "id": "19Zh7bgoTCea",
        "outputId": "3a438c86-2eba-41bb-b6d6-fe9d990bb391"
      },
      "execution_count": 14,
      "outputs": [
        {
          "output_type": "stream",
          "name": "stdout",
          "text": [
            "dict_keys(['accuracy', 'loss', 'precision', 'recall', 'val_accuracy', 'val_loss', 'val_precision', 'val_recall'])\n"
          ]
        },
        {
          "output_type": "display_data",
          "data": {
            "text/plain": [
              "<Figure size 640x480 with 1 Axes>"
            ],
            "image/png": "[encoded data removed]"
          },
          "metadata": {}
        },
        {
          "output_type": "display_data",
          "data": {
            "text/plain": [
              "<Figure size 640x480 with 1 Axes>"
            ],
            "image/png": "[encoded data removed]"
          },
          "metadata": {}
        },
        {
          "output_type": "stream",
          "name": "stdout",
          "text": [
            "\u001b[1m4/4\u001b[0m \u001b[32m━━━━━━━━━━━━━━━━━━━━\u001b[0m\u001b[37m\u001b[0m \u001b[1m0s\u001b[0m 9ms/step - accuracy: 0.9558 - loss: 0.1458 - precision: 0.9761 - recall: 0.9541 \n",
            "Training accuracy: 1.0 \n",
            "Train loss: 0.0033073201775550842\n",
            "\u001b[1m3/3\u001b[0m \u001b[32m━━━━━━━━━━━━━━━━━━━━\u001b[0m\u001b[37m\u001b[0m \u001b[1m0s\u001b[0m 15ms/step - accuracy: 0.9796 - loss: 0.1439 - precision: 0.9821 - recall: 0.9842\n",
            "Validation accuracy: 0.9670329689979553 \n",
            "Val loss: 0.2338520884513855\n",
            "\u001b[1m4/4\u001b[0m \u001b[32m━━━━━━━━━━━━━━━━━━━━\u001b[0m\u001b[37m\u001b[0m \u001b[1m0s\u001b[0m 9ms/step - accuracy: 0.9558 - loss: 0.1458 - precision: 0.9761 - recall: 0.9541 \n",
            "Test accuracy: 0.9649122953414917 \n",
            "Test loss: 0.11965466290712357\n"
          ]
        }
      ]
    },
    {
      "cell_type": "code",
      "execution_count": 15,
      "metadata": {
        "colab": {
          "base_uri": "https://localhost:8080/"
        },
        "id": "_5oLq7fSlvpP",
        "outputId": "51322097-22d6-47c7-eb57-ba5d9e4c03e6"
      },
      "outputs": [
        {
          "output_type": "stream",
          "name": "stdout",
          "text": [
            "\u001b[1m4/4\u001b[0m \u001b[32m━━━━━━━━━━━━━━━━━━━━\u001b[0m\u001b[37m\u001b[0m \u001b[1m0s\u001b[0m 9ms/step - accuracy: 0.9558 - loss: 0.1458 - precision: 0.9761 - recall: 0.9541 \n",
            "\u001b[1m12/12\u001b[0m \u001b[32m━━━━━━━━━━━━━━━━━━━━\u001b[0m\u001b[37m\u001b[0m \u001b[1m0s\u001b[0m 4ms/step - accuracy: 1.0000 - loss: 0.0031 - precision: 1.0000 - recall: 1.0000 \n",
            "\u001b[1m3/3\u001b[0m \u001b[32m━━━━━━━━━━━━━━━━━━━━\u001b[0m\u001b[37m\u001b[0m \u001b[1m0s\u001b[0m 14ms/step - accuracy: 0.9796 - loss: 0.1439 - precision: 0.9821 - recall: 0.9842\n",
            "Train Accuracy: 1.0000 | Train Loss: 0.0036\n",
            "Validation Accuracy: 0.9670 | Validation Loss: 0.2339\n",
            "Test Accuracy: 0.9649 | Test Loss: 0.1197\n",
            "\u001b[1m4/4\u001b[0m \u001b[32m━━━━━━━━━━━━━━━━━━━━\u001b[0m\u001b[37m\u001b[0m \u001b[1m0s\u001b[0m 17ms/step\n",
            "[[1 0 0 1 1 0 0 0 0 1]]\n"
          ]
        }
      ],
      "source": [
        "import tensorflow as tf\n",
        "##########################################################################\n",
        "# 5. Evaluate the model and make predictions\n",
        "# 5a. Evaluate the model on the train, validation and test sets\n",
        "test_loss, test_acc, test_precision, test_recall = model.evaluate(X_test, y_test)\n",
        "train_loss, train_acc, train_precision, train_recall = model.evaluate(X_train, y_train)\n",
        "val_loss, val_acc, val_precision, val_recall = model.evaluate(X_val, y_val)\n",
        "\n",
        "# Print evaluation metrics:\n",
        "print(f\"Train Accuracy: {train_acc:.4f} | Train Loss: {train_loss:.4f}\")\n",
        "print(f\"Validation Accuracy: {val_acc:.4f} | Validation Loss: {val_loss:.4f}\")\n",
        "print(f\"Test Accuracy: {test_acc:.4f} | Test Loss: {test_loss:.4f}\")\n",
        "\n",
        "# 5b. Make predictions\n",
        "predictions = (model.predict(X_test) > 0.5).astype(int)\n",
        "print(predictions[:10].T)"
      ]
    },
    {
      "cell_type": "markdown",
      "source": [
        "### Keras backend\n",
        "- by default Tensorflow, but we can change it:"
      ],
      "metadata": {
        "id": "-NjNFVvomtbg"
      }
    },
    {
      "cell_type": "code",
      "source": [
        "from keras import backend\n",
        "\n",
        "print(f\"Current backend: {backend.backend()}\")"
      ],
      "metadata": {
        "colab": {
          "base_uri": "https://localhost:8080/"
        },
        "id": "kFUMfOj4m3m0",
        "outputId": "23dd7611-3065-4cc8-d49b-0cddb2b93b61"
      },
      "execution_count": 18,
      "outputs": [
        {
          "output_type": "stream",
          "name": "stdout",
          "text": [
            "Current backend: tensorflow\n"
          ]
        }
      ]
    },
    {
      "cell_type": "code",
      "source": [
        "# restart kernel before running this code!\n",
        "import os\n",
        "os.environ[\"KERAS_BACKEND\"] = \"torch\"  # \"tensorflow\" \"jax\", \"torch\"\n",
        "from keras import backend\n",
        "\n",
        "print(f\"Current backend: {backend.backend()}\")\n"
      ],
      "metadata": {
        "colab": {
          "base_uri": "https://localhost:8080/"
        },
        "id": "J45LZyOznF86",
        "outputId": "b1164220-1754-4f14-827d-2db232dca160"
      },
      "execution_count": 17,
      "outputs": [
        {
          "output_type": "stream",
          "name": "stdout",
          "text": [
            "Current backend: tensorflow\n"
          ]
        }
      ]
    },
    {
      "cell_type": "markdown",
      "source": [],
      "metadata": {
        "id": "3djiZpRdowYo"
      }
    }
  ]
}