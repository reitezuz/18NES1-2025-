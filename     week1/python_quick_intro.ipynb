{
  "cells": [
    {
      "cell_type": "markdown",
      "metadata": {
        "id": "view-in-github",
        "colab_type": "text"
      },
      "source": [
        "<a href=\"https://colab.research.google.com/github/reitezuz/18NES1-2025-/blob/main/%20%20%20%20week1/python_quick_intro.ipynb\" target=\"_parent\"><img src=\"https://colab.research.google.com/assets/colab-badge.svg\" alt=\"Open In Colab\"/></a>"
      ]
    },
    {
      "cell_type": "markdown",
      "metadata": {
        "id": "iDOsV9i0mFPp"
      },
      "source": [
        "# Quick introduction to Python\n",
        "\n",
        "The content of this notebook is overtaken mostly from the [ZPRO 2024 course](https://gitlab.fjfi.cvut.cz/ksi/zpro-2024-public-en)\n",
        "\n",
        "## Python language\n",
        "\n",
        "[Python](https://www.python.org/) is high-level, interpreted, multipurpose programming language that focuses on the purity and readability of the source code.\n",
        "\n",
        "Python is an [open source](https://en.wikipedia.org/wiki/Open-source_software) project a is freely available for all major platforms (Linux, macOS, Windows).\n",
        "Lot of open source libraries, frameworks, and other software projects using Python exists.\n",
        "This contributes to the popularity of the Python and its software ecosystem.\n",
        "\n",
        "Python is an __interpreted__ language, an __interpreter__ is required to run the code in Python.\n",
        "Interpreter is a program that reads the source code and executes (interprets) it step by step.\n"
      ]
    },
    {
      "cell_type": "markdown",
      "metadata": {
        "id": "hX4S3oI4mFPt"
      },
      "source": [
        "The environment of the [Python](https://www.python.org/) language consists of several components:\n",
        "\n",
        "- the programming language itself\n",
        "- interpreter of the language and set of other tools (interactive shell, simple integrated development environment (IDE), etc.)\n",
        "- standard library (set of modules containing many useful functions, classes, and other objects)\n",
        "- system for maintenance and distribution of packages (user libraries and packagesy)\n",
        "- [documentation](https://docs.python.org/3/)\n",
        "\n",
        "The Python language ay be used in several ways:\n",
        "\n",
        "1. interactive work in the command prompt - _shell_ (the REPL principle – _read-evaluate-print loop_)\n",
        "2. scripting – creation of simple programs that usually automates work in the operating system (e.g. copying or renaming files)\n",
        "3. creation of programs (application)\n",
        "4. hybrid work in systems with built-in Python interpreter (e.g. _Google colab_ environment)\n",
        "\n"
      ]
    },
    {
      "cell_type": "code",
      "execution_count": null,
      "metadata": {
        "id": "wSfBlS93mFPv",
        "outputId": "7a25d476-7bd3-4b73-fc43-669e0ca7cad5"
      },
      "outputs": [
        {
          "name": "stdout",
          "output_type": "stream",
          "text": [
            "Hello, world!\n",
            "The answer is 42\n"
          ]
        }
      ],
      "source": [
        "print(\"Hello, world!\")\n",
        "print(\"The answer is\", 42)"
      ]
    },
    {
      "cell_type": "code",
      "execution_count": null,
      "metadata": {
        "id": "zHnaIfGHmFPw",
        "outputId": "6979e6b0-81bb-4eda-9746-087b898aa767"
      },
      "outputs": [
        {
          "name": "stdout",
          "output_type": "stream",
          "text": [
            "5.8 6.8 abcd\n"
          ]
        }
      ],
      "source": [
        "x = 2 * 3 + 4 / 5 - 1\n",
        "y = \"abcd\"\n",
        "print(x, x + 1, y)"
      ]
    },
    {
      "cell_type": "markdown",
      "metadata": {
        "id": "EJzjAFLGmFPx"
      },
      "source": [
        "## Data types in Python\n",
        "\n",
        "![](Python_3._The_standard_type_hierarchy-en.svg)"
      ]
    },
    {
      "cell_type": "markdown",
      "metadata": {
        "id": "cfoQTMEhmFPx"
      },
      "source": [
        "#### None Type and Numbers"
      ]
    },
    {
      "cell_type": "code",
      "execution_count": 1,
      "metadata": {
        "colab": {
          "base_uri": "https://localhost:8080/"
        },
        "id": "Ip_lLmZnmFPy",
        "outputId": "07ea3f64-c329-4aa8-84de-e282461d63f4"
      },
      "outputs": [
        {
          "output_type": "stream",
          "name": "stdout",
          "text": [
            "False\n",
            "<class 'bool'>\n"
          ]
        }
      ],
      "source": [
        "# bool\n",
        "a = True\n",
        "x = 1\n",
        "b = a and not bool(x)\n",
        "print(b)\n",
        "print(type(b))"
      ]
    },
    {
      "cell_type": "code",
      "execution_count": 2,
      "metadata": {
        "colab": {
          "base_uri": "https://localhost:8080/"
        },
        "id": "dv2_Hi_qmFPy",
        "outputId": "b0be7ab9-9410-488c-fbb7-416d711c3af7"
      },
      "outputs": [
        {
          "output_type": "stream",
          "name": "stdout",
          "text": [
            "None <class 'NoneType'>\n"
          ]
        }
      ],
      "source": [
        "# NoneType\n",
        "a = None\n",
        "print(a, type(a))"
      ]
    },
    {
      "cell_type": "code",
      "execution_count": 3,
      "metadata": {
        "colab": {
          "base_uri": "https://localhost:8080/"
        },
        "id": "M59Nu3IpmFPz",
        "outputId": "7275edf2-008c-4e61-d10c-23bb01de2c02"
      },
      "outputs": [
        {
          "output_type": "stream",
          "name": "stdout",
          "text": [
            "1234567890\n",
            "13 7 30 3.3333333333333335 1 3 1000\n"
          ]
        }
      ],
      "source": [
        "# int\n",
        "a = 1234567890\n",
        "print(a)\n",
        "\n",
        "# operators:\n",
        "x = 10\n",
        "y = 3\n",
        "print(x + y, x - y, x * y, x / y, x % y, x // y, x ** y)"
      ]
    },
    {
      "cell_type": "code",
      "execution_count": 4,
      "metadata": {
        "colab": {
          "base_uri": "https://localhost:8080/"
        },
        "id": "xfBS_4eKmFP0",
        "outputId": "9ca4a011-0836-4204-b532-365aece1c336"
      },
      "outputs": [
        {
          "output_type": "stream",
          "name": "stdout",
          "text": [
            "123.456 0.052 <class 'float'>\n"
          ]
        }
      ],
      "source": [
        "# float\n",
        "x = 123.456\n",
        "y = 52e-3\n",
        "print(x, y, type(x))"
      ]
    },
    {
      "cell_type": "markdown",
      "source": [
        "#### Containers"
      ],
      "metadata": {
        "id": "7veMXOxFmhXf"
      }
    },
    {
      "cell_type": "code",
      "execution_count": 5,
      "metadata": {
        "colab": {
          "base_uri": "https://localhost:8080/"
        },
        "id": "45pi_525mFP0",
        "outputId": "a145c675-e4a2-4c30-ef79-15029d06bf46"
      },
      "outputs": [
        {
          "output_type": "stream",
          "name": "stdout",
          "text": [
            "hello world <class 'str'> h\n"
          ]
        }
      ],
      "source": [
        "# str\n",
        "x = \"hello\"\n",
        "y = \"world\"\n",
        "z = x + \" \" + y\n",
        "print(z, type(z), z[0])"
      ]
    },
    {
      "cell_type": "code",
      "execution_count": 6,
      "metadata": {
        "colab": {
          "base_uri": "https://localhost:8080/"
        },
        "id": "MDDiLgjvmFP1",
        "outputId": "8ee0a7cd-6559-45cb-9012-20b9d0bc0299"
      },
      "outputs": [
        {
          "output_type": "stream",
          "name": "stdout",
          "text": [
            "[1, 2.3, 'abc', []]\n",
            "<class 'list'> 1 [] [2.3, 'abc']\n",
            "[1, 2.3, 'abc', [], True]\n"
          ]
        }
      ],
      "source": [
        "# list\n",
        "l = [1, 2.3, \"abc\", []]\n",
        "print(l)\n",
        "print(type(l), l[0], l[-1], l[1:3])\n",
        "l.append(True)\n",
        "print(l)"
      ]
    },
    {
      "cell_type": "code",
      "execution_count": 7,
      "metadata": {
        "colab": {
          "base_uri": "https://localhost:8080/"
        },
        "id": "ysqrLCDAmFP1",
        "outputId": "aba04a03-a18f-440c-b11f-4e1c735239ce"
      },
      "outputs": [
        {
          "output_type": "stream",
          "name": "stdout",
          "text": [
            "(2, 3) 2\n"
          ]
        }
      ],
      "source": [
        "# tuple\n",
        "t = (2, 3)\n",
        "print(t, t[0])"
      ]
    },
    {
      "cell_type": "code",
      "execution_count": 8,
      "metadata": {
        "colab": {
          "base_uri": "https://localhost:8080/"
        },
        "id": "xqBco9VPmFP2",
        "outputId": "a2e6d3da-ac88-4ba7-e776-adcbc61bea8b"
      },
      "outputs": [
        {
          "output_type": "stream",
          "name": "stdout",
          "text": [
            "{3, 1, 2, 'a'}\n"
          ]
        }
      ],
      "source": [
        "# set\n",
        "s = {1, 2, \"a\"}\n",
        "s.add(3)\n",
        "s.add(2)\n",
        "print(s)"
      ]
    },
    {
      "cell_type": "code",
      "execution_count": 9,
      "metadata": {
        "colab": {
          "base_uri": "https://localhost:8080/"
        },
        "id": "BmwmA2mEmFP2",
        "outputId": "abc3064c-9cba-4e16-e947-7d944f4e4519"
      },
      "outputs": [
        {
          "output_type": "stream",
          "name": "stdout",
          "text": [
            "{'name': 'John', 'salary': 2000, 'position': 'software engineer'}\n",
            "John\n"
          ]
        }
      ],
      "source": [
        "# dict\n",
        "d = {\"name\": \"John\", \"salary\": 2000}\n",
        "d[\"position\"] = \"software engineer\"\n",
        "print(d)\n",
        "print(d[\"name\"])"
      ]
    },
    {
      "cell_type": "markdown",
      "metadata": {
        "id": "Hz_XSFgCmFP3"
      },
      "source": [
        "## Conditions and cycles"
      ]
    },
    {
      "cell_type": "markdown",
      "metadata": {
        "id": "vjKCJS0rmFP3"
      },
      "source": [
        "#### Conditions"
      ]
    },
    {
      "cell_type": "code",
      "execution_count": null,
      "metadata": {
        "id": "LEHwE0RGmFP3",
        "outputId": "8e6d8962-b1a1-495b-8032-4b6ef5689e82"
      },
      "outputs": [
        {
          "name": "stdout",
          "output_type": "stream",
          "text": [
            "yes\n",
            "a >= 2\n",
            "5\n"
          ]
        }
      ],
      "source": [
        "a = 5\n",
        "if a >= 2:\n",
        "    print(\"yes\")\n",
        "    print(\"a >= 2\")\n",
        "print(a)"
      ]
    },
    {
      "cell_type": "code",
      "execution_count": null,
      "metadata": {
        "id": "EomqeEormFP3",
        "outputId": "c4b38301-9322-4a1c-e919-bc88a5739529"
      },
      "outputs": [
        {
          "name": "stdout",
          "output_type": "stream",
          "text": [
            "yes\n",
            "hello\n",
            "a >= 2\n",
            "5\n"
          ]
        }
      ],
      "source": [
        "a = 5\n",
        "b = \"hello\"\n",
        "if a >= 2:\n",
        "    if b <= \"zzzz\":\n",
        "        print(\"yes\")\n",
        "        print(b)\n",
        "    else:\n",
        "        print(\"no\")\n",
        "    print(\"a >= 2\")\n",
        "print(a)"
      ]
    },
    {
      "cell_type": "code",
      "execution_count": null,
      "metadata": {
        "id": "FKwhgKammFP4",
        "outputId": "8204f9d6-29b4-4ae5-96ac-4010c7b7b5d7"
      },
      "outputs": [
        {
          "name": "stdout",
          "output_type": "stream",
          "text": [
            "a < 5\n"
          ]
        }
      ],
      "source": [
        "a = 4\n",
        "if a == 5:\n",
        "    print(\"a == 5\")\n",
        "elif a == 0:\n",
        "    print(\"a == 0 \")\n",
        "elif a < 5:\n",
        "    print(\"a < 5\")\n",
        "else:\n",
        "    print(\"a > 5\")"
      ]
    },
    {
      "cell_type": "markdown",
      "metadata": {
        "id": "IcChb9N9mFP4"
      },
      "source": [
        "#### Cycles"
      ]
    },
    {
      "cell_type": "code",
      "execution_count": null,
      "metadata": {
        "id": "X3pZLBKQmFP5",
        "outputId": "b005fbc8-ecfc-471b-8683-5c3d37a6d122"
      },
      "outputs": [
        {
          "name": "stdout",
          "output_type": "stream",
          "text": [
            "0\n",
            "1\n",
            "2\n"
          ]
        }
      ],
      "source": [
        "n = 0\n",
        "while n != 3:\n",
        "    print(n)\n",
        "    n += 1"
      ]
    },
    {
      "cell_type": "code",
      "execution_count": null,
      "metadata": {
        "id": "Rds3rWyOmFP5",
        "outputId": "bc17e2ce-abb2-415e-f18d-98855ece4bf2"
      },
      "outputs": [
        {
          "name": "stdout",
          "output_type": "stream",
          "text": [
            "0\n",
            "1\n",
            "2\n"
          ]
        }
      ],
      "source": [
        "for n in range(3):\n",
        "    print(n)"
      ]
    },
    {
      "cell_type": "code",
      "execution_count": null,
      "metadata": {
        "id": "y4Zs5T2imFP5",
        "outputId": "34e68aaf-9515-429f-ad0c-9be372f20f88"
      },
      "outputs": [
        {
          "name": "stdout",
          "output_type": "stream",
          "text": [
            "1\n",
            "4\n",
            "5\n"
          ]
        }
      ],
      "source": [
        "s = [1, 4, 5]\n",
        "for x in s:\n",
        "    print(x)"
      ]
    },
    {
      "cell_type": "code",
      "execution_count": null,
      "metadata": {
        "id": "fb0sr9YqmFP5",
        "outputId": "9411d1b7-14e2-46a9-fc4c-8c6aa231f83f"
      },
      "outputs": [
        {
          "name": "stdout",
          "output_type": "stream",
          "text": [
            "1\n",
            "3\n",
            "5\n",
            "7\n"
          ]
        }
      ],
      "source": [
        "for n in range(10):\n",
        "    if n % 2 == 0:\n",
        "        continue\n",
        "    print(n)\n",
        "    if n == 7:\n",
        "        break"
      ]
    },
    {
      "cell_type": "markdown",
      "metadata": {
        "id": "LkDFtweWmFP5"
      },
      "source": [
        "## Functions"
      ]
    },
    {
      "cell_type": "code",
      "execution_count": null,
      "metadata": {
        "id": "5eLlT4hbmFP5"
      },
      "outputs": [],
      "source": [
        "def function_1():\n",
        "    print(\"hello world\")\n",
        "\n",
        "def function_2(param1, param2):\n",
        "    print(\"Function has two parameters:\", param1, param2)\n",
        "    if type(param1) != int:\n",
        "        return\n",
        "    return param1 + param2\n",
        "\n",
        "def function_3(param1, param2=1):\n",
        "    print(\"Function has two parameters:\", param1, param2)\n",
        "    if type(param1) != int:\n",
        "        return\n",
        "    return param1 + param2"
      ]
    },
    {
      "cell_type": "code",
      "execution_count": null,
      "metadata": {
        "id": "hl19d3gVmFP5",
        "outputId": "04a86cfd-d6e2-4228-a950-1107c3e18bcc"
      },
      "outputs": [
        {
          "name": "stdout",
          "output_type": "stream",
          "text": [
            "hello world\n",
            "None\n"
          ]
        }
      ],
      "source": [
        "result = function_1()\n",
        "print(result)"
      ]
    },
    {
      "cell_type": "code",
      "execution_count": null,
      "metadata": {
        "id": "8LZshJ6KmFP5",
        "outputId": "99647a48-2d46-41d9-d528-a63bf3c82edb"
      },
      "outputs": [
        {
          "name": "stdout",
          "output_type": "stream",
          "text": [
            "Function print_demo2 has two parameters: 1 2\n",
            "3\n",
            "Function print_demo2 has two parameters: a 2\n",
            "None\n"
          ]
        }
      ],
      "source": [
        "result = function_2(1, 2)\n",
        "print(result)\n",
        "\n",
        "result = function_2(\"a\", 2)\n",
        "print(result)"
      ]
    },
    {
      "cell_type": "code",
      "execution_count": null,
      "metadata": {
        "id": "-eVF22fKmFP7",
        "outputId": "ae1865b0-bbc3-4789-fbd4-ad549cc47c43"
      },
      "outputs": [
        {
          "name": "stdout",
          "output_type": "stream",
          "text": [
            "Function has two parameters: 10 2\n",
            "12\n",
            "Function has two parameters: 12 1\n",
            "13\n"
          ]
        }
      ],
      "source": [
        "result = function_3(10, 2)\n",
        "print(result)\n",
        "\n",
        "result = function_3(12)\n",
        "print(result)"
      ]
    },
    {
      "cell_type": "markdown",
      "metadata": {
        "id": "PKBw2XX6mFP7"
      },
      "source": [
        "## Objects"
      ]
    },
    {
      "cell_type": "code",
      "execution_count": null,
      "metadata": {
        "id": "pMzEQomemFP7",
        "outputId": "373bfd33-ced9-45c1-fba7-1c538b7f7ac6"
      },
      "outputs": [
        {
          "name": "stdout",
          "output_type": "stream",
          "text": [
            "A new instance created with the following attributes: \n",
            "name: John, year of birth: 1936\n",
            "name: John, year of birth: 1937\n",
            "88\n"
          ]
        }
      ],
      "source": [
        "class Person:\n",
        "    '''A class representing a single person's record.'''\n",
        "    def __init__(self, name, year_of_birth):\n",
        "        '''Constructor that sets instance attributes.\n",
        "        Expects two arguments: name (str), age (int).'''\n",
        "        self.name = name\n",
        "        self.year_of_birth = year_of_birth\n",
        "        print(\"A new instance created with the following attributes: \")\n",
        "        print(self)\n",
        "\n",
        "    def __str__(self):\n",
        "        '''Prints formatted information about name and age attributes.'''\n",
        "        #print(\"Converting to string...\") #uncomment to see when __str__gets called\n",
        "        return f\"name: {self.name}, year of birth: {self.year_of_birth}\"\n",
        "\n",
        "    def compute_age(self):\n",
        "        '''Computes the age of person.'''\n",
        "        from datetime import datetime\n",
        "        current_year = datetime.now().year\n",
        "        return current_year-self.year_of_birth\n",
        "\n",
        "#create an instance\n",
        "p1 = Person(\"John\", 1936)\n",
        "\n",
        "#change the attribute 'year_of_birth'\n",
        "p1.year_of_birth=1937\n",
        "\n",
        "#print the information\n",
        "print(p1)\n",
        "\n",
        "# call a method\n",
        "print(p1.compute_age())"
      ]
    },
    {
      "cell_type": "markdown",
      "metadata": {
        "id": "AtTttPZEmFP7"
      },
      "source": [
        "### Importing modules and packages"
      ]
    },
    {
      "cell_type": "code",
      "execution_count": 10,
      "metadata": {
        "colab": {
          "base_uri": "https://localhost:8080/"
        },
        "id": "g80eG4qwmFP7",
        "outputId": "efc9d6d7-bc6c-425e-af25-a796d1258865"
      },
      "outputs": [
        {
          "output_type": "stream",
          "name": "stdout",
          "text": [
            "5.0\n",
            "[1 2 3]\n",
            "3\n",
            "c\n"
          ]
        }
      ],
      "source": [
        "import math\n",
        "import numpy as np\n",
        "from random import randint, choice as option\n",
        "\n",
        "# Use of imported entities\n",
        "print(math.sqrt(25))\n",
        "print(np.array([1, 2, 3]))\n",
        "\n",
        "print(randint(1, 10))\n",
        "print(option(['a', 'b', 'c']))"
      ]
    },
    {
      "cell_type": "code",
      "source": [],
      "metadata": {
        "id": "9HY7vfWzm9D1"
      },
      "execution_count": null,
      "outputs": []
    }
  ],
  "metadata": {
    "kernelspec": {
      "display_name": "Python 3",
      "language": "python",
      "name": "python3"
    },
    "language_info": {
      "codemirror_mode": {
        "name": "ipython",
        "version": 3
      },
      "file_extension": ".py",
      "mimetype": "text/x-python",
      "name": "python",
      "nbconvert_exporter": "python",
      "pygments_lexer": "ipython3",
      "version": "3.11.4"
    },
    "colab": {
      "provenance": [],
      "include_colab_link": true
    }
  },
  "nbformat": 4,
  "nbformat_minor": 0
}