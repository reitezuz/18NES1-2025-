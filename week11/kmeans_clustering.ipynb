{
  "nbformat": 4,
  "nbformat_minor": 0,
  "metadata": {
    "colab": {
      "provenance": [],
      "authorship_tag": "ABX9TyNO8/D8wk28xcAnbkUK4ENQ",
      "include_colab_link": true
    },
    "kernelspec": {
      "name": "python3",
      "display_name": "Python 3"
    },
    "language_info": {
      "name": "python"
    }
  },
  "cells": [
    {
      "cell_type": "markdown",
      "metadata": {
        "id": "view-in-github",
        "colab_type": "text"
      },
      "source": [
        "<a href=\"https://colab.research.google.com/github/reitezuz/18NES1-2025-/blob/main/week11/kmeans_clustering.ipynb\" target=\"_parent\"><img src=\"https://colab.research.google.com/assets/colab-badge.svg\" alt=\"Open In Colab\"/></a>"
      ]
    },
    {
      "cell_type": "markdown",
      "source": [
        "# K-means clustering\n",
        "- basic examples and visualizations"
      ],
      "metadata": {
        "id": "HalynkmsBBbH"
      }
    },
    {
      "cell_type": "markdown",
      "source": [
        "## Datasets"
      ],
      "metadata": {
        "id": "N_DCSGoSBLAm"
      }
    },
    {
      "cell_type": "markdown",
      "source": [
        "### Countries:"
      ],
      "metadata": {
        "id": "bNEoIZ2gAvX2"
      }
    },
    {
      "cell_type": "code",
      "source": [
        "import requests\n",
        "import pandas as pd\n",
        "from sklearn.preprocessing import StandardScaler\n",
        "\n",
        "def prepare_country_data_from_url(url, local_filename='countries.csv'):\n",
        "    \"\"\"\n",
        "    Download CSV from URL, save locally and prepare data for clustering.\n",
        "\n",
        "    Parameters:\n",
        "    url (str): URL to raw CSV\n",
        "    local_filename (str): local filename to save\n",
        "\n",
        "    Returns:\n",
        "    X_scaled (np.ndarray): normalized features\n",
        "    names (np.ndarray): country names\n",
        "    \"\"\"\n",
        "    # Download and save\n",
        "    response = requests.get(url)\n",
        "    if response.status_code != 200:\n",
        "        raise Exception(f\"Failed to download file, status code {response.status_code}\")\n",
        "    with open(local_filename, 'wb') as f:\n",
        "        f.write(response.content)\n",
        "\n",
        "    # Load and prepare\n",
        "\n",
        "    # Parse CSV\n",
        "    df = pd.read_csv(local_filename, sep=';')\n",
        "\n",
        "    # Features for clustering\n",
        "    X = df[['Area (sq. mi.)', 'Population']].values\n",
        "\n",
        "    # Normalize features\n",
        "    scaler = StandardScaler()\n",
        "    X_scaled = scaler.fit_transform(X)\n",
        "\n",
        "    # Names (for visualization or labeling)\n",
        "    names = df['Country'].values\n",
        "\n",
        "    return X_scaled, names\n",
        "\n",
        "X_countries, names_countries = prepare_country_data_from_url('/master/data/countries.csv')\n"
      ],
      "metadata": {
        "id": "_HZRmRIQCzKP"
      },
      "execution_count": null,
      "outputs": []
    },
    {
      "cell_type": "code",
      "source": [
        "\n",
        "import pandas as pd\n",
        "\n",
        "# Pozor na správné nastavení oddělovače:\n",
        "df = pd.read_csv('countries.csv', sep=';')\n",
        "\n",
        "print(df.head())"
      ],
      "metadata": {
        "colab": {
          "base_uri": "https://localhost:8080/"
        },
        "id": "f6C1V3MZDQQv",
        "outputId": "e8a26a2c-5116-49b0-f142-6b4cabe664ef"
      },
      "execution_count": 2,
      "outputs": [
        {
          "output_type": "stream",
          "name": "stdout",
          "text": [
            "           Country  Population  Area (sq. mi.)\n",
            "0     Afghanistan     31056997          647500\n",
            "1         Albania      3581655           28748\n",
            "2         Algeria     32930091         2381740\n",
            "3  American Samoa        57794             199\n",
            "4         Andorra        71201             468\n"
          ]
        }
      ]
    }
  ]
}